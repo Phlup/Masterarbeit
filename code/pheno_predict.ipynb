{
 "cells": [
  {
   "cell_type": "code",
   "execution_count": 1,
   "id": "24bf95d8-3212-4c79-ae3d-812b4d71ee1d",
   "metadata": {},
   "outputs": [
    {
     "name": "stderr",
     "output_type": "stream",
     "text": [
      "C:\\Users\\PHLUP\\miniconda3\\envs\\masterarbeit\\Lib\\site-packages\\stdpopsim\\catalog\\HomSap\\demographic_models.py:158: FutureWarning: Calling int on a single element Series is deprecated and will raise a TypeError in the future. Use int(ser.iloc[0]) instead\n",
      "  time=int(extended_GF.time.head(1) - 1), rate=0\n",
      "C:\\Users\\PHLUP\\miniconda3\\envs\\masterarbeit\\Lib\\site-packages\\stdpopsim\\catalog\\HomSap\\demographic_models.py:161: FutureWarning: Calling int on a single element Series is deprecated and will raise a TypeError in the future. Use int(ser.iloc[0]) instead\n",
      "  time=int(extended_GF.time.tail(1) + 1), rate=0\n"
     ]
    }
   ],
   "source": [
    "from project_lib.genotype_simulation import *\n",
    "from project_lib.stat_functions import *"
   ]
  },
  {
   "cell_type": "code",
   "execution_count": null,
   "id": "13389de2-3aab-4bdd-9f36-0c87e5b186cb",
   "metadata": {},
   "outputs": [],
   "source": [
    "#implement rf (feature importance) and tf cnn (window size) to predict phenotypes from geno sim data using NAM pop training data\n",
    "#try to associate training features with recombination tracts"
   ]
  },
  {
   "cell_type": "code",
   "execution_count": null,
   "id": "870a0605-155a-417e-8eb5-c1757ec681b7",
   "metadata": {},
   "outputs": [],
   "source": [
    "#import geno sim and real pop data"
   ]
  },
  {
   "cell_type": "code",
   "execution_count": null,
   "id": "9067d106-86aa-4f1d-93f3-26b1f55fc964",
   "metadata": {},
   "outputs": [],
   "source": [
    "#predict on real pop data to train model parameters"
   ]
  },
  {
   "cell_type": "code",
   "execution_count": null,
   "id": "02da8b11-6b90-46db-b49d-b4fb03abc0a4",
   "metadata": {},
   "outputs": [],
   "source": [
    "#use learned parameters to calculate phenotypes from genotype sim data"
   ]
  },
  {
   "cell_type": "code",
   "execution_count": null,
   "id": "7fa97c03-4f01-45b5-a025-da689493f92a",
   "metadata": {},
   "outputs": [],
   "source": [
    "#vary over all input crosses to determine highest trait (predicted value)"
   ]
  },
  {
   "cell_type": "code",
   "execution_count": null,
   "id": "b56050ae-9275-42de-a4f4-caa2c7f0b33b",
   "metadata": {},
   "outputs": [],
   "source": [
    "#question: which real pop dataset to use for training? concatenate all?"
   ]
  }
 ],
 "metadata": {
  "kernelspec": {
   "display_name": "Python 3 (ipykernel)",
   "language": "python",
   "name": "python3"
  },
  "language_info": {
   "codemirror_mode": {
    "name": "ipython",
    "version": 3
   },
   "file_extension": ".py",
   "mimetype": "text/x-python",
   "name": "python",
   "nbconvert_exporter": "python",
   "pygments_lexer": "ipython3",
   "version": "3.11.4"
  }
 },
 "nbformat": 4,
 "nbformat_minor": 5
}
