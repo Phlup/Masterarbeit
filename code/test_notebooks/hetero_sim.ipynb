{
 "cells": [
  {
   "cell_type": "code",
   "execution_count": null,
   "id": "5c0ffcde-f7cd-4a8b-985b-14a05dd31cea",
   "metadata": {},
   "outputs": [],
   "source": [
    "from pedigree_functions import *\n",
    "import matplotlib.pyplot as plt\n",
    "import scipy.stats as stats"
   ]
  },
  {
   "cell_type": "code",
   "execution_count": null,
   "id": "a4ae0476-77a7-411e-b161-95ed01a95bde",
   "metadata": {},
   "outputs": [],
   "source": [
    "#notebook to test if all genotypes are heterozygous after one generation of crossing all homozygous"
   ]
  },
  {
   "cell_type": "code",
   "execution_count": null,
   "id": "5b572b43-0035-4f34-b972-8b5eef18dcb9",
   "metadata": {},
   "outputs": [],
   "source": [
    "#read genetic map\n",
    "genmap = pd.read_csv(\"data/test_data/B73_genmap.csv\")\n",
    "#read parent genotypes\n",
    "parent_genos = pd.read_csv(\"data/test_data/NAM_parent_genos.csv\")\n",
    "#read reference allele\n",
    "ref_allele = pd.read_csv(\"data/test_data/B73_alleles.csv\")"
   ]
  },
  {
   "cell_type": "code",
   "execution_count": null,
   "id": "24faa72b-c317-4bf3-850d-76053bed590e",
   "metadata": {},
   "outputs": [],
   "source": [
    "#constant recombination rate test\n",
    "#heterozygotes after one geno test\n",
    "#sim ancestry after selective mating cross 5 offspring, propagate geno: full heterozygotes?\n",
    "het = pedigree_init(2)\n",
    "het = add_selective_mating(het, list([0,1]), 5)\n",
    "het_ts = df_to_ts(het, seq_len = 100)\n",
    "het_arg = msprime.sim_ancestry(initial_state = het_ts, model = \"fixed_pedigree\", recombination_rate = 0.01)\n"
   ]
  },
  {
   "cell_type": "code",
   "execution_count": null,
   "id": "9b72766b-7338-46aa-b08c-aa9b84ecb2b1",
   "metadata": {},
   "outputs": [],
   "source": [
    "print(het_arg.dump_tables())"
   ]
  },
  {
   "cell_type": "code",
   "execution_count": null,
   "id": "c118aafe-ed4c-4a0f-9fd8-884aab0bb06d",
   "metadata": {},
   "outputs": [],
   "source": [
    "het_map = genmap.iloc[0:3]\n",
    "het_map[\"Position(bp)\"] = list([25,50,75])\n",
    "het_map[\"Rate(cM/Mb)\"] = list([0,0,0])\n",
    "het_map[\"Map(cM)\"] = list([0,0,0])"
   ]
  },
  {
   "cell_type": "code",
   "execution_count": null,
   "id": "cc523397-7879-4d51-8148-7e97f337cea7",
   "metadata": {},
   "outputs": [],
   "source": [
    "het_founders = get_founder_nodes(parent_genos, list([\"B73\", \"B97\"]))"
   ]
  },
  {
   "cell_type": "code",
   "execution_count": null,
   "id": "6e182a52-a2f0-4f84-8a03-be3fc76d74d8",
   "metadata": {},
   "outputs": [],
   "source": [
    "het_geno = propagate_geno(het_arg, het_founders, het_map)"
   ]
  },
  {
   "cell_type": "code",
   "execution_count": null,
   "id": "6896d6a9-aaee-4c5e-a582-cf66c9aa36f9",
   "metadata": {},
   "outputs": [],
   "source": [
    "het_geno"
   ]
  },
  {
   "cell_type": "code",
   "execution_count": null,
   "id": "98d8f721-e42b-4476-96b4-2d3d6be3ea12",
   "metadata": {},
   "outputs": [],
   "source": [
    "join_nodes(het_arg, het_geno)"
   ]
  }
 ],
 "metadata": {
  "kernelspec": {
   "display_name": "Python 3 (ipykernel)",
   "language": "python",
   "name": "python3"
  },
  "language_info": {
   "codemirror_mode": {
    "name": "ipython",
    "version": 3
   },
   "file_extension": ".py",
   "mimetype": "text/x-python",
   "name": "python",
   "nbconvert_exporter": "python",
   "pygments_lexer": "ipython3",
   "version": "3.11.4"
  }
 },
 "nbformat": 4,
 "nbformat_minor": 5
}
