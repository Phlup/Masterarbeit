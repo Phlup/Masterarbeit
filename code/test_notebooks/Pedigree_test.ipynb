{
 "cells": [
  {
   "cell_type": "code",
   "execution_count": 1,
   "id": "ed80a224-8b04-4a9a-9255-41b0fe15ec8c",
   "metadata": {},
   "outputs": [
    {
     "name": "stderr",
     "output_type": "stream",
     "text": [
      "C:\\Users\\PHLUP\\miniconda3\\envs\\masterarbeit\\Lib\\site-packages\\stdpopsim\\catalog\\HomSap\\demographic_models.py:158: FutureWarning: Calling int on a single element Series is deprecated and will raise a TypeError in the future. Use int(ser.iloc[0]) instead\n",
      "  time=int(extended_GF.time.head(1) - 1), rate=0\n",
      "C:\\Users\\PHLUP\\miniconda3\\envs\\masterarbeit\\Lib\\site-packages\\stdpopsim\\catalog\\HomSap\\demographic_models.py:161: FutureWarning: Calling int on a single element Series is deprecated and will raise a TypeError in the future. Use int(ser.iloc[0]) instead\n",
      "  time=int(extended_GF.time.tail(1) + 1), rate=0\n"
     ]
    }
   ],
   "source": [
    "from project_lib.genotype_simulation import *\n",
    "from project_lib.stat_functions import *\n",
    "import matplotlib.pyplot as plt\n",
    "import scipy.stats as stats"
   ]
  },
  {
   "cell_type": "code",
   "execution_count": 2,
   "id": "9d52f4e4-8ebb-4db9-978d-fb467cd56940",
   "metadata": {},
   "outputs": [],
   "source": [
    "#visualize pedigrees\n",
    "def draw_pedigree(ped_ts):\n",
    "    G = nx.DiGraph()\n",
    "    for ind in ped_ts.individuals():\n",
    "        time = ped_ts.node(ind.nodes[0]).time\n",
    "        pop = ped_ts.node(ind.nodes[0]).population\n",
    "        G.add_node(ind.id, time=time, population=pop)\n",
    "        for p in ind.parents:\n",
    "            if p != tskit.NULL:\n",
    "                G.add_edge(ind.id, p)\n",
    "    pos = nx.multipartite_layout(G, subset_key=\"time\", align=\"horizontal\")\n",
    "    colours = plt.rcParams['axes.prop_cycle'].by_key()['color']\n",
    "    node_colours = [colours[node_attr[\"population\"]] for node_attr in G.nodes.values()]\n",
    "    nx.draw_networkx(G, pos, with_labels=True, node_color=node_colours)\n",
    "    plt.show()\n"
   ]
  },
  {
   "cell_type": "code",
   "execution_count": 3,
   "id": "5b732d7c-6efb-4893-bd85-7b04f25c72f8",
   "metadata": {},
   "outputs": [
    {
     "name": "stdout",
     "output_type": "stream",
     "text": [
      "TableCollection\n",
      "\n",
      "Sequence Length: 100.0\n",
      "Time units: generations\n",
      "Metadata: b''\n",
      "\n",
      "Individuals\n",
      "╔══╤═════╤════════╤═══════╤════════╗\n",
      "║id│flags│location│parents│metadata║\n",
      "╠══╪═════╪════════╪═══════╪════════╣\n",
      "║0 │    0│        │ -1, -1│        ║\n",
      "║1 │    0│        │ -1, -1│        ║\n",
      "║2 │    0│        │   0, 1│        ║\n",
      "╚══╧═════╧════════╧═══════╧════════╝\n",
      "\n",
      "Nodes\n",
      "╔══╤═════╤══════════╤══════════╤════╤════════╗\n",
      "║id│flags│population│individual│time│metadata║\n",
      "╠══╪═════╪══════════╪══════════╪════╪════════╣\n",
      "║0 │    0│         0│         0│   1│        ║\n",
      "║1 │    0│         0│         0│   1│        ║\n",
      "║2 │    0│         0│         1│   1│        ║\n",
      "║3 │    0│         0│         1│   1│        ║\n",
      "║4 │    1│         0│         2│   0│        ║\n",
      "║5 │    1│         0│         2│   0│        ║\n",
      "╚══╧═════╧══════════╧══════════╧════╧════════╝\n",
      "\n",
      "Edges\n",
      "╔══╤════╤═════╤══════╤═════╤════════╗\n",
      "║id│left│right│parent│child│metadata║\n",
      "╠══╪════╪═════╪══════╪═════╪════════╣\n",
      "╚══╧════╧═════╧══════╧═════╧════════╝\n",
      "\n",
      "Sites\n",
      "╔══╤════════╤═══════════════╤════════╗\n",
      "║id│position│ancestral_state│metadata║\n",
      "╠══╪════════╪═══════════════╪════════╣\n",
      "╚══╧════════╧═══════════════╧════════╝\n",
      "\n",
      "Mutations\n",
      "╔══╤════╤════╤════╤═════════════╤══════╤════════╗\n",
      "║id│site│node│time│derived_state│parent│metadata║\n",
      "╠══╪════╪════╪════╪═════════════╪══════╪════════╣\n",
      "╚══╧════╧════╧════╧═════════════╧══════╧════════╝\n",
      "\n",
      "Migrations\n",
      "╔══╤════╤═════╤════╤══════╤════╤════╤════════╗\n",
      "║id│left│right│node│source│dest│time│metadata║\n",
      "╠══╪════╪═════╪════╪══════╪════╪════╪════════╣\n",
      "╚══╧════╧═════╧════╧══════╧════╧════╧════════╝\n",
      "\n",
      "Populations\n",
      "╔══╤════════════════════════════════════╗\n",
      "║id│metadata                            ║\n",
      "╠══╪════════════════════════════════════╣\n",
      "║0 │{'description': '', 'name': 'pop_0'}║\n",
      "╚══╧════════════════════════════════════╝\n",
      "\n",
      "Provenances\n",
      "╔══╤═════════╤══════╗\n",
      "║id│timestamp│record║\n",
      "╠══╪═════════╪══════╣\n",
      "╚══╧═════════╧══════╝\n",
      "\n"
     ]
    }
   ],
   "source": [
    "#given msprime functionality\n",
    "pb = msprime.PedigreeBuilder()\n",
    "mom_id = pb.add_individual(time=1)\n",
    "dad_id = pb.add_individual(time=1)\n",
    "pb.add_individual(time=0, parents=[mom_id, dad_id], is_sample=True)\n",
    "pedigree = pb.finalise(sequence_length = 100)\n",
    " #TODO replace with display(pedigree) when its implemented in tskit\n",
    " #https://github.com/tskit-dev/tskit/issues/2093\n",
    "print(pedigree)"
   ]
  },
  {
   "cell_type": "code",
   "execution_count": 4,
   "id": "ef551e15-09a7-4aae-8736-5212c2c11e1f",
   "metadata": {},
   "outputs": [
    {
     "data": {
      "image/png": "[encoded data removed]",
      "text/plain": [
       "<Figure size 640x480 with 1 Axes>"
      ]
     },
     "metadata": {},
     "output_type": "display_data"
    }
   ],
   "source": [
    "#example pedigrees\n",
    "#id doesnt matter except for parent child relationships\n",
    "ped_txt = \"\"\"\\\n",
    "# id parent0 parent1 time\n",
    "0 7 7 0.0\n",
    "1 7 7 0.0\n",
    "2 8 8 0.0\n",
    "3 9 9 0.0\n",
    "4 9 9 0.0\n",
    "5 10 10 0.0\n",
    "6 10 10 0.0\n",
    "7 11 12 1.0\n",
    "8 11 12 1.0\n",
    "9 11 12 1.0\n",
    "10 11 12 1.0\n",
    "11 . . 2.0\n",
    "12 . . 2.0\n",
    "\"\"\"\n",
    "\n",
    "pedigree = msprime.parse_pedigree(io.StringIO(ped_txt), sequence_length = 100)\n",
    "\n",
    "draw_pedigree(pedigree.tree_sequence())"
   ]
  },
  {
   "cell_type": "code",
   "execution_count": 5,
   "id": "1959a841-4535-42f8-a64f-c26399905629",
   "metadata": {
    "scrolled": true
   },
   "outputs": [
    {
     "data": {
      "text/html": [
       "\n",
       "            <div>\n",
       "              <style>\n",
       "                .tskit-table thead tr th {text-align: left;padding: 0.5em 0.5em;}\n",
       "                .tskit-table tbody tr td {padding: 0.5em 0.5em;}\n",
       "                .tskit-table tbody tr td:first-of-type {text-align: left;}\n",
       "                .tskit-details-label {vertical-align: top; padding-right:5px;}\n",
       "                .tskit-table-set {display: inline-flex;flex-wrap: wrap;margin: -12px 0 0 -12px;width: calc(100% + 12px);}\n",
       "                .tskit-table-set-table {margin: 12px 0 0 12px;}\n",
       "                details {display: inline-block;}\n",
       "                summary {cursor: pointer; outline: 0; display: list-item;}\n",
       "              </style>\n",
       "              <div class=\"tskit-table-set\">\n",
       "                <div class=\"tskit-table-set-table\">\n",
       "                  <table class=\"tskit-table\">\n",
       "                    <thead>\n",
       "                      <tr>\n",
       "                        <th style=\"padding:0;line-height:21px;\">\n",
       "                          <img style=\"height: 32px;display: inline-block;padding: 3px 5px 3px 0;\" src=\"https://raw.githubusercontent.com/tskit-dev/administrative/main/tskit_logo.svg\"/>\n",
       "                          <a target=\"_blank\" href=\"https://tskit.dev/tskit/docs/latest/python-api.html#the-treesequence-class\"> Tree Sequence </a>\n",
       "                        </th>\n",
       "                      </tr>\n",
       "                    </thead>\n",
       "                    <tbody>\n",
       "                      <tr><td>Trees</td><td>1</td></tr>\n",
       "                      <tr><td>Sequence Length</td><td>100.0</td></tr>\n",
       "                      <tr><td>Time Units</td><td>generations</td></tr>\n",
       "                      <tr><td>Sample Nodes</td><td>14</td></tr>\n",
       "                      <tr><td>Total Size</td><td>1.7 KiB</td></tr>\n",
       "                      <tr>\n",
       "                        <td>Metadata</td><td style=\"text-align: left;\">No Metadata</td></tr>\n",
       "                    </tbody>\n",
       "                  </table>\n",
       "                </div>\n",
       "                <div class=\"tskit-table-set-table\">\n",
       "                  <table class=\"tskit-table\">\n",
       "                    <thead>\n",
       "                      <tr>\n",
       "                        <th style=\"line-height:21px;\">Table</th>\n",
       "                        <th>Rows</th>\n",
       "                        <th>Size</th>\n",
       "                        <th>Has Metadata</th>\n",
       "                      </tr>\n",
       "                    </thead>\n",
       "                    <tbody>\n",
       "                    \n",
       "                  <tr>\n",
       "                    <td>Edges</td>\n",
       "                      <td>0</td>\n",
       "                      <td>8 Bytes</td>\n",
       "                      <td style=\"text-align: center;\">\n",
       "                        \n",
       "                      </td>\n",
       "                    </tr>\n",
       "                \n",
       "                  <tr>\n",
       "                    <td>Individuals</td>\n",
       "                      <td>13</td>\n",
       "                      <td>706 Bytes</td>\n",
       "                      <td style=\"text-align: center;\">\n",
       "                        ✅\n",
       "                      </td>\n",
       "                    </tr>\n",
       "                \n",
       "                  <tr>\n",
       "                    <td>Migrations</td>\n",
       "                      <td>0</td>\n",
       "                      <td>8 Bytes</td>\n",
       "                      <td style=\"text-align: center;\">\n",
       "                        \n",
       "                      </td>\n",
       "                    </tr>\n",
       "                \n",
       "                  <tr>\n",
       "                    <td>Mutations</td>\n",
       "                      <td>0</td>\n",
       "                      <td>16 Bytes</td>\n",
       "                      <td style=\"text-align: center;\">\n",
       "                        \n",
       "                      </td>\n",
       "                    </tr>\n",
       "                \n",
       "                  <tr>\n",
       "                    <td>Nodes</td>\n",
       "                      <td>26</td>\n",
       "                      <td>736 Bytes</td>\n",
       "                      <td style=\"text-align: center;\">\n",
       "                        \n",
       "                      </td>\n",
       "                    </tr>\n",
       "                \n",
       "                  <tr>\n",
       "                    <td>Populations</td>\n",
       "                      <td>1</td>\n",
       "                      <td>224 Bytes</td>\n",
       "                      <td style=\"text-align: center;\">\n",
       "                        ✅\n",
       "                      </td>\n",
       "                    </tr>\n",
       "                \n",
       "                  <tr>\n",
       "                    <td>Provenances</td>\n",
       "                      <td>0</td>\n",
       "                      <td>16 Bytes</td>\n",
       "                      <td style=\"text-align: center;\">\n",
       "                        \n",
       "                      </td>\n",
       "                    </tr>\n",
       "                \n",
       "                  <tr>\n",
       "                    <td>Sites</td>\n",
       "                      <td>0</td>\n",
       "                      <td>16 Bytes</td>\n",
       "                      <td style=\"text-align: center;\">\n",
       "                        \n",
       "                      </td>\n",
       "                    </tr>\n",
       "                \n",
       "                    </tbody>\n",
       "                  </table>\n",
       "                </div>\n",
       "              </div>\n",
       "            </div>\n",
       "            "
      ],
      "text/plain": [
       "<tskit.trees.TreeSequence at 0x233920ac8d0>"
      ]
     },
     "execution_count": 5,
     "metadata": {},
     "output_type": "execute_result"
    }
   ],
   "source": [
    "pedigree.tree_sequence()"
   ]
  },
  {
   "cell_type": "code",
   "execution_count": 6,
   "id": "a3be13fb-1f5d-46c0-8b93-12565de2a508",
   "metadata": {},
   "outputs": [
    {
     "name": "stdout",
     "output_type": "stream",
     "text": [
      "2.00┊                                 ┊ \n",
      "    ┊                                 ┊ \n",
      "1.00┊                                 ┊ \n",
      "    ┊                                 ┊ \n",
      "0.00┊ 0 1 2 3 4 5 6 7 8 9 10 11 12 13 ┊ \n",
      "    0                                100\n",
      "\n"
     ]
    }
   ],
   "source": [
    "#empty without ancestry and mutations\n",
    "print(pedigree.tree_sequence().draw_text(y_axis=True, y_ticks=[0, 1, 2, 3, 4, 5]))"
   ]
  },
  {
   "cell_type": "code",
   "execution_count": 10,
   "id": "2a9f9856-8df7-4df4-89df-a548da124359",
   "metadata": {},
   "outputs": [],
   "source": [
    "#add ancestry simulations\n",
    "ped_ts = msprime.sim_ancestry(\n",
    "    initial_state=pedigree, model=\"fixed_pedigree\", random_seed=41, recombination_rate = 0)"
   ]
  },
  {
   "cell_type": "code",
   "execution_count": 11,
   "id": "bbc31e94-c8b0-44bd-a062-a8db71d0b2ae",
   "metadata": {},
   "outputs": [
    {
     "name": "stdout",
     "output_type": "stream",
     "text": [
      "TableCollection\n",
      "\n",
      "Sequence Length: 100.0\n",
      "Time units: generations\n",
      "Metadata: b''\n",
      "\n",
      "Individuals\n",
      "╔══╤═════╤════════╤═══════╤═════════════════╗\n",
      "║id│flags│location│parents│metadata         ║\n",
      "╠══╪═════╪════════╪═══════╪═════════════════╣\n",
      "║0 │    0│        │   7, 7│ {'file_id': '0'}║\n",
      "║1 │    0│        │   7, 7│ {'file_id': '1'}║\n",
      "║2 │    0│        │   8, 8│ {'file_id': '2'}║\n",
      "║3 │    0│        │   9, 9│ {'file_id': '3'}║\n",
      "║4 │    0│        │   9, 9│ {'file_id': '4'}║\n",
      "║5 │    0│        │ 10, 10│ {'file_id': '5'}║\n",
      "║6 │    0│        │ 10, 10│ {'file_id': '6'}║\n",
      "║7 │    0│        │ 11, 12│ {'file_id': '7'}║\n",
      "║8 │    0│        │ 11, 12│ {'file_id': '8'}║\n",
      "║9 │    0│        │ 11, 12│ {'file_id': '9'}║\n",
      "║10│    0│        │ 11, 12│{'file_id': '10'}║\n",
      "║11│    0│        │ -1, -1│{'file_id': '11'}║\n",
      "║12│    0│        │ -1, -1│{'file_id': '12'}║\n",
      "╚══╧═════╧════════╧═══════╧═════════════════╝\n",
      "\n",
      "Nodes\n",
      "╔══╤═════╤══════════╤══════════╤════╤════════╗\n",
      "║id│flags│population│individual│time│metadata║\n",
      "╠══╪═════╪══════════╪══════════╪════╪════════╣\n",
      "║0 │    1│         0│         0│   0│        ║\n",
      "║1 │    1│         0│         0│   0│        ║\n",
      "║2 │    1│         0│         1│   0│        ║\n",
      "║3 │    1│         0│         1│   0│        ║\n",
      "║4 │    1│         0│         2│   0│        ║\n",
      "║5 │    1│         0│         2│   0│        ║\n",
      "║6 │    1│         0│         3│   0│        ║\n",
      "║7 │    1│         0│         3│   0│        ║\n",
      "║8 │    1│         0│         4│   0│        ║\n",
      "║9 │    1│         0│         4│   0│        ║\n",
      "║10│    1│         0│         5│   0│        ║\n",
      "║11│    1│         0│         5│   0│        ║\n",
      "║12│    1│         0│         6│   0│        ║\n",
      "║13│    1│         0│         6│   0│        ║\n",
      "║14│    0│         0│         7│   1│        ║\n",
      "║15│    0│         0│         7│   1│        ║\n",
      "║16│    0│         0│         8│   1│        ║\n",
      "║17│    0│         0│         8│   1│        ║\n",
      "║18│    0│         0│         9│   1│        ║\n",
      "║19│    0│         0│         9│   1│        ║\n",
      "║20│    0│         0│        10│   1│        ║\n",
      "║21│    0│         0│        10│   1│        ║\n",
      "║22│    0│         0│        11│   2│        ║\n",
      "║23│    0│         0│        11│   2│        ║\n",
      "║24│    0│         0│        12│   2│        ║\n",
      "║25│    0│         0│        12│   2│        ║\n",
      "╚══╧═════╧══════════╧══════════╧════╧════════╝\n",
      "\n",
      "Edges\n",
      "╔══╤════╤═════╤══════╤═════╤════════╗\n",
      "║id│left│right│parent│child│metadata║\n",
      "╠══╪════╪═════╪══════╪═════╪════════╣\n",
      "║0 │   0│  100│    14│    0│        ║\n",
      "║1 │   0│  100│    14│    2│        ║\n",
      "║2 │   0│  100│    14│    3│        ║\n",
      "║3 │   0│  100│    18│    6│        ║\n",
      "║4 │   0│  100│    18│    8│        ║\n",
      "║5 │   0│  100│    19│    7│        ║\n",
      "║6 │   0│  100│    19│    9│        ║\n",
      "║7 │   0│  100│    21│   10│        ║\n",
      "║8 │   0│  100│    21│   11│        ║\n",
      "║9 │   0│  100│    21│   13│        ║\n",
      "║10│   0│  100│    22│   12│        ║\n",
      "║11│   0│  100│    22│   18│        ║\n",
      "║12│   0│  100│    23│    5│        ║\n",
      "║13│   0│  100│    23│   14│        ║\n",
      "║14│   0│  100│    24│   21│        ║\n",
      "║15│   0│  100│    25│    1│        ║\n",
      "║16│   0│  100│    25│    4│        ║\n",
      "║17│   0│  100│    25│   19│        ║\n",
      "╚══╧════╧═════╧══════╧═════╧════════╝\n",
      "\n",
      "Sites\n",
      "╔══╤════════╤═══════════════╤════════╗\n",
      "║id│position│ancestral_state│metadata║\n",
      "╠══╪════════╪═══════════════╪════════╣\n",
      "╚══╧════════╧═══════════════╧════════╝\n",
      "\n",
      "Mutations\n",
      "╔══╤════╤════╤════╤═════════════╤══════╤════════╗\n",
      "║id│site│node│time│derived_state│parent│metadata║\n",
      "╠══╪════╪════╪════╪═════════════╪══════╪════════╣\n",
      "╚══╧════╧════╧════╧═════════════╧══════╧════════╝\n",
      "\n",
      "Migrations\n",
      "╔══╤════╤═════╤════╤══════╤════╤════╤════════╗\n",
      "║id│left│right│node│source│dest│time│metadata║\n",
      "╠══╪════╪═════╪════╪══════╪════╪════╪════════╣\n",
      "╚══╧════╧═════╧════╧══════╧════╧════╧════════╝\n",
      "\n",
      "Populations\n",
      "╔══╤════════════════════════════════════╗\n",
      "║id│metadata                            ║\n",
      "╠══╪════════════════════════════════════╣\n",
      "║0 │{'description': '', 'name': 'pop_0'}║\n",
      "╚══╧════════════════════════════════════╝\n",
      "\n",
      "Provenances\n",
      "╔══╤══════════════════════════╤════════════════════════════════════════════════════════════╗\n",
      "║id│timestamp                 │record                                                      ║\n",
      "╠══╪══════════════════════════╪════════════════════════════════════════════════════════════╣\n",
      "║0 │2024-01-18T17:31:54.926027│{\"schema_version\": \"1.0.0\", \"software\": {\"name\": \"msprime...║\n",
      "╚══╧══════════════════════════╧════════════════════════════════════════════════════════════╝\n",
      "\n"
     ]
    }
   ],
   "source": [
    "print(ped_ts.dump_tables())"
   ]
  },
  {
   "cell_type": "code",
   "execution_count": null,
   "id": "e4123b44-d96e-41dc-b5fd-e6fa0401bf42",
   "metadata": {},
   "outputs": [],
   "source": [
    "ped_ts = msprime.sim_mutations(ped_ts, rate = 0.001, random_seed = 42)"
   ]
  },
  {
   "cell_type": "code",
   "execution_count": null,
   "id": "bdf91616-d2e9-464e-9f37-03031f3fafaf",
   "metadata": {},
   "outputs": [],
   "source": [
    "ped_ts.dump_tables().tree_sequence()"
   ]
  },
  {
   "cell_type": "code",
   "execution_count": null,
   "id": "994b9ae6-aacd-4601-85f8-e31163caee3c",
   "metadata": {
    "scrolled": true
   },
   "outputs": [],
   "source": [
    "#print ancestry\n",
    "node_labels = {node.id: f\"{node.individual}({node.id})\" for node in ped_ts.nodes()}\n",
    "#SVG(ped_ts.draw_svg(y_axis=True,  node_labels=node_labels, size=(1600,200)))"
   ]
  },
  {
   "cell_type": "code",
   "execution_count": null,
   "id": "4b21b57f-fd3c-41cc-bf92-a93c7d2565d7",
   "metadata": {},
   "outputs": [],
   "source": [
    "ped_ts2 = msprime.sim_ancestry(initial_state = ped_ts, model = \"dtwf\", recombination_rate= 0.001, population_size = 13, random_seed = 42)\n",
    "node_labels = {node.id: f\"{node.individual}({node.id})\" for node in ped_ts2.nodes()}\n",
    "#SVG(ped_ts2.draw_svg(y_axis = True, node_labels = node_labels, size = (1600,600)))"
   ]
  },
  {
   "cell_type": "code",
   "execution_count": null,
   "id": "73b55c71-e907-4a14-a67b-3424d572aaf3",
   "metadata": {
    "scrolled": true
   },
   "outputs": [],
   "source": [
    "ped_ts2.tables.mutations"
   ]
  },
  {
   "cell_type": "code",
   "execution_count": null,
   "id": "765b0d89-116a-49b1-831e-c7b28e5903bc",
   "metadata": {},
   "outputs": [],
   "source": [
    "#statistics\n",
    "ped_ts.diversity(mode = \"branch\")"
   ]
  },
  {
   "cell_type": "code",
   "execution_count": null,
   "id": "f547dd48-0d57-4e98-89a1-ab8714ccebe0",
   "metadata": {},
   "outputs": [],
   "source": [
    "ped_ts.sites()[1]"
   ]
  },
  {
   "cell_type": "code",
   "execution_count": null,
   "id": "6d902a18-1300-4614-aeaf-91907f2bb29d",
   "metadata": {},
   "outputs": [],
   "source": [
    "[ped_ts.sites()[x] for x in range(0,len(ped_ts.sites()))]"
   ]
  },
  {
   "cell_type": "code",
   "execution_count": null,
   "id": "21ab52e9-43e2-4d13-ac04-ba6a510cbf57",
   "metadata": {},
   "outputs": [],
   "source": [
    "ped_ts2.breakpoints(as_array = True)"
   ]
  },
  {
   "cell_type": "code",
   "execution_count": null,
   "id": "adf7c187-8d3e-4109-b54c-197562357bde",
   "metadata": {
    "scrolled": true
   },
   "outputs": [],
   "source": [
    "#export ts\n",
    "ped_ts.write_vcf(sys.stdout)"
   ]
  },
  {
   "cell_type": "code",
   "execution_count": null,
   "id": "e1d8b083-94e1-47e2-8be1-8471847d6895",
   "metadata": {
    "scrolled": true
   },
   "outputs": [],
   "source": [
    "segments = ped_ts.ibd_segments(store_pairs = True, store_segments = True)\n",
    "for pair, value in segments.items():\n",
    "    print(pair, \"::\", value)\n",
    "print(segments)"
   ]
  },
  {
   "cell_type": "code",
   "execution_count": null,
   "id": "4cc9fa47-8f66-4d2c-be49-af82db319a89",
   "metadata": {},
   "outputs": [],
   "source": [
    "#load simulated chrom 21 from Trocmé et al on genes quebec\n",
    "#ts = tszip.decompress(\"simulated_chrom_21.ts.tsz\")"
   ]
  },
  {
   "cell_type": "code",
   "execution_count": null,
   "id": "d0d2df89-74fd-416b-96df-5e7752bb3a7d",
   "metadata": {},
   "outputs": [],
   "source": [
    "#not enough memory on laptop\n",
    "#print(ts.draw_text())"
   ]
  },
  {
   "cell_type": "code",
   "execution_count": null,
   "id": "bcf450dd-776a-4b35-bf31-117d60a9daa8",
   "metadata": {},
   "outputs": [],
   "source": [
    "#read genetic map\n",
    "genmap = pd.read_csv(\"data/test_data/B73_genmap.csv\")\n",
    "#read parent genotypes\n",
    "parent_genos = pd.read_csv(\"data/test_data/NAM_parent_genos.csv\")\n",
    "#read reference allele\n",
    "ref_allele = pd.read_csv(\"data/test_data/B73_alleles.csv\")"
   ]
  },
  {
   "cell_type": "code",
   "execution_count": null,
   "id": "81092425-50d8-4bfa-9a7a-9ff8e529746b",
   "metadata": {},
   "outputs": [],
   "source": [
    "#set up and simulation for 1 chromosome\n",
    "#requires: genomic map, parent genotypes\n",
    "#builds: arbitrary pedigree, founder nodes\n",
    "#simulates: ARG based on pedigree and genomic map, offspring genotypes of pedigree based on ARG and parent genotypes\n",
    "\n",
    "#simulate genotypes of one population combination (e.g. pop 1 (B73×B97)S5)\n",
    "#sim ancestry with pedigree similar to pop (~150 offspring + 5 selfing genos)\n",
    "\n",
    "#load genmap chr1 or load entire genmap and use chr column to reduce -> in full script loop over chr and concat geno_sims\n",
    "genmap = pd.read_csv(\"data/test_data/B73_genmap_chr1.csv\")\n",
    "chr1_rate_map = get_rate_map(genmap)\n",
    "\n",
    "#set up pedigree\n",
    "pop_1_ped_df = cross_selfing_ped(offspring = 194, selfing_genos = 5)\n",
    "pop_1_ped = df_to_ts(pop_1_ped_df, seq_len=297570924)\n",
    "#load snp positions not strictly required since all information in genetic map \n",
    "#SNP_positions = pd.read_csv(\"data/test_data/NAM_SNP_positions.csv\")\n",
    "\n",
    "#reduce SNPs to chr1 of genetic map\n",
    "#chr_1_SNP_positions = SNP_positions[SNP_positions[\"Marker\"].isin(genmap[\"Marker\"])]\n",
    "\n",
    "#read parent genotypes\n",
    "parent_genos = pd.read_csv(\"data/test_data/NAM_parent_genos.csv\")\n",
    "\n",
    "#choose which parents to cross\n",
    "founder_nodes = get_founder_nodes(parent_genos, list([\"B73\", \"B97\"]))\n",
    "\n",
    "#simulate chromosome 1\n",
    "chr1_arg = msprime.sim_ancestry(initial_state = pop_1_ped, model=\"fixed_pedigree\", recombination_rate = chr1_rate_map)\n",
    "\n",
    "#propagate ARG recombinations to offspring genotypes\n",
    "geno_sim = propagate_geno(chr1_arg, founder_nodes, genmap)\n",
    "\n",
    "#join haploid offspring simulation nodes to diploid individuals\n",
    "genotypes = join_nodes(chr1_arg, geno_sim)\n",
    "\n",
    "#read reference allele\n",
    "ref_allele = pd.read_csv(\"data/test_data/B73_alleles.csv\")\n",
    "\n",
    "#reduce ref_alleles to alleles in genmap\n",
    "ref_allele = ref_allele[ref_allele[\"SNP\"].isin(genmap[\"Marker\"])]\n",
    "\n",
    "#recode genotype values into additive encoding\n",
    "geno_add = additive_encoding(ref_allele, genotypes)"
   ]
  }
 ],
 "metadata": {
  "kernelspec": {
   "display_name": "Python 3 (ipykernel)",
   "language": "python",
   "name": "python3"
  },
  "language_info": {
   "codemirror_mode": {
    "name": "ipython",
    "version": 3
   },
   "file_extension": ".py",
   "mimetype": "text/x-python",
   "name": "python",
   "nbconvert_exporter": "python",
   "pygments_lexer": "ipython3",
   "version": "3.11.4"
  }
 },
 "nbformat": 4,
 "nbformat_minor": 5
}
