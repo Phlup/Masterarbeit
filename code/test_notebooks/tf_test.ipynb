{
 "cells": [
  {
   "cell_type": "code",
   "execution_count": 1,
   "id": "4df87ca8",
   "metadata": {},
   "outputs": [],
   "source": [
    "import tensorflow as tf\n",
    "from tensorflow.keras import models, layers\n",
    "import numpy as np"
   ]
  },
  {
   "cell_type": "code",
   "execution_count": 2,
   "id": "2009bdc2",
   "metadata": {},
   "outputs": [],
   "source": [
    "#build simple MLP model cont output discrete inputs dim 100 one hidden layer\n",
    "model = models.Sequential()\n",
    "model.add(tf.keras.Input(shape=(100,)))\n",
    "model.add(tf.keras.layers.Dense(8))\n",
    "model.add(tf.keras.layers.Dense(1))\n",
    "model.compile(optimizer='sgd', loss='mse')"
   ]
  },
  {
   "cell_type": "code",
   "execution_count": 3,
   "id": "6eec077b",
   "metadata": {},
   "outputs": [],
   "source": [
    "#generate random samples from gaussian dist\n",
    "train_x = np.random.normal(0, 1, size = (900, 100))\n",
    "train_y = np.random.normal(0,1, size = (900, 1))\n",
    "test_x = np.random.normal(0, 1, size = (100, 100))"
   ]
  },
  {
   "cell_type": "code",
   "execution_count": 4,
   "id": "6f568d40",
   "metadata": {},
   "outputs": [
    {
     "name": "stdout",
     "output_type": "stream",
     "text": [
      "Epoch 1/10\n",
      "29/29 [==============================] - 1s 2ms/step - loss: 2.0310\n",
      "Epoch 2/10\n",
      "29/29 [==============================] - 0s 1ms/step - loss: 1.1109\n",
      "Epoch 3/10\n",
      "29/29 [==============================] - 0s 1ms/step - loss: 0.9959\n",
      "Epoch 4/10\n",
      "29/29 [==============================] - 0s 1ms/step - loss: 0.9607\n",
      "Epoch 5/10\n",
      "29/29 [==============================] - 0s 1ms/step - loss: 0.9307\n",
      "Epoch 6/10\n",
      "29/29 [==============================] - 0s 1ms/step - loss: 0.9213\n",
      "Epoch 7/10\n",
      "29/29 [==============================] - 0s 1ms/step - loss: 0.9117\n",
      "Epoch 8/10\n",
      "29/29 [==============================] - 0s 1ms/step - loss: 0.9063\n",
      "Epoch 9/10\n",
      "29/29 [==============================] - 0s 1ms/step - loss: 0.9036\n",
      "Epoch 10/10\n",
      "29/29 [==============================] - 0s 1ms/step - loss: 0.9000\n"
     ]
    },
    {
     "data": {
      "text/plain": [
       "<keras.src.callbacks.History at 0x2bc8a962310>"
      ]
     },
     "execution_count": 4,
     "metadata": {},
     "output_type": "execute_result"
    }
   ],
   "source": [
    "model.fit(train_x, train_y, epochs = 10)"
   ]
  },
  {
   "cell_type": "code",
   "execution_count": 5,
   "id": "33e3222f",
   "metadata": {},
   "outputs": [
    {
     "name": "stdout",
     "output_type": "stream",
     "text": [
      "29/29 [==============================] - 0s 1ms/step - loss: 0.8761\n"
     ]
    },
    {
     "data": {
      "text/plain": [
       "0.8760954737663269"
      ]
     },
     "execution_count": 5,
     "metadata": {},
     "output_type": "execute_result"
    }
   ],
   "source": [
    "model.evaluate(train_x, train_y)"
   ]
  },
  {
   "cell_type": "code",
   "execution_count": 6,
   "id": "ecc48009",
   "metadata": {
    "scrolled": true
   },
   "outputs": [
    {
     "name": "stdout",
     "output_type": "stream",
     "text": [
      "4/4 [==============================] - 0s 6ms/step\n"
     ]
    },
    {
     "data": {
      "text/plain": [
       "array([[ 3.6980790e-01],\n",
       "       [-1.5657762e-01],\n",
       "       [-4.1179544e-01],\n",
       "       [ 3.2958403e-02],\n",
       "       [ 1.7834723e-01],\n",
       "       [ 3.2179961e-01],\n",
       "       [-2.1263300e-01],\n",
       "       [-2.7869356e-01],\n",
       "       [ 1.8105523e-01],\n",
       "       [ 1.3719285e-01],\n",
       "       [-1.9679065e-01],\n",
       "       [ 4.2684287e-02],\n",
       "       [-8.5160166e-02],\n",
       "       [-1.3178417e-01],\n",
       "       [-4.5926523e-01],\n",
       "       [-1.8050805e-01],\n",
       "       [-2.7696189e-01],\n",
       "       [-9.4520807e-02],\n",
       "       [ 4.1015494e-01],\n",
       "       [-1.8143436e-01],\n",
       "       [ 1.5992731e-01],\n",
       "       [ 6.9540918e-02],\n",
       "       [ 8.8595226e-04],\n",
       "       [-3.7581152e-01],\n",
       "       [-1.2994422e-01],\n",
       "       [-1.5574449e-01],\n",
       "       [ 3.6614612e-01],\n",
       "       [-3.7682042e-02],\n",
       "       [ 3.3735576e-01],\n",
       "       [-3.2416505e-01],\n",
       "       [-3.9257455e-01],\n",
       "       [ 2.8873581e-01],\n",
       "       [ 2.1931046e-01],\n",
       "       [-2.1458061e-02],\n",
       "       [-2.5265606e-02],\n",
       "       [-7.8200184e-02],\n",
       "       [-3.7512046e-01],\n",
       "       [ 4.1783649e-01],\n",
       "       [-4.1854542e-01],\n",
       "       [-1.3818091e-01],\n",
       "       [ 2.8820890e-01],\n",
       "       [ 1.4370170e-01],\n",
       "       [-3.4793746e-01],\n",
       "       [ 2.1862093e-01],\n",
       "       [-1.2543392e-01],\n",
       "       [ 5.2052867e-01],\n",
       "       [ 1.3935941e-01],\n",
       "       [-2.9211092e-01],\n",
       "       [-3.2520026e-01],\n",
       "       [ 5.4969805e-01],\n",
       "       [ 1.0541129e-01],\n",
       "       [ 4.8913062e-02],\n",
       "       [-1.7429093e-01],\n",
       "       [ 1.9908988e-01],\n",
       "       [ 9.4378233e-02],\n",
       "       [-1.0679731e-01],\n",
       "       [ 1.7871314e-01],\n",
       "       [-2.4386650e-01],\n",
       "       [-3.5193545e-01],\n",
       "       [-3.2310593e-01],\n",
       "       [ 9.7715914e-01],\n",
       "       [-5.0435066e-02],\n",
       "       [-7.1007103e-01],\n",
       "       [-3.7475842e-01],\n",
       "       [-2.4330342e-01],\n",
       "       [-2.5731446e-02],\n",
       "       [-3.6682570e-01],\n",
       "       [ 2.4226704e-01],\n",
       "       [-9.9931419e-02],\n",
       "       [ 2.5289178e-01],\n",
       "       [ 3.8250089e-02],\n",
       "       [ 3.7024193e-02],\n",
       "       [ 1.5528141e-02],\n",
       "       [ 3.2441895e-03],\n",
       "       [-1.0814214e-01],\n",
       "       [ 3.5040450e-01],\n",
       "       [-1.3968650e-01],\n",
       "       [-5.0817716e-01],\n",
       "       [ 1.0301292e-01],\n",
       "       [-1.4887469e-02],\n",
       "       [-5.2803415e-01],\n",
       "       [ 2.4588013e-01],\n",
       "       [ 3.2011214e-01],\n",
       "       [ 7.4073851e-02],\n",
       "       [ 1.9890535e-01],\n",
       "       [-5.9567553e-01],\n",
       "       [ 4.0743485e-02],\n",
       "       [-2.4984178e-01],\n",
       "       [ 2.5551778e-01],\n",
       "       [-4.1831514e-01],\n",
       "       [ 4.2081481e-01],\n",
       "       [ 2.9640454e-01],\n",
       "       [ 2.9082054e-01],\n",
       "       [-9.3576741e-01],\n",
       "       [ 6.3724208e-01],\n",
       "       [-8.0853909e-01],\n",
       "       [ 5.5997688e-01],\n",
       "       [ 3.6405534e-01],\n",
       "       [-2.8952205e-01],\n",
       "       [-1.0161042e+00]], dtype=float32)"
      ]
     },
     "execution_count": 6,
     "metadata": {},
     "output_type": "execute_result"
    }
   ],
   "source": [
    "model.predict(test_x)"
   ]
  },
  {
   "cell_type": "code",
   "execution_count": 2,
   "id": "16a05115-d5d1-436b-bd49-ad6a713c62b8",
   "metadata": {},
   "outputs": [],
   "source": [
    "import tensorflow as tf\n",
    "import numpy as np\n",
    "import matplotlib.pyplot as plt\n",
    "from tensorflow.keras.models import Model\n",
    "from tensorflow.keras.preprocessing import image\n",
    "from tensorflow.keras.applications.vgg16 import VGG16, preprocess_input, decode_predictions\n",
    "from tensorflow.keras.applications.vgg16 import preprocess_input, decode_predictions\n",
    "\n",
    "# Load a pre-trained VGG16 model\n",
    "model = VGG16(weights='imagenet')\n"
   ]
  },
  {
   "cell_type": "code",
   "execution_count": 7,
   "id": "9b79fa90-6dd7-4393-b6f7-e69ac7257d80",
   "metadata": {},
   "outputs": [
    {
     "data": {
      "text/plain": [
       "[<keras.src.engine.input_layer.InputLayer at 0x10bbde85f90>,\n",
       " <keras.src.layers.convolutional.conv2d.Conv2D at 0x10bbde14190>,\n",
       " <keras.src.layers.convolutional.conv2d.Conv2D at 0x10bcab384d0>,\n",
       " <keras.src.layers.pooling.max_pooling2d.MaxPooling2D at 0x10bbde20550>,\n",
       " <keras.src.layers.convolutional.conv2d.Conv2D at 0x10bcac42950>,\n",
       " <keras.src.layers.convolutional.conv2d.Conv2D at 0x10bcab3be50>,\n",
       " <keras.src.layers.pooling.max_pooling2d.MaxPooling2D at 0x10bbddf8450>,\n",
       " <keras.src.layers.convolutional.conv2d.Conv2D at 0x10bcab8bcd0>,\n",
       " <keras.src.layers.convolutional.conv2d.Conv2D at 0x10b8197bcd0>,\n",
       " <keras.src.layers.convolutional.conv2d.Conv2D at 0x10b8197f590>,\n",
       " <keras.src.layers.pooling.max_pooling2d.MaxPooling2D at 0x10bcac0cb90>,\n",
       " <keras.src.layers.convolutional.conv2d.Conv2D at 0x10b81abd2d0>,\n",
       " <keras.src.layers.convolutional.conv2d.Conv2D at 0x10b81abe8d0>,\n",
       " <keras.src.layers.convolutional.conv2d.Conv2D at 0x10bcac33c10>,\n",
       " <keras.src.layers.pooling.max_pooling2d.MaxPooling2D at 0x10bcaa78790>,\n",
       " <keras.src.layers.convolutional.conv2d.Conv2D at 0x10bcaba47d0>,\n",
       " <keras.src.layers.convolutional.conv2d.Conv2D at 0x10b81abd950>,\n",
       " <keras.src.layers.convolutional.conv2d.Conv2D at 0x10bca84a950>,\n",
       " <keras.src.layers.pooling.max_pooling2d.MaxPooling2D at 0x10b81a8a210>,\n",
       " <keras.src.layers.reshaping.flatten.Flatten at 0x10bca7c34d0>,\n",
       " <keras.src.layers.core.dense.Dense at 0x10b81a8a790>,\n",
       " <keras.src.layers.core.dense.Dense at 0x10b81a7add0>,\n",
       " <keras.src.layers.core.dense.Dense at 0x10bcabc9290>]"
      ]
     },
     "execution_count": 7,
     "metadata": {},
     "output_type": "execute_result"
    }
   ],
   "source": [
    "model.layers"
   ]
  },
  {
   "cell_type": "code",
   "execution_count": 8,
   "id": "f6d72bd8-64a6-4f29-b2bf-12de3718d495",
   "metadata": {},
   "outputs": [
    {
     "ename": "ValueError",
     "evalue": "in user code:\n\n    File \"C:\\Users\\PHLUP\\miniconda3\\envs\\masterarbeit\\Lib\\site-packages\\keras\\src\\engine\\training.py\", line 2341, in predict_function  *\n        return step_function(self, iterator)\n    File \"C:\\Users\\PHLUP\\miniconda3\\envs\\masterarbeit\\Lib\\site-packages\\keras\\src\\engine\\training.py\", line 2327, in step_function  **\n        outputs = model.distribute_strategy.run(run_step, args=(data,))\n    File \"C:\\Users\\PHLUP\\miniconda3\\envs\\masterarbeit\\Lib\\site-packages\\keras\\src\\engine\\training.py\", line 2315, in run_step  **\n        outputs = model.predict_step(data)\n    File \"C:\\Users\\PHLUP\\miniconda3\\envs\\masterarbeit\\Lib\\site-packages\\keras\\src\\engine\\training.py\", line 2283, in predict_step\n        return self(x, training=False)\n    File \"C:\\Users\\PHLUP\\miniconda3\\envs\\masterarbeit\\Lib\\site-packages\\keras\\src\\utils\\traceback_utils.py\", line 70, in error_handler\n        raise e.with_traceback(filtered_tb) from None\n    File \"C:\\Users\\PHLUP\\miniconda3\\envs\\masterarbeit\\Lib\\site-packages\\keras\\src\\engine\\input_spec.py\", line 298, in assert_input_compatibility\n        raise ValueError(\n\n    ValueError: Input 0 of layer \"model_1\" is incompatible with the layer: expected shape=(None, 224, 224, 3), found shape=(None, 54, 54, 256)\n",
     "output_type": "error",
     "traceback": [
      "\u001b[1;31m---------------------------------------------------------------------------\u001b[0m",
      "\u001b[1;31mValueError\u001b[0m                                Traceback (most recent call last)",
      "Cell \u001b[1;32mIn[8], line 23\u001b[0m\n\u001b[0;32m     20\u001b[0m random_matrix \u001b[38;5;241m=\u001b[39m np\u001b[38;5;241m.\u001b[39mrandom\u001b[38;5;241m.\u001b[39mrandom((\u001b[38;5;241m1\u001b[39m, \u001b[38;5;241m54\u001b[39m, \u001b[38;5;241m54\u001b[39m, \u001b[38;5;241m256\u001b[39m))  \u001b[38;5;66;03m# Adjust the size based on the chosen layer\u001b[39;00m\n\u001b[0;32m     22\u001b[0m \u001b[38;5;66;03m# Get the intermediate layer activations using the random matrix\u001b[39;00m\n\u001b[1;32m---> 23\u001b[0m activations \u001b[38;5;241m=\u001b[39m \u001b[43mintermediate_layer_model\u001b[49m\u001b[38;5;241;43m.\u001b[39;49m\u001b[43mpredict\u001b[49m\u001b[43m(\u001b[49m\u001b[43mrandom_matrix\u001b[49m\u001b[43m)\u001b[49m\n\u001b[0;32m     25\u001b[0m \u001b[38;5;66;03m# Visualize the activation map\u001b[39;00m\n\u001b[0;32m     26\u001b[0m activation_map \u001b[38;5;241m=\u001b[39m activations[\u001b[38;5;241m0\u001b[39m, :, :, \u001b[38;5;241m0\u001b[39m]  \u001b[38;5;66;03m# Assuming a 3D activation tensor, selecting one channel\u001b[39;00m\n",
      "File \u001b[1;32m~\\miniconda3\\envs\\masterarbeit\\Lib\\site-packages\\keras\\src\\utils\\traceback_utils.py:70\u001b[0m, in \u001b[0;36mfilter_traceback.<locals>.error_handler\u001b[1;34m(*args, **kwargs)\u001b[0m\n\u001b[0;32m     67\u001b[0m     filtered_tb \u001b[38;5;241m=\u001b[39m _process_traceback_frames(e\u001b[38;5;241m.\u001b[39m__traceback__)\n\u001b[0;32m     68\u001b[0m     \u001b[38;5;66;03m# To get the full stack trace, call:\u001b[39;00m\n\u001b[0;32m     69\u001b[0m     \u001b[38;5;66;03m# `tf.debugging.disable_traceback_filtering()`\u001b[39;00m\n\u001b[1;32m---> 70\u001b[0m     \u001b[38;5;28;01mraise\u001b[39;00m e\u001b[38;5;241m.\u001b[39mwith_traceback(filtered_tb) \u001b[38;5;28;01mfrom\u001b[39;00m \u001b[38;5;28;01mNone\u001b[39;00m\n\u001b[0;32m     71\u001b[0m \u001b[38;5;28;01mfinally\u001b[39;00m:\n\u001b[0;32m     72\u001b[0m     \u001b[38;5;28;01mdel\u001b[39;00m filtered_tb\n",
      "File \u001b[1;32m~\\AppData\\Local\\Temp\\__autograph_generated_filedzbg5kqw.py:15\u001b[0m, in \u001b[0;36mouter_factory.<locals>.inner_factory.<locals>.tf__predict_function\u001b[1;34m(iterator)\u001b[0m\n\u001b[0;32m     13\u001b[0m \u001b[38;5;28;01mtry\u001b[39;00m:\n\u001b[0;32m     14\u001b[0m     do_return \u001b[38;5;241m=\u001b[39m \u001b[38;5;28;01mTrue\u001b[39;00m\n\u001b[1;32m---> 15\u001b[0m     retval_ \u001b[38;5;241m=\u001b[39m ag__\u001b[38;5;241m.\u001b[39mconverted_call(ag__\u001b[38;5;241m.\u001b[39mld(step_function), (ag__\u001b[38;5;241m.\u001b[39mld(\u001b[38;5;28mself\u001b[39m), ag__\u001b[38;5;241m.\u001b[39mld(iterator)), \u001b[38;5;28;01mNone\u001b[39;00m, fscope)\n\u001b[0;32m     16\u001b[0m \u001b[38;5;28;01mexcept\u001b[39;00m:\n\u001b[0;32m     17\u001b[0m     do_return \u001b[38;5;241m=\u001b[39m \u001b[38;5;28;01mFalse\u001b[39;00m\n",
      "\u001b[1;31mValueError\u001b[0m: in user code:\n\n    File \"C:\\Users\\PHLUP\\miniconda3\\envs\\masterarbeit\\Lib\\site-packages\\keras\\src\\engine\\training.py\", line 2341, in predict_function  *\n        return step_function(self, iterator)\n    File \"C:\\Users\\PHLUP\\miniconda3\\envs\\masterarbeit\\Lib\\site-packages\\keras\\src\\engine\\training.py\", line 2327, in step_function  **\n        outputs = model.distribute_strategy.run(run_step, args=(data,))\n    File \"C:\\Users\\PHLUP\\miniconda3\\envs\\masterarbeit\\Lib\\site-packages\\keras\\src\\engine\\training.py\", line 2315, in run_step  **\n        outputs = model.predict_step(data)\n    File \"C:\\Users\\PHLUP\\miniconda3\\envs\\masterarbeit\\Lib\\site-packages\\keras\\src\\engine\\training.py\", line 2283, in predict_step\n        return self(x, training=False)\n    File \"C:\\Users\\PHLUP\\miniconda3\\envs\\masterarbeit\\Lib\\site-packages\\keras\\src\\utils\\traceback_utils.py\", line 70, in error_handler\n        raise e.with_traceback(filtered_tb) from None\n    File \"C:\\Users\\PHLUP\\miniconda3\\envs\\masterarbeit\\Lib\\site-packages\\keras\\src\\engine\\input_spec.py\", line 298, in assert_input_compatibility\n        raise ValueError(\n\n    ValueError: Input 0 of layer \"model_1\" is incompatible with the layer: expected shape=(None, 224, 224, 3), found shape=(None, 54, 54, 256)\n"
     ]
    }
   ],
   "source": [
    "import tensorflow as tf\n",
    "import numpy as np\n",
    "import matplotlib.pyplot as plt\n",
    "from tensorflow.keras.models import Model\n",
    "\n",
    "# Create a simple CNN model for demonstration purposes\n",
    "model = tf.keras.Sequential([\n",
    "    tf.keras.layers.Conv2D(64, (3, 3), activation='relu', input_shape=(224, 224, 3)),\n",
    "    tf.keras.layers.MaxPooling2D((2, 2)),\n",
    "    tf.keras.layers.Conv2D(128, (3, 3), activation='relu'),\n",
    "    tf.keras.layers.MaxPooling2D((2, 2)),\n",
    "    tf.keras.layers.Conv2D(256, (3, 3), activation='relu'),\n",
    "])\n",
    "\n",
    "# Choose a specific layer for visualization\n",
    "layer_name = 'conv2d_2'\n",
    "intermediate_layer_model = Model(inputs=model.input, outputs=model.get_layer(layer_name).output)\n",
    "\n",
    "# Generate a random matrix with the target size\n",
    "random_matrix = np.random.random((1, 54, 54, 256))  # Adjust the size based on the chosen layer\n",
    "\n",
    "# Get the intermediate layer activations using the random matrix\n",
    "activations = intermediate_layer_model.predict(random_matrix)\n",
    "\n",
    "# Visualize the activation map\n",
    "activation_map = activations[0, :, :, 0]  # Assuming a 3D activation tensor, selecting one channel\n",
    "\n",
    "# Plot the random matrix (for demonstration purposes)\n",
    "plt.figure(figsize=(6, 6))\n",
    "plt.imshow(random_matrix[0, :, :, 0], cmap='viridis')  # You can choose a different colormap\n",
    "plt.title('Random Matrix')\n",
    "plt.axis('off')\n",
    "plt.show()\n",
    "\n",
    "# Plot the activation map\n",
    "plt.figure(figsize=(8, 8))\n",
    "plt.imshow(activation_map, cmap='viridis') # You can choose a different colormap\n",
    "plt.title('Activation Map')\n",
    "plt.axis('off')\n",
    "plt.show()"
   ]
  }
 ],
 "metadata": {
  "kernelspec": {
   "display_name": "Python 3 (ipykernel)",
   "language": "python",
   "name": "python3"
  },
  "language_info": {
   "codemirror_mode": {
    "name": "ipython",
    "version": 3
   },
   "file_extension": ".py",
   "mimetype": "text/x-python",
   "name": "python",
   "nbconvert_exporter": "python",
   "pygments_lexer": "ipython3",
   "version": "3.11.4"
  }
 },
 "nbformat": 4,
 "nbformat_minor": 5
}
