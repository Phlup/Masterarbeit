{
 "cells": [
  {
   "cell_type": "code",
   "execution_count": 1,
   "id": "99d07a36-46d8-4f41-8448-e32425aa7b5e",
   "metadata": {},
   "outputs": [
    {
     "name": "stderr",
     "output_type": "stream",
     "text": [
      "C:\\Users\\PHLUP\\miniconda3\\envs\\masterarbeit\\Lib\\site-packages\\stdpopsim\\catalog\\HomSap\\demographic_models.py:158: FutureWarning: Calling int on a single element Series is deprecated and will raise a TypeError in the future. Use int(ser.iloc[0]) instead\n",
      "  time=int(extended_GF.time.head(1) - 1), rate=0\n",
      "C:\\Users\\PHLUP\\miniconda3\\envs\\masterarbeit\\Lib\\site-packages\\stdpopsim\\catalog\\HomSap\\demographic_models.py:161: FutureWarning: Calling int on a single element Series is deprecated and will raise a TypeError in the future. Use int(ser.iloc[0]) instead\n",
      "  time=int(extended_GF.time.tail(1) + 1), rate=0\n"
     ]
    }
   ],
   "source": [
    "from project_lib.genotype_simulation import *\n",
    "from project_lib.stat_functions import *"
   ]
  },
  {
   "cell_type": "code",
   "execution_count": null,
   "id": "8d0a1e57-0938-4444-acf8-295c11443e1f",
   "metadata": {},
   "outputs": [],
   "source": []
  },
  {
   "cell_type": "code",
   "execution_count": null,
   "id": "c827823a-3410-49d5-b112-a3e0baa84100",
   "metadata": {},
   "outputs": [],
   "source": []
  },
  {
   "cell_type": "code",
   "execution_count": null,
   "id": "56d5eeba-0d4e-410d-95e0-d78563b3e0ec",
   "metadata": {},
   "outputs": [],
   "source": [
    "test_ts = df_to_ts(df, 100)"
   ]
  },
  {
   "cell_type": "code",
   "execution_count": null,
   "id": "ce5f1b95-b179-4d13-89cc-e929f177d6ed",
   "metadata": {},
   "outputs": [],
   "source": [
    "draw_pedigree(test_ts.tree_sequence())"
   ]
  },
  {
   "cell_type": "code",
   "execution_count": null,
   "id": "712f4cb0-cddb-4497-8b21-2a0982bb92e5",
   "metadata": {},
   "outputs": [],
   "source": [
    "test_arg = msprime.sim_ancestry(\n",
    "    initial_state=test_ts, model=\"fixed_pedigree\", random_seed=42, recombination_rate = 0)"
   ]
  },
  {
   "cell_type": "code",
   "execution_count": null,
   "id": "3f0fd1d0-0eb9-47e0-be75-d31ce02daab9",
   "metadata": {},
   "outputs": [],
   "source": [
    "draw_ancestry(test_arg)"
   ]
  },
  {
   "cell_type": "code",
   "execution_count": null,
   "id": "f803189e-2559-4bc7-b644-1d3016856ecc",
   "metadata": {},
   "outputs": [],
   "source": [
    "print(test_arg.dump_tables())"
   ]
  }
 ],
 "metadata": {
  "kernelspec": {
   "display_name": "Python 3 (ipykernel)",
   "language": "python",
   "name": "python3"
  },
  "language_info": {
   "codemirror_mode": {
    "name": "ipython",
    "version": 3
   },
   "file_extension": ".py",
   "mimetype": "text/x-python",
   "name": "python",
   "nbconvert_exporter": "python",
   "pygments_lexer": "ipython3",
   "version": "3.11.4"
  }
 },
 "nbformat": 4,
 "nbformat_minor": 5
}
