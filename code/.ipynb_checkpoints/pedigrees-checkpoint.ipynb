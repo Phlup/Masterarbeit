{
 "cells": [
  {
   "cell_type": "code",
   "execution_count": 1,
   "id": "72f1aefe-adac-4e36-b610-2bd25167c0ed",
   "metadata": {},
   "outputs": [],
   "source": [
    "##example notebook of pedigree generating functions + msprime ancestry simulation on pedigrees"
   ]
  },
  {
   "cell_type": "code",
   "execution_count": 2,
   "id": "99d07a36-46d8-4f41-8448-e32425aa7b5e",
   "metadata": {},
   "outputs": [],
   "source": [
    "from project_lib.genotype_simulation import *\n",
    "from project_lib.stat_functions import *"
   ]
  },
  {
   "cell_type": "code",
   "execution_count": 3,
   "id": "8d0a1e57-0938-4444-acf8-295c11443e1f",
   "metadata": {},
   "outputs": [],
   "source": [
    "df = pedigree_init(n = 2)"
   ]
  },
  {
   "cell_type": "code",
   "execution_count": 4,
   "id": "2849f1be-ec62-4bbf-9a2c-5403c8b77a67",
   "metadata": {},
   "outputs": [
    {
     "data": {
      "text/html": [
       "<div>\n",
       "<style scoped>\n",
       "    .dataframe tbody tr th:only-of-type {\n",
       "        vertical-align: middle;\n",
       "    }\n",
       "\n",
       "    .dataframe tbody tr th {\n",
       "        vertical-align: top;\n",
       "    }\n",
       "\n",
       "    .dataframe thead th {\n",
       "        text-align: right;\n",
       "    }\n",
       "</style>\n",
       "<table border=\"1\" class=\"dataframe\">\n",
       "  <thead>\n",
       "    <tr style=\"text-align: right;\">\n",
       "      <th></th>\n",
       "      <th>id</th>\n",
       "      <th>parent0</th>\n",
       "      <th>parent1</th>\n",
       "      <th>time</th>\n",
       "    </tr>\n",
       "  </thead>\n",
       "  <tbody>\n",
       "    <tr>\n",
       "      <th>0</th>\n",
       "      <td>0</td>\n",
       "      <td>.</td>\n",
       "      <td>.</td>\n",
       "      <td>0</td>\n",
       "    </tr>\n",
       "    <tr>\n",
       "      <th>1</th>\n",
       "      <td>1</td>\n",
       "      <td>.</td>\n",
       "      <td>.</td>\n",
       "      <td>0</td>\n",
       "    </tr>\n",
       "  </tbody>\n",
       "</table>\n",
       "</div>"
      ],
      "text/plain": [
       "   id parent0 parent1  time\n",
       "0   0       .       .     0\n",
       "1   1       .       .     0"
      ]
     },
     "execution_count": 4,
     "metadata": {},
     "output_type": "execute_result"
    }
   ],
   "source": [
    "df"
   ]
  },
  {
   "cell_type": "code",
   "execution_count": 5,
   "id": "8fa131bf-bc7c-4750-b220-115b6e32dbd8",
   "metadata": {},
   "outputs": [],
   "source": [
    "df = add_selective_mating(df = df, parents = (0,1), offspring = 3)"
   ]
  },
  {
   "cell_type": "code",
   "execution_count": 6,
   "id": "8350206a-de5f-4a65-97a6-ec17ebacabf9",
   "metadata": {},
   "outputs": [
    {
     "data": {
      "text/html": [
       "<div>\n",
       "<style scoped>\n",
       "    .dataframe tbody tr th:only-of-type {\n",
       "        vertical-align: middle;\n",
       "    }\n",
       "\n",
       "    .dataframe tbody tr th {\n",
       "        vertical-align: top;\n",
       "    }\n",
       "\n",
       "    .dataframe thead th {\n",
       "        text-align: right;\n",
       "    }\n",
       "</style>\n",
       "<table border=\"1\" class=\"dataframe\">\n",
       "  <thead>\n",
       "    <tr style=\"text-align: right;\">\n",
       "      <th></th>\n",
       "      <th>id</th>\n",
       "      <th>parent0</th>\n",
       "      <th>parent1</th>\n",
       "      <th>time</th>\n",
       "    </tr>\n",
       "  </thead>\n",
       "  <tbody>\n",
       "    <tr>\n",
       "      <th>0</th>\n",
       "      <td>0</td>\n",
       "      <td>.</td>\n",
       "      <td>.</td>\n",
       "      <td>1</td>\n",
       "    </tr>\n",
       "    <tr>\n",
       "      <th>1</th>\n",
       "      <td>1</td>\n",
       "      <td>.</td>\n",
       "      <td>.</td>\n",
       "      <td>1</td>\n",
       "    </tr>\n",
       "    <tr>\n",
       "      <th>2</th>\n",
       "      <td>2</td>\n",
       "      <td>0</td>\n",
       "      <td>1</td>\n",
       "      <td>0</td>\n",
       "    </tr>\n",
       "    <tr>\n",
       "      <th>3</th>\n",
       "      <td>3</td>\n",
       "      <td>0</td>\n",
       "      <td>1</td>\n",
       "      <td>0</td>\n",
       "    </tr>\n",
       "    <tr>\n",
       "      <th>4</th>\n",
       "      <td>4</td>\n",
       "      <td>0</td>\n",
       "      <td>1</td>\n",
       "      <td>0</td>\n",
       "    </tr>\n",
       "  </tbody>\n",
       "</table>\n",
       "</div>"
      ],
      "text/plain": [
       "   id parent0 parent1  time\n",
       "0   0       .       .     1\n",
       "1   1       .       .     1\n",
       "2   2       0       1     0\n",
       "3   3       0       1     0\n",
       "4   4       0       1     0"
      ]
     },
     "execution_count": 6,
     "metadata": {},
     "output_type": "execute_result"
    }
   ],
   "source": [
    "df"
   ]
  },
  {
   "cell_type": "code",
   "execution_count": 7,
   "id": "55cc2a9f-3df0-4cc6-8216-b365dd4cb54e",
   "metadata": {},
   "outputs": [],
   "source": [
    "df = add_random_mating(df, size_diff = 2, selfing_rate = 0.5)\n"
   ]
  },
  {
   "cell_type": "code",
   "execution_count": 8,
   "id": "b560ac54-aa65-41f4-b15e-df1d5cbb0236",
   "metadata": {},
   "outputs": [
    {
     "data": {
      "text/html": [
       "<div>\n",
       "<style scoped>\n",
       "    .dataframe tbody tr th:only-of-type {\n",
       "        vertical-align: middle;\n",
       "    }\n",
       "\n",
       "    .dataframe tbody tr th {\n",
       "        vertical-align: top;\n",
       "    }\n",
       "\n",
       "    .dataframe thead th {\n",
       "        text-align: right;\n",
       "    }\n",
       "</style>\n",
       "<table border=\"1\" class=\"dataframe\">\n",
       "  <thead>\n",
       "    <tr style=\"text-align: right;\">\n",
       "      <th></th>\n",
       "      <th>id</th>\n",
       "      <th>parent0</th>\n",
       "      <th>parent1</th>\n",
       "      <th>time</th>\n",
       "    </tr>\n",
       "  </thead>\n",
       "  <tbody>\n",
       "    <tr>\n",
       "      <th>0</th>\n",
       "      <td>0</td>\n",
       "      <td>.</td>\n",
       "      <td>.</td>\n",
       "      <td>2</td>\n",
       "    </tr>\n",
       "    <tr>\n",
       "      <th>1</th>\n",
       "      <td>1</td>\n",
       "      <td>.</td>\n",
       "      <td>.</td>\n",
       "      <td>2</td>\n",
       "    </tr>\n",
       "    <tr>\n",
       "      <th>2</th>\n",
       "      <td>2</td>\n",
       "      <td>0</td>\n",
       "      <td>1</td>\n",
       "      <td>1</td>\n",
       "    </tr>\n",
       "    <tr>\n",
       "      <th>3</th>\n",
       "      <td>3</td>\n",
       "      <td>0</td>\n",
       "      <td>1</td>\n",
       "      <td>1</td>\n",
       "    </tr>\n",
       "    <tr>\n",
       "      <th>4</th>\n",
       "      <td>4</td>\n",
       "      <td>0</td>\n",
       "      <td>1</td>\n",
       "      <td>1</td>\n",
       "    </tr>\n",
       "    <tr>\n",
       "      <th>5</th>\n",
       "      <td>5</td>\n",
       "      <td>2</td>\n",
       "      <td>2</td>\n",
       "      <td>0</td>\n",
       "    </tr>\n",
       "    <tr>\n",
       "      <th>6</th>\n",
       "      <td>6</td>\n",
       "      <td>3</td>\n",
       "      <td>3</td>\n",
       "      <td>0</td>\n",
       "    </tr>\n",
       "    <tr>\n",
       "      <th>7</th>\n",
       "      <td>7</td>\n",
       "      <td>4</td>\n",
       "      <td>4</td>\n",
       "      <td>0</td>\n",
       "    </tr>\n",
       "    <tr>\n",
       "      <th>8</th>\n",
       "      <td>8</td>\n",
       "      <td>3</td>\n",
       "      <td>2</td>\n",
       "      <td>0</td>\n",
       "    </tr>\n",
       "    <tr>\n",
       "      <th>9</th>\n",
       "      <td>9</td>\n",
       "      <td>3</td>\n",
       "      <td>4</td>\n",
       "      <td>0</td>\n",
       "    </tr>\n",
       "  </tbody>\n",
       "</table>\n",
       "</div>"
      ],
      "text/plain": [
       "   id parent0 parent1  time\n",
       "0   0       .       .     2\n",
       "1   1       .       .     2\n",
       "2   2       0       1     1\n",
       "3   3       0       1     1\n",
       "4   4       0       1     1\n",
       "5   5       2       2     0\n",
       "6   6       3       3     0\n",
       "7   7       4       4     0\n",
       "8   8       3       2     0\n",
       "9   9       3       4     0"
      ]
     },
     "execution_count": 8,
     "metadata": {},
     "output_type": "execute_result"
    }
   ],
   "source": [
    "df"
   ]
  },
  {
   "cell_type": "code",
   "execution_count": 9,
   "id": "d6161ce9-5c2a-482c-86ec-37fd867944e7",
   "metadata": {},
   "outputs": [],
   "source": [
    "df = add_selfing(df)"
   ]
  },
  {
   "cell_type": "code",
   "execution_count": 10,
   "id": "56d5eeba-0d4e-410d-95e0-d78563b3e0ec",
   "metadata": {},
   "outputs": [],
   "source": [
    "#turn pedigree df into tskit TreeSequence object\n",
    "test_ts = df_to_ts(df, 100)"
   ]
  },
  {
   "cell_type": "code",
   "execution_count": 11,
   "id": "ce5f1b95-b179-4d13-89cc-e929f177d6ed",
   "metadata": {},
   "outputs": [
    {
     "data": {
      "image/png": "[encoded data removed]",
      "text/plain": [
       "<Figure size 640x480 with 1 Axes>"
      ]
     },
     "metadata": {},
     "output_type": "display_data"
    }
   ],
   "source": [
    "#draw pedigree\n",
    "draw_pedigree(test_ts.tree_sequence(), out_path = \"example_pedigree.png\")"
   ]
  },
  {
   "cell_type": "code",
   "execution_count": 16,
   "id": "712f4cb0-cddb-4497-8b21-2a0982bb92e5",
   "metadata": {},
   "outputs": [],
   "source": [
    "#simulate ancestry (ancestral recombination graph) based on pedigree with recombination parameter\n",
    "arg = msprime.sim_ancestry(\n",
    "    initial_state=test_ts, model=\"fixed_pedigree\", random_seed=42, recombination_rate = 0.00025)"
   ]
  },
  {
   "cell_type": "code",
   "execution_count": 18,
   "id": "f803189e-2559-4bc7-b644-1d3016856ecc",
   "metadata": {},
   "outputs": [
    {
     "name": "stdout",
     "output_type": "stream",
     "text": [
      "TableCollection\n",
      "\n",
      "Sequence Length: 100.0\n",
      "Time units: generations\n",
      "Metadata: b''\n",
      "\n",
      "Individuals\n",
      "╔══╤═════╤════════╤═══════╤═════════════════╗\n",
      "║id│flags│location│parents│metadata         ║\n",
      "╠══╪═════╪════════╪═══════╪═════════════════╣\n",
      "║0 │    0│        │ -1, -1│ {'file_id': '0'}║\n",
      "║1 │    0│        │ -1, -1│ {'file_id': '1'}║\n",
      "║2 │    0│        │   0, 1│ {'file_id': '2'}║\n",
      "║3 │    0│        │   0, 1│ {'file_id': '3'}║\n",
      "║4 │    0│        │   0, 1│ {'file_id': '4'}║\n",
      "║5 │    0│        │   2, 2│ {'file_id': '5'}║\n",
      "║6 │    0│        │   3, 3│ {'file_id': '6'}║\n",
      "║7 │    0│        │   4, 4│ {'file_id': '7'}║\n",
      "║8 │    0│        │   3, 2│ {'file_id': '8'}║\n",
      "║9 │    0│        │   3, 4│ {'file_id': '9'}║\n",
      "║10│    0│        │   5, 5│{'file_id': '10'}║\n",
      "║11│    0│        │   6, 6│{'file_id': '11'}║\n",
      "║12│    0│        │   7, 7│{'file_id': '12'}║\n",
      "║13│    0│        │   8, 8│{'file_id': '13'}║\n",
      "║14│    0│        │   9, 9│{'file_id': '14'}║\n",
      "╚══╧═════╧════════╧═══════╧═════════════════╝\n",
      "\n",
      "Nodes\n",
      "╔══╤═════╤══════════╤══════════╤════╤════════╗\n",
      "║id│flags│population│individual│time│metadata║\n",
      "╠══╪═════╪══════════╪══════════╪════╪════════╣\n",
      "║0 │    0│         0│         0│   3│        ║\n",
      "║1 │    0│         0│         0│   3│        ║\n",
      "║2 │    0│         0│         1│   3│        ║\n",
      "║3 │    0│         0│         1│   3│        ║\n",
      "║4 │    0│         0│         2│   2│        ║\n",
      "║5 │    0│         0│         2│   2│        ║\n",
      "║6 │    0│         0│         3│   2│        ║\n",
      "║7 │    0│         0│         3│   2│        ║\n",
      "║8 │    0│         0│         4│   2│        ║\n",
      "║9 │    0│         0│         4│   2│        ║\n",
      "║10│    0│         0│         5│   1│        ║\n",
      "║11│    0│         0│         5│   1│        ║\n",
      "║12│    0│         0│         6│   1│        ║\n",
      "║13│    0│         0│         6│   1│        ║\n",
      "║14│    0│         0│         7│   1│        ║\n",
      "║15│    0│         0│         7│   1│        ║\n",
      "║16│    0│         0│         8│   1│        ║\n",
      "║17│    0│         0│         8│   1│        ║\n",
      "║18│    0│         0│         9│   1│        ║\n",
      "║19│    0│         0│         9│   1│        ║\n",
      "║20│    1│         0│        10│   0│        ║\n",
      "║21│    1│         0│        10│   0│        ║\n",
      "║22│    1│         0│        11│   0│        ║\n",
      "║23│    1│         0│        11│   0│        ║\n",
      "║24│    1│         0│        12│   0│        ║\n",
      "║25│    1│         0│        12│   0│        ║\n",
      "║26│    1│         0│        13│   0│        ║\n",
      "║27│    1│         0│        13│   0│        ║\n",
      "║28│    1│         0│        14│   0│        ║\n",
      "║29│    1│         0│        14│   0│        ║\n",
      "╚══╧═════╧══════════╧══════════╧════╧════════╝\n",
      "\n",
      "Edges\n",
      "╔═══╤════╤═════╤══════╤═════╤════════╗\n",
      "║id │left│right│parent│child│metadata║\n",
      "╠═══╪════╪═════╪══════╪═════╪════════╣\n",
      "║0  │  22│   27│    10│   20│        ║\n",
      "║1  │  52│   53│    10│   20│        ║\n",
      "║2  │  22│   27│    10│   21│        ║\n",
      "║3  │  52│   53│    10│   21│        ║\n",
      "║4  │   1│    5│    11│   20│        ║\n",
      "║5  │  36│   37│    11│   20│        ║\n",
      "║6  │  63│   64│    11│   20│        ║\n",
      "║7  │  65│   69│    11│   20│        ║\n",
      "║8  │  79│   89│    11│   20│        ║\n",
      "║9  │  91│   97│    11│   20│        ║\n",
      "║10 │  99│  100│    11│   20│        ║\n",
      "║11 │   1│    5│    11│   21│        ║\n",
      "║12 │  36│   37│    11│   21│        ║\n",
      "║13 │  63│   64│    11│   21│        ║\n",
      "║14 │  65│   69│    11│   21│        ║\n",
      "║15 │  79│   89│    11│   21│        ║\n",
      "║16 │  91│   97│    11│   21│        ║\n",
      "║17 │  99│  100│    11│   21│        ║\n",
      "║18 │  20│   28│    12│   22│        ║\n",
      "║19 │  29│   35│    12│   22│        ║\n",
      "║400 rows skipped (tskit.set_print_op║\n",
      "║420│  27│   28│     3│   17│        ║\n",
      "║421│  29│   31│     3│   17│        ║\n",
      "║422│  83│   84│     3│   19│        ║\n",
      "║423│   0│    1│     3│   20│        ║\n",
      "║424│  47│   48│     3│   20│        ║\n",
      "║425│  53│   56│     3│   20│        ║\n",
      "║426│  61│   63│     3│   20│        ║\n",
      "║427│  35│   36│     3│   21│        ║\n",
      "║428│  39│   43│     3│   21│        ║\n",
      "║429│  49│   52│     3│   21│        ║\n",
      "║430│  73│   77│     3│   21│        ║\n",
      "║431│   3│    4│     3│   22│        ║\n",
      "║432│   8│    9│     3│   22│        ║\n",
      "║433│   4│    5│     3│   23│        ║\n",
      "║434│  17│   20│     3│   23│        ║\n",
      "║435│  88│   94│     3│   23│        ║\n",
      "║436│   6│    7│     3│   25│        ║\n",
      "║437│  28│   29│     3│   26│        ║\n",
      "║438│  31│   34│     3│   26│        ║\n",
      "║439│  55│   58│     3│   29│        ║\n",
      "╚═══╧════╧═════╧══════╧═════╧════════╝\n",
      "\n",
      "Sites\n",
      "╔══╤════════╤═══════════════╤════════╗\n",
      "║id│position│ancestral_state│metadata║\n",
      "╠══╪════════╪═══════════════╪════════╣\n",
      "╚══╧════════╧═══════════════╧════════╝\n",
      "\n",
      "Mutations\n",
      "╔══╤════╤════╤════╤═════════════╤══════╤════════╗\n",
      "║id│site│node│time│derived_state│parent│metadata║\n",
      "╠══╪════╪════╪════╪═════════════╪══════╪════════╣\n",
      "╚══╧════╧════╧════╧═════════════╧══════╧════════╝\n",
      "\n",
      "Migrations\n",
      "╔══╤════╤═════╤════╤══════╤════╤════╤════════╗\n",
      "║id│left│right│node│source│dest│time│metadata║\n",
      "╠══╪════╪═════╪════╪══════╪════╪════╪════════╣\n",
      "╚══╧════╧═════╧════╧══════╧════╧════╧════════╝\n",
      "\n",
      "Populations\n",
      "╔══╤════════════════════════════════════╗\n",
      "║id│metadata                            ║\n",
      "╠══╪════════════════════════════════════╣\n",
      "║0 │{'description': '', 'name': 'pop_0'}║\n",
      "╚══╧════════════════════════════════════╝\n",
      "\n",
      "Provenances\n",
      "╔══╤══════════════════════════╤════════════════════════════════════════════════════════════╗\n",
      "║id│timestamp                 │record                                                      ║\n",
      "╠══╪══════════════════════════╪════════════════════════════════════════════════════════════╣\n",
      "║0 │2024-01-25T15:28:46.924406│{\"schema_version\": \"1.0.0\", \"software\": {\"name\": \"msprime...║\n",
      "╚══╧══════════════════════════╧════════════════════════════════════════════════════════════╝\n",
      "\n"
     ]
    }
   ],
   "source": [
    "print(arg.dump_tables())"
   ]
  },
  {
   "cell_type": "code",
   "execution_count": null,
   "id": "519cf04e-8d31-429e-b66a-cbd9e625c116",
   "metadata": {},
   "outputs": [],
   "source": [
    "print(arg.dump_tables().edges)"
   ]
  },
  {
   "cell_type": "code",
   "execution_count": 14,
   "id": "26a44d85-80c5-454d-977c-c00c2a75c6e3",
   "metadata": {},
   "outputs": [
    {
     "ename": "NameError",
     "evalue": "name 'path' is not defined",
     "output_type": "error",
     "traceback": [
      "\u001b[1;31m---------------------------------------------------------------------------\u001b[0m",
      "\u001b[1;31mNameError\u001b[0m                                 Traceback (most recent call last)",
      "Cell \u001b[1;32mIn[14], line 2\u001b[0m\n\u001b[0;32m      1\u001b[0m \u001b[38;5;66;03m#draw ARG\u001b[39;00m\n\u001b[1;32m----> 2\u001b[0m \u001b[43mdraw_ancestry\u001b[49m\u001b[43m(\u001b[49m\u001b[43marg\u001b[49m\u001b[43m,\u001b[49m\u001b[43m \u001b[49m\u001b[43mx_size\u001b[49m\u001b[43m \u001b[49m\u001b[38;5;241;43m=\u001b[39;49m\u001b[43m \u001b[49m\u001b[38;5;241;43m1800\u001b[39;49m\u001b[43m)\u001b[49m\n",
      "File \u001b[1;32m~\\Masterarbeit\\project_lib\\stat_functions.py:53\u001b[0m, in \u001b[0;36mdraw_ancestry\u001b[1;34m(ts, x_size, y_size, out_path)\u001b[0m\n\u001b[0;32m     41\u001b[0m \u001b[38;5;250m\u001b[39m\u001b[38;5;124;03m\"\"\"\u001b[39;00m\n\u001b[0;32m     42\u001b[0m \u001b[38;5;124;03mPrint the ancestry of individuals in the tree sequence as ancestral recombination graph (ARG).\u001b[39;00m\n\u001b[0;32m     43\u001b[0m \n\u001b[1;32m   (...)\u001b[0m\n\u001b[0;32m     50\u001b[0m \u001b[38;5;124;03m    None, displays plot\u001b[39;00m\n\u001b[0;32m     51\u001b[0m \u001b[38;5;124;03m\"\"\"\u001b[39;00m\n\u001b[0;32m     52\u001b[0m node_labels \u001b[38;5;241m=\u001b[39m {node\u001b[38;5;241m.\u001b[39mid: \u001b[38;5;124mf\u001b[39m\u001b[38;5;124m\"\u001b[39m\u001b[38;5;132;01m{\u001b[39;00mnode\u001b[38;5;241m.\u001b[39mindividual\u001b[38;5;132;01m}\u001b[39;00m\u001b[38;5;124m(\u001b[39m\u001b[38;5;132;01m{\u001b[39;00mnode\u001b[38;5;241m.\u001b[39mid\u001b[38;5;132;01m}\u001b[39;00m\u001b[38;5;124m)\u001b[39m\u001b[38;5;124m\"\u001b[39m \u001b[38;5;28;01mfor\u001b[39;00m node \u001b[38;5;129;01min\u001b[39;00m ts\u001b[38;5;241m.\u001b[39mnodes()}\n\u001b[1;32m---> 53\u001b[0m SVG(ts\u001b[38;5;241m.\u001b[39mdraw_svg(path \u001b[38;5;241m=\u001b[39m \u001b[43mpath\u001b[49m, y_axis\u001b[38;5;241m=\u001b[39m\u001b[38;5;28;01mTrue\u001b[39;00m,  node_labels\u001b[38;5;241m=\u001b[39mnode_labels, size\u001b[38;5;241m=\u001b[39m(x_size,y_size)))\n",
      "\u001b[1;31mNameError\u001b[0m: name 'path' is not defined"
     ]
    }
   ],
   "source": [
    "#draw ARG\n",
    "draw_ancestry(arg, x_size = 1800, out_path = \"example_ARG.svg\")"
   ]
  },
  {
   "cell_type": "code",
   "execution_count": null,
   "id": "42f25b58-07bf-4b01-aa46-9de2768c2606",
   "metadata": {},
   "outputs": [],
   "source": [
    "#simulate ARG with 0 recombination rate\n",
    "arg_norec = msprime.sim_ancestry(\n",
    "    initial_state=test_ts, model=\"fixed_pedigree\", random_seed=42, recombination_rate = 0)"
   ]
  },
  {
   "cell_type": "code",
   "execution_count": null,
   "id": "a82541e3-cc3c-428e-9fbc-f2f1fed28332",
   "metadata": {},
   "outputs": [],
   "source": [
    "print(arg_norec.dump_tables())"
   ]
  },
  {
   "cell_type": "code",
   "execution_count": null,
   "id": "9186b740-b9af-4d58-8a85-a35654deab9e",
   "metadata": {},
   "outputs": [],
   "source": [
    "print(arg_norec.dump_tables().edges)"
   ]
  },
  {
   "cell_type": "code",
   "execution_count": null,
   "id": "2938954c-2349-43bd-8069-f5a284f1c15c",
   "metadata": {},
   "outputs": [],
   "source": [
    "#draw ARG\n",
    "draw_ancestry(arg_norec, x_size = 900)"
   ]
  }
 ],
 "metadata": {
  "kernelspec": {
   "display_name": "Python 3 (ipykernel)",
   "language": "python",
   "name": "python3"
  },
  "language_info": {
   "codemirror_mode": {
    "name": "ipython",
    "version": 3
   },
   "file_extension": ".py",
   "mimetype": "text/x-python",
   "name": "python",
   "nbconvert_exporter": "python",
   "pygments_lexer": "ipython3",
   "version": "3.11.4"
  }
 },
 "nbformat": 4,
 "nbformat_minor": 5
}
