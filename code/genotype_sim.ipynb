{
 "cells": [
  {
   "cell_type": "code",
   "execution_count": 1,
   "id": "e3699d6c-2142-4e55-9a1e-3aa2af7310e3",
   "metadata": {},
   "outputs": [],
   "source": [
    "##example notebook of genotype simulation"
   ]
  },
  {
   "cell_type": "code",
   "execution_count": 2,
   "id": "f66127f6-8c60-4606-8122-4149652b3cd0",
   "metadata": {
    "scrolled": true
   },
   "outputs": [
    {
     "name": "stderr",
     "output_type": "stream",
     "text": [
      "C:\\Users\\PHLUP\\miniconda3\\envs\\masterarbeit\\Lib\\site-packages\\stdpopsim\\catalog\\HomSap\\demographic_models.py:158: FutureWarning: Calling int on a single element Series is deprecated and will raise a TypeError in the future. Use int(ser.iloc[0]) instead\n",
      "  time=int(extended_GF.time.head(1) - 1), rate=0\n",
      "C:\\Users\\PHLUP\\miniconda3\\envs\\masterarbeit\\Lib\\site-packages\\stdpopsim\\catalog\\HomSap\\demographic_models.py:161: FutureWarning: Calling int on a single element Series is deprecated and will raise a TypeError in the future. Use int(ser.iloc[0]) instead\n",
      "  time=int(extended_GF.time.tail(1) + 1), rate=0\n"
     ]
    }
   ],
   "source": [
    "from project_lib.genotype_simulation import *\n",
    "from project_lib.stat_functions import *"
   ]
  },
  {
   "cell_type": "code",
   "execution_count": 3,
   "id": "4d684306-07ba-4c37-9a89-b08f64689a7c",
   "metadata": {},
   "outputs": [],
   "source": [
    "#read genetic map\n",
    "genmap = pd.read_csv(\"data/sim_data/B73_genmap.csv\")\n",
    "#read parent genotypes\n",
    "parent_genos = pd.read_csv(\"data/sim_data/NAM_parent_genos.csv\")\n",
    "#read reference allele\n",
    "ref_allele = pd.read_csv(\"data/sim_data/B73_alleles.csv\")\n",
    "# read population names\n",
    "populations = pd.read_csv(\"data/sim_data/populations.csv\")"
   ]
  },
  {
   "cell_type": "code",
   "execution_count": 4,
   "id": "874c3687-90f8-4b83-a8ed-678b6967b360",
   "metadata": {},
   "outputs": [],
   "source": [
    "pop_dict = dict(zip(populations[\"pop\"], populations[\"name\"]))\n",
    "size_dict = dict(zip(populations[\"pop\"], populations[\"size\"]))\n",
    "pops = populations[\"pop\"]"
   ]
  },
  {
   "cell_type": "code",
   "execution_count": 5,
   "id": "bfed12cb-09fb-41fa-9dd5-2fbf4e0438d4",
   "metadata": {},
   "outputs": [],
   "source": [
    "genmap_high = genmap.copy()\n",
    "genmap_high[\"Rate(cM/Mb)\"] += 5\n",
    "#ensure last recombination rate is 0 at every chromosome (requirement for msprime)\n",
    "genmap_high.loc[genmap_high.groupby(\"Chromosome\").tail(1).index, \"Rate(cM/Mb)\"] = 0\n",
    "#genmap with 0 recombination rate\n",
    "genmap_zero = genmap.copy()\n",
    "genmap_zero[\"Rate(cM/Mb)\"] = 0\n",
    "# genmap with constant recombination rate (mean over all recombination)\n",
    "genmap_mean = genmap.copy()\n",
    "genmap_mean[\"Rate(cM/Mb)\"] = genmap[\"Rate(cM/Mb)\"].mean()\n",
    "genmap_mean.loc[genmap_mean.groupby(\"Chromosome\").tail(1).index, \"Rate(cM/Mb)\"] = 0"
   ]
  },
  {
   "cell_type": "code",
   "execution_count": 6,
   "id": "36135408-f205-43e1-ba81-1f287de62e4a",
   "metadata": {},
   "outputs": [
    {
     "name": "stdout",
     "output_type": "stream",
     "text": [
      "starting simulation\n",
      "finished chromsome 1\n",
      "finished chromsome 2\n",
      "finished chromsome 3\n",
      "finished chromsome 4\n",
      "finished chromsome 5\n",
      "finished chromsome 6\n",
      "finished chromsome 7\n",
      "finished chromsome 8\n",
      "finished chromsome 9\n",
      "finished chromsome 10\n"
     ]
    }
   ],
   "source": [
    "whole_sim = genotype_simulation(genetic_map = genmap_zero, parent_genos = parent_genos, ref_allele = ref_allele, \n",
    "                                founder_list = list([\"B73\", \"B97\"]), offspring = 3, selfing_genos = 5)"
   ]
  },
  {
   "cell_type": "code",
   "execution_count": 7,
   "id": "32a4eede-69c0-49f3-bb68-c25a7a0e5816",
   "metadata": {},
   "outputs": [
    {
     "data": {
      "text/html": [
       "<div>\n",
       "<style scoped>\n",
       "    .dataframe tbody tr th:only-of-type {\n",
       "        vertical-align: middle;\n",
       "    }\n",
       "\n",
       "    .dataframe tbody tr th {\n",
       "        vertical-align: top;\n",
       "    }\n",
       "\n",
       "    .dataframe thead th {\n",
       "        text-align: right;\n",
       "    }\n",
       "</style>\n",
       "<table border=\"1\" class=\"dataframe\">\n",
       "  <thead>\n",
       "    <tr style=\"text-align: right;\">\n",
       "      <th></th>\n",
       "      <th>individual</th>\n",
       "      <th>PZA01271.1</th>\n",
       "      <th>PZA03613.1</th>\n",
       "      <th>PZA02129.1</th>\n",
       "      <th>PZA02032.1</th>\n",
       "      <th>PHM2244.142</th>\n",
       "      <th>PZA02372.1</th>\n",
       "      <th>PHM6238.36</th>\n",
       "      <th>PZA00181.2</th>\n",
       "      <th>PZA00528.1</th>\n",
       "      <th>...</th>\n",
       "      <th>PZA03604.1</th>\n",
       "      <th>PZA00130.9</th>\n",
       "      <th>PZA02969.9</th>\n",
       "      <th>PZA02049.1</th>\n",
       "      <th>PZA00007.1</th>\n",
       "      <th>PHM5435.25</th>\n",
       "      <th>PZA01073.1</th>\n",
       "      <th>PZA01001.2</th>\n",
       "      <th>PZA02578.1</th>\n",
       "      <th>PZA00062.4</th>\n",
       "    </tr>\n",
       "  </thead>\n",
       "  <tbody>\n",
       "    <tr>\n",
       "      <th>0</th>\n",
       "      <td>17</td>\n",
       "      <td>GG</td>\n",
       "      <td>TT</td>\n",
       "      <td>CC</td>\n",
       "      <td>AA</td>\n",
       "      <td>GG</td>\n",
       "      <td>TT</td>\n",
       "      <td>AA</td>\n",
       "      <td>TT</td>\n",
       "      <td>CC</td>\n",
       "      <td>...</td>\n",
       "      <td>TT</td>\n",
       "      <td>CC</td>\n",
       "      <td>CC</td>\n",
       "      <td>GG</td>\n",
       "      <td>CC</td>\n",
       "      <td>AA</td>\n",
       "      <td>AA</td>\n",
       "      <td>TT</td>\n",
       "      <td>CC</td>\n",
       "      <td>CC</td>\n",
       "    </tr>\n",
       "    <tr>\n",
       "      <th>1</th>\n",
       "      <td>18</td>\n",
       "      <td>GG</td>\n",
       "      <td>TT</td>\n",
       "      <td>CC</td>\n",
       "      <td>AA</td>\n",
       "      <td>GG</td>\n",
       "      <td>TT</td>\n",
       "      <td>AA</td>\n",
       "      <td>TT</td>\n",
       "      <td>CC</td>\n",
       "      <td>...</td>\n",
       "      <td>CC</td>\n",
       "      <td>CC</td>\n",
       "      <td>TT</td>\n",
       "      <td>CC</td>\n",
       "      <td>AA</td>\n",
       "      <td>GG</td>\n",
       "      <td>GG</td>\n",
       "      <td>CC</td>\n",
       "      <td>TT</td>\n",
       "      <td>TT</td>\n",
       "    </tr>\n",
       "    <tr>\n",
       "      <th>2</th>\n",
       "      <td>19</td>\n",
       "      <td>CC</td>\n",
       "      <td>AA</td>\n",
       "      <td>TT</td>\n",
       "      <td>TT</td>\n",
       "      <td>CC</td>\n",
       "      <td>TT</td>\n",
       "      <td>AA</td>\n",
       "      <td>GG</td>\n",
       "      <td>AA</td>\n",
       "      <td>...</td>\n",
       "      <td>TT</td>\n",
       "      <td>CC</td>\n",
       "      <td>CC</td>\n",
       "      <td>GG</td>\n",
       "      <td>CC</td>\n",
       "      <td>AA</td>\n",
       "      <td>AA</td>\n",
       "      <td>TT</td>\n",
       "      <td>CC</td>\n",
       "      <td>CC</td>\n",
       "    </tr>\n",
       "  </tbody>\n",
       "</table>\n",
       "<p>3 rows × 975 columns</p>\n",
       "</div>"
      ],
      "text/plain": [
       "   individual PZA01271.1 PZA03613.1 PZA02129.1 PZA02032.1 PHM2244.142  \\\n",
       "0          17         GG         TT         CC         AA          GG   \n",
       "1          18         GG         TT         CC         AA          GG   \n",
       "2          19         CC         AA         TT         TT          CC   \n",
       "\n",
       "  PZA02372.1 PHM6238.36 PZA00181.2 PZA00528.1  ... PZA03604.1 PZA00130.9  \\\n",
       "0         TT         AA         TT         CC  ...         TT         CC   \n",
       "1         TT         AA         TT         CC  ...         CC         CC   \n",
       "2         TT         AA         GG         AA  ...         TT         CC   \n",
       "\n",
       "  PZA02969.9 PZA02049.1 PZA00007.1 PHM5435.25 PZA01073.1 PZA01001.2  \\\n",
       "0         CC         GG         CC         AA         AA         TT   \n",
       "1         TT         CC         AA         GG         GG         CC   \n",
       "2         CC         GG         CC         AA         AA         TT   \n",
       "\n",
       "  PZA02578.1 PZA00062.4  \n",
       "0         CC         CC  \n",
       "1         TT         TT  \n",
       "2         CC         CC  \n",
       "\n",
       "[3 rows x 975 columns]"
      ]
     },
     "execution_count": 7,
     "metadata": {},
     "output_type": "execute_result"
    }
   ],
   "source": [
    "whole_sim[0]"
   ]
  },
  {
   "cell_type": "code",
   "execution_count": 10,
   "id": "324d3698-d0c6-428d-b3f9-4d371c2f0a18",
   "metadata": {},
   "outputs": [
    {
     "name": "stdout",
     "output_type": "stream",
     "text": [
      "TableCollection\n",
      "\n",
      "Sequence Length: 297570924.0\n",
      "Time units: generations\n",
      "Metadata: b''\n",
      "\n",
      "Individuals\n",
      "╔══╤═════╤════════╤═══════╤═════════════════╗\n",
      "║id│flags│location│parents│metadata         ║\n",
      "╠══╪═════╪════════╪═══════╪═════════════════╣\n",
      "║0 │    0│        │ -1, -1│ {'file_id': '0'}║\n",
      "║1 │    0│        │ -1, -1│ {'file_id': '1'}║\n",
      "║2 │    0│        │   0, 1│ {'file_id': '2'}║\n",
      "║3 │    0│        │   0, 1│ {'file_id': '3'}║\n",
      "║4 │    0│        │   0, 1│ {'file_id': '4'}║\n",
      "║5 │    0│        │   2, 2│ {'file_id': '5'}║\n",
      "║6 │    0│        │   3, 3│ {'file_id': '6'}║\n",
      "║7 │    0│        │   4, 4│ {'file_id': '7'}║\n",
      "║8 │    0│        │   5, 5│ {'file_id': '8'}║\n",
      "║9 │    0│        │   6, 6│ {'file_id': '9'}║\n",
      "║10│    0│        │   7, 7│{'file_id': '10'}║\n",
      "║11│    0│        │   8, 8│{'file_id': '11'}║\n",
      "║12│    0│        │   9, 9│{'file_id': '12'}║\n",
      "║13│    0│        │ 10, 10│{'file_id': '13'}║\n",
      "║14│    0│        │ 11, 11│{'file_id': '14'}║\n",
      "║15│    0│        │ 12, 12│{'file_id': '15'}║\n",
      "║16│    0│        │ 13, 13│{'file_id': '16'}║\n",
      "║17│    0│        │ 14, 14│{'file_id': '17'}║\n",
      "║18│    0│        │ 15, 15│{'file_id': '18'}║\n",
      "║19│    0│        │ 16, 16│{'file_id': '19'}║\n",
      "╚══╧═════╧════════╧═══════╧═════════════════╝\n",
      "\n",
      "Nodes\n",
      "╔══╤═════╤══════════╤══════════╤════╤════════╗\n",
      "║id│flags│population│individual│time│metadata║\n",
      "╠══╪═════╪══════════╪══════════╪════╪════════╣\n",
      "║0 │    0│         0│         0│   6│        ║\n",
      "║1 │    0│         0│         0│   6│        ║\n",
      "║2 │    0│         0│         1│   6│        ║\n",
      "║3 │    0│         0│         1│   6│        ║\n",
      "║4 │    0│         0│         2│   5│        ║\n",
      "║5 │    0│         0│         2│   5│        ║\n",
      "║6 │    0│         0│         3│   5│        ║\n",
      "║7 │    0│         0│         3│   5│        ║\n",
      "║8 │    0│         0│         4│   5│        ║\n",
      "║9 │    0│         0│         4│   5│        ║\n",
      "║10│    0│         0│         5│   4│        ║\n",
      "║11│    0│         0│         5│   4│        ║\n",
      "║12│    0│         0│         6│   4│        ║\n",
      "║13│    0│         0│         6│   4│        ║\n",
      "║14│    0│         0│         7│   4│        ║\n",
      "║15│    0│         0│         7│   4│        ║\n",
      "║16│    0│         0│         8│   3│        ║\n",
      "║17│    0│         0│         8│   3│        ║\n",
      "║18│    0│         0│         9│   3│        ║\n",
      "║19│    0│         0│         9│   3│        ║\n",
      "║20│    0│         0│        10│   3│        ║\n",
      "║21│    0│         0│        10│   3│        ║\n",
      "║22│    0│         0│        11│   2│        ║\n",
      "║23│    0│         0│        11│   2│        ║\n",
      "║24│    0│         0│        12│   2│        ║\n",
      "║25│    0│         0│        12│   2│        ║\n",
      "║26│    0│         0│        13│   2│        ║\n",
      "║27│    0│         0│        13│   2│        ║\n",
      "║28│    0│         0│        14│   1│        ║\n",
      "║29│    0│         0│        14│   1│        ║\n",
      "║30│    0│         0│        15│   1│        ║\n",
      "║31│    0│         0│        15│   1│        ║\n",
      "║32│    0│         0│        16│   1│        ║\n",
      "║33│    0│         0│        16│   1│        ║\n",
      "║34│    1│         0│        17│   0│        ║\n",
      "║35│    1│         0│        17│   0│        ║\n",
      "║36│    1│         0│        18│   0│        ║\n",
      "║37│    1│         0│        18│   0│        ║\n",
      "║38│    1│         0│        19│   0│        ║\n",
      "║39│    1│         0│        19│   0│        ║\n",
      "╚══╧═════╧══════════╧══════════╧════╧════════╝\n",
      "\n",
      "Edges\n",
      "╔══╤═══════╤═════════╤══════╤═════╤════════╗\n",
      "║id│left   │right    │parent│child│metadata║\n",
      "╠══╪═══════╪═════════╪══════╪═════╪════════╣\n",
      "║0 │1947984│297570924│    28│   34│        ║\n",
      "║1 │1947984│297570924│    28│   35│        ║\n",
      "║2 │1947984│297570924│    32│   38│        ║\n",
      "║3 │1947984│297570924│    32│   39│        ║\n",
      "║4 │1947984│297570924│    25│   36│        ║\n",
      "║5 │1947984│297570924│    25│   37│        ║\n",
      "║6 │1947984│297570924│     1│   32│        ║\n",
      "║7 │1947984│297570924│     2│   28│        ║\n",
      "║8 │1947984│297570924│     3│   25│        ║\n",
      "╚══╧═══════╧═════════╧══════╧═════╧════════╝\n",
      "\n",
      "Sites\n",
      "╔══╤════════╤═══════════════╤════════╗\n",
      "║id│position│ancestral_state│metadata║\n",
      "╠══╪════════╪═══════════════╪════════╣\n",
      "╚══╧════════╧═══════════════╧════════╝\n",
      "\n",
      "Mutations\n",
      "╔══╤════╤════╤════╤═════════════╤══════╤════════╗\n",
      "║id│site│node│time│derived_state│parent│metadata║\n",
      "╠══╪════╪════╪════╪═════════════╪══════╪════════╣\n",
      "╚══╧════╧════╧════╧═════════════╧══════╧════════╝\n",
      "\n",
      "Migrations\n",
      "╔══╤════╤═════╤════╤══════╤════╤════╤════════╗\n",
      "║id│left│right│node│source│dest│time│metadata║\n",
      "╠══╪════╪═════╪════╪══════╪════╪════╪════════╣\n",
      "╚══╧════╧═════╧════╧══════╧════╧════╧════════╝\n",
      "\n",
      "Populations\n",
      "╔══╤════════════════════════════════════╗\n",
      "║id│metadata                            ║\n",
      "╠══╪════════════════════════════════════╣\n",
      "║0 │{'description': '', 'name': 'pop_0'}║\n",
      "╚══╧════════════════════════════════════╝\n",
      "\n",
      "Provenances\n",
      "╔══╤══════════════════════════╤════════════════════════════════════════════════════════════╗\n",
      "║id│timestamp                 │record                                                      ║\n",
      "╠══╪══════════════════════════╪════════════════════════════════════════════════════════════╣\n",
      "║0 │2024-01-18T18:21:42.893372│{\"schema_version\": \"1.0.0\", \"software\": {\"name\": \"msprime...║\n",
      "╚══╧══════════════════════════╧════════════════════════════════════════════════════════════╝\n",
      "\n"
     ]
    }
   ],
   "source": [
    "print(whole_sim[1][0].dump_tables())"
   ]
  },
  {
   "cell_type": "code",
   "execution_count": 12,
   "id": "943d0721-4b27-44d1-9563-784b68d5318d",
   "metadata": {
    "scrolled": true
   },
   "outputs": [
    {
     "data": {
      "image/svg+xml": [
       "<svg baseProfile=\"full\" height=\"400\" version=\"1.1\" width=\"3000\" xmlns=\"http://www.w3.org/2000/svg\" xmlns:ev=\"http://www.w3.org/2001/xml-events\" xmlns:xlink=\"http://www.w3.org/1999/xlink\"><defs><style type=\"text/css\"><![CDATA[.background path {fill: #808080; fill-opacity: 0}.background path:nth-child(odd) {fill-opacity: .1}.axes {font-size: 14px}.x-axis .tick .lab {font-weight: bold; dominant-baseline: hanging}.axes, .tree {font-size: 14px; text-anchor: middle}.axes line, .edge {stroke: black; fill: none}.axes .ax-skip {stroke-dasharray: 4}.y-axis .grid {stroke: #FAFAFA}.node > .sym {fill: black; stroke: none}.site > .sym {stroke: black}.mut text {fill: red; font-style: italic}.mut.extra text {fill: hotpink}.mut line {fill: none; stroke: none}.mut .sym {fill: none; stroke: red}.mut.extra .sym {stroke: hotpink}.node .mut .sym {stroke-width: 1.5px}.tree text, .tree-sequence text {dominant-baseline: central}.plotbox .lab.lft {text-anchor: end}.plotbox .lab.rgt {text-anchor: start}]]></style></defs><g class=\"tree-sequence\"><g class=\"background\"><path d=\"M56.8,0 l2923.2,0 l0,338.2 l0,25 l0,5 l-2923.2,0 l0,-5 l0,-25 l0,-338.2z\" /></g><g class=\"axes\"><g class=\"x-axis\"><g class=\"title\" transform=\"translate(1518.4 400)\"><text class=\"lab\" text-anchor=\"middle\" transform=\"translate(0 -11)\">Genome position</text></g><line class=\"ax-line\" x1=\"56.8\" x2=\"2980\" y1=\"363.2\" y2=\"363.2\" /><g class=\"ticks\"><g class=\"tick\" transform=\"translate(56.8 363.2)\"><line x1=\"0\" x2=\"0\" y1=\"0\" y2=\"5\" /><g transform=\"translate(0 6)\"><text class=\"lab\">1947984</text></g></g><g class=\"tick\" transform=\"translate(2980 363.2)\"><line x1=\"0\" x2=\"0\" y1=\"0\" y2=\"5\" /><g transform=\"translate(0 6)\"><text class=\"lab\">297570924</text></g></g></g></g><g class=\"y-axis\"><g class=\"title\" transform=\"translate(0 165.7)\"><text class=\"lab\" text-anchor=\"middle\" transform=\"translate(11) rotate(-90)\">Time (generations)</text></g><line class=\"ax-line\" x1=\"56.8\" x2=\"56.8\" y1=\"321.4\" y2=\"10\" /><g class=\"ticks\"><g class=\"tick\" transform=\"translate(56.8 321.4)\"><line x1=\"0\" x2=\"-5\" y1=\"0\" y2=\"0\" /><g transform=\"translate(-6 0)\"><text class=\"lab\" text-anchor=\"end\">0</text></g></g><g class=\"tick\" transform=\"translate(56.8 272.3)\"><line x1=\"0\" x2=\"-5\" y1=\"0\" y2=\"0\" /><g transform=\"translate(-6 0)\"><text class=\"lab\" text-anchor=\"end\">1</text></g></g><g class=\"tick\" transform=\"translate(56.8 223.2)\"><line x1=\"0\" x2=\"-5\" y1=\"0\" y2=\"0\" /><g transform=\"translate(-6 0)\"><text class=\"lab\" text-anchor=\"end\">2</text></g></g><g class=\"tick\" transform=\"translate(56.8 26.8)\"><line x1=\"0\" x2=\"-5\" y1=\"0\" y2=\"0\" /><g transform=\"translate(-6 0)\"><text class=\"lab\" text-anchor=\"end\">6</text></g></g></g></g></g><g class=\"plotbox trees\"><g class=\"tree t1\" transform=\"translate(56.8 0)\"><g class=\"plotbox\"><g class=\"c1 i0 node n1 p0 root\" transform=\"translate(500.533 26.8)\"><g class=\"a1 c2 i16 node n32 p0\" transform=\"translate(0.0 245.5)\"><g class=\"a32 i19 leaf node n38 p0 sample\" transform=\"translate(-240.267 49.1)\"><path class=\"edge\" d=\"M 0 0 V -49.1 H 240.267\" /><rect class=\"sym\" height=\"6\" width=\"6\" x=\"-3\" y=\"-3\" /><text class=\"lab\" transform=\"translate(0 11)\">19(38)</text></g><g class=\"a32 i19 leaf node n39 p0 sample\" transform=\"translate(240.267 49.1)\"><path class=\"edge\" d=\"M 0 0 V -49.1 H -240.267\" /><rect class=\"sym\" height=\"6\" width=\"6\" x=\"-3\" y=\"-3\" /><text class=\"lab\" transform=\"translate(0 11)\">19(39)</text></g><path class=\"edge\" d=\"M 0 0 V -245.5 H 0.0\" /><circle class=\"sym\" cx=\"0\" cy=\"0\" r=\"3\" /><text class=\"lab lft\" transform=\"translate(-3 -7.0)\">16(32)</text></g><circle class=\"sym\" cx=\"0\" cy=\"0\" r=\"3\" /><text class=\"lab\" transform=\"translate(0 -11)\">0(1)</text></g><g class=\"c1 i1 node n2 p0 root\" transform=\"translate(1461.6 26.8)\"><g class=\"a2 c2 i14 node n28 p0\" transform=\"translate(0.0 245.5)\"><g class=\"a28 i17 leaf node n34 p0 sample\" transform=\"translate(-240.267 49.1)\"><path class=\"edge\" d=\"M 0 0 V -49.1 H 240.267\" /><rect class=\"sym\" height=\"6\" width=\"6\" x=\"-3\" y=\"-3\" /><text class=\"lab\" transform=\"translate(0 11)\">17(34)</text></g><g class=\"a28 i17 leaf node n35 p0 sample\" transform=\"translate(240.267 49.1)\"><path class=\"edge\" d=\"M 0 0 V -49.1 H -240.267\" /><rect class=\"sym\" height=\"6\" width=\"6\" x=\"-3\" y=\"-3\" /><text class=\"lab\" transform=\"translate(0 11)\">17(35)</text></g><path class=\"edge\" d=\"M 0 0 V -245.5 H 0.0\" /><circle class=\"sym\" cx=\"0\" cy=\"0\" r=\"3\" /><text class=\"lab lft\" transform=\"translate(-3 -7.0)\">14(28)</text></g><circle class=\"sym\" cx=\"0\" cy=\"0\" r=\"3\" /><text class=\"lab\" transform=\"translate(0 -11)\">1(2)</text></g><g class=\"c1 i1 node n3 p0 root\" transform=\"translate(2422.67 26.8)\"><g class=\"a3 c2 i12 node n25 p0\" transform=\"translate(0.0 196.4)\"><g class=\"a25 i18 leaf node n36 p0 sample\" transform=\"translate(-240.267 98.2)\"><path class=\"edge\" d=\"M 0 0 V -98.2 H 240.267\" /><rect class=\"sym\" height=\"6\" width=\"6\" x=\"-3\" y=\"-3\" /><text class=\"lab\" transform=\"translate(0 11)\">18(36)</text></g><g class=\"a25 i18 leaf node n37 p0 sample\" transform=\"translate(240.267 98.2)\"><path class=\"edge\" d=\"M 0 0 V -98.2 H -240.267\" /><rect class=\"sym\" height=\"6\" width=\"6\" x=\"-3\" y=\"-3\" /><text class=\"lab\" transform=\"translate(0 11)\">18(37)</text></g><path class=\"edge\" d=\"M 0 0 V -196.4 H 0.0\" /><circle class=\"sym\" cx=\"0\" cy=\"0\" r=\"3\" /><text class=\"lab lft\" transform=\"translate(-3 -7.0)\">12(25)</text></g><circle class=\"sym\" cx=\"0\" cy=\"0\" r=\"3\" /><text class=\"lab\" transform=\"translate(0 -11)\">1(3)</text></g></g></g></g></g></svg>"
      ],
      "text/plain": [
       "'<svg baseProfile=\"full\" height=\"400\" version=\"1.1\" width=\"3000\" xmlns=\"http://www.w3.org/2000/svg\" xmlns:ev=\"http://www.w3.org/2001/xml-events\" xmlns:xlink=\"http://www.w3.org/1999/xlink\"><defs><style type=\"text/css\"><![CDATA[.background path {fill: #808080; fill-opacity: 0}.background path:nth-child(odd) {fill-opacity: .1}.axes {font-size: 14px}.x-axis .tick .lab {font-weight: bold; dominant-baseline: hanging}.axes, .tree {font-size: 14px; text-anchor: middle}.axes line, .edge {stroke: black; fill: none}.axes .ax-skip {stroke-dasharray: 4}.y-axis .grid {stroke: #FAFAFA}.node > .sym {fill: black; stroke: none}.site > .sym {stroke: black}.mut text {fill: red; font-style: italic}.mut.extra text {fill: hotpink}.mut line {fill: none; stroke: none}.mut .sym {fill: none; stroke: red}.mut.extra .sym {stroke: hotpink}.node .mut .sym {stroke-width: 1.5px}.tree text, .tree-sequence text {dominant-baseline: central}.plotbox .lab.lft {text-anchor: end}.plotbox .lab.rgt {text-anchor: start}]]></style></defs><g class=\"tree-sequence\"><g class=\"background\"><path d=\"M56.8,0 l2923.2,0 l0,338.2 l0,25 l0,5 l-2923.2,0 l0,-5 l0,-25 l0,-338.2z\" /></g><g class=\"axes\"><g class=\"x-axis\"><g class=\"title\" transform=\"translate(1518.4 400)\"><text class=\"lab\" text-anchor=\"middle\" transform=\"translate(0 -11)\">Genome position</text></g><line class=\"ax-line\" x1=\"56.8\" x2=\"2980\" y1=\"363.2\" y2=\"363.2\" /><g class=\"ticks\"><g class=\"tick\" transform=\"translate(56.8 363.2)\"><line x1=\"0\" x2=\"0\" y1=\"0\" y2=\"5\" /><g transform=\"translate(0 6)\"><text class=\"lab\">1947984</text></g></g><g class=\"tick\" transform=\"translate(2980 363.2)\"><line x1=\"0\" x2=\"0\" y1=\"0\" y2=\"5\" /><g transform=\"translate(0 6)\"><text class=\"lab\">297570924</text></g></g></g></g><g class=\"y-axis\"><g class=\"title\" transform=\"translate(0 165.7)\"><text class=\"lab\" text-anchor=\"middle\" transform=\"translate(11) rotate(-90)\">Time (generations)</text></g><line class=\"ax-line\" x1=\"56.8\" x2=\"56.8\" y1=\"321.4\" y2=\"10\" /><g class=\"ticks\"><g class=\"tick\" transform=\"translate(56.8 321.4)\"><line x1=\"0\" x2=\"-5\" y1=\"0\" y2=\"0\" /><g transform=\"translate(-6 0)\"><text class=\"lab\" text-anchor=\"end\">0</text></g></g><g class=\"tick\" transform=\"translate(56.8 272.3)\"><line x1=\"0\" x2=\"-5\" y1=\"0\" y2=\"0\" /><g transform=\"translate(-6 0)\"><text class=\"lab\" text-anchor=\"end\">1</text></g></g><g class=\"tick\" transform=\"translate(56.8 223.2)\"><line x1=\"0\" x2=\"-5\" y1=\"0\" y2=\"0\" /><g transform=\"translate(-6 0)\"><text class=\"lab\" text-anchor=\"end\">2</text></g></g><g class=\"tick\" transform=\"translate(56.8 26.8)\"><line x1=\"0\" x2=\"-5\" y1=\"0\" y2=\"0\" /><g transform=\"translate(-6 0)\"><text class=\"lab\" text-anchor=\"end\">6</text></g></g></g></g></g><g class=\"plotbox trees\"><g class=\"tree t1\" transform=\"translate(56.8 0)\"><g class=\"plotbox\"><g class=\"c1 i0 node n1 p0 root\" transform=\"translate(500.533 26.8)\"><g class=\"a1 c2 i16 node n32 p0\" transform=\"translate(0.0 245.5)\"><g class=\"a32 i19 leaf node n38 p0 sample\" transform=\"translate(-240.267 49.1)\"><path class=\"edge\" d=\"M 0 0 V -49.1 H 240.267\" /><rect class=\"sym\" height=\"6\" width=\"6\" x=\"-3\" y=\"-3\" /><text class=\"lab\" transform=\"translate(0 11)\">19(38)</text></g><g class=\"a32 i19 leaf node n39 p0 sample\" transform=\"translate(240.267 49.1)\"><path class=\"edge\" d=\"M 0 0 V -49.1 H -240.267\" /><rect class=\"sym\" height=\"6\" width=\"6\" x=\"-3\" y=\"-3\" /><text class=\"lab\" transform=\"translate(0 11)\">19(39)</text></g><path class=\"edge\" d=\"M 0 0 V -245.5 H 0.0\" /><circle class=\"sym\" cx=\"0\" cy=\"0\" r=\"3\" /><text class=\"lab lft\" transform=\"translate(-3 -7.0)\">16(32)</text></g><circle class=\"sym\" cx=\"0\" cy=\"0\" r=\"3\" /><text class=\"lab\" transform=\"translate(0 -11)\">0(1)</text></g><g class=\"c1 i1 node n2 p0 root\" transform=\"translate(1461.6 26.8)\"><g class=\"a2 c2 i14 node n28 p0\" transform=\"translate(0.0 245.5)\"><g class=\"a28 i17 leaf node n34 p0 sample\" transform=\"translate(-240.267 49.1)\"><path class=\"edge\" d=\"M 0 0 V -49.1 H 240.267\" /><rect class=\"sym\" height=\"6\" width=\"6\" x=\"-3\" y=\"-3\" /><text class=\"lab\" transform=\"translate(0 11)\">17(34)</text></g><g class=\"a28 i17 leaf node n35 p0 sample\" transform=\"translate(240.267 49.1)\"><path class=\"edge\" d=\"M 0 0 V -49.1 H -240.267\" /><rect class=\"sym\" height=\"6\" width=\"6\" x=\"-3\" y=\"-3\" /><text class=\"lab\" transform=\"translate(0 11)\">17(35)</text></g><path class=\"edge\" d=\"M 0 0 V -245.5 H 0.0\" /><circle class=\"sym\" cx=\"0\" cy=\"0\" r=\"3\" /><text class=\"lab lft\" transform=\"translate(-3 -7.0)\">14(28)</text></g><circle class=\"sym\" cx=\"0\" cy=\"0\" r=\"3\" /><text class=\"lab\" transform=\"translate(0 -11)\">1(2)</text></g><g class=\"c1 i1 node n3 p0 root\" transform=\"translate(2422.67 26.8)\"><g class=\"a3 c2 i12 node n25 p0\" transform=\"translate(0.0 196.4)\"><g class=\"a25 i18 leaf node n36 p0 sample\" transform=\"translate(-240.267 98.2)\"><path class=\"edge\" d=\"M 0 0 V -98.2 H 240.267\" /><rect class=\"sym\" height=\"6\" width=\"6\" x=\"-3\" y=\"-3\" /><text class=\"lab\" transform=\"translate(0 11)\">18(36)</text></g><g class=\"a25 i18 leaf node n37 p0 sample\" transform=\"translate(240.267 98.2)\"><path class=\"edge\" d=\"M 0 0 V -98.2 H -240.267\" /><rect class=\"sym\" height=\"6\" width=\"6\" x=\"-3\" y=\"-3\" /><text class=\"lab\" transform=\"translate(0 11)\">18(37)</text></g><path class=\"edge\" d=\"M 0 0 V -196.4 H 0.0\" /><circle class=\"sym\" cx=\"0\" cy=\"0\" r=\"3\" /><text class=\"lab lft\" transform=\"translate(-3 -7.0)\">12(25)</text></g><circle class=\"sym\" cx=\"0\" cy=\"0\" r=\"3\" /><text class=\"lab\" transform=\"translate(0 -11)\">1(3)</text></g></g></g></g></g></svg>'"
      ]
     },
     "metadata": {},
     "output_type": "display_data"
    }
   ],
   "source": [
    "draw_ancestry(whole_sim[1][0])"
   ]
  },
  {
   "cell_type": "code",
   "execution_count": 13,
   "id": "c8424df6-a920-4e94-a819-99e84a0cf7d9",
   "metadata": {},
   "outputs": [
    {
     "data": {
      "text/plain": [
       "(199.7455372, 20.0)"
      ]
     },
     "execution_count": 13,
     "metadata": {},
     "output_type": "execute_result"
    }
   ],
   "source": [
    "calc_total_recomb(whole_sim[1])"
   ]
  }
 ],
 "metadata": {
  "kernelspec": {
   "display_name": "Python 3 (ipykernel)",
   "language": "python",
   "name": "python3"
  },
  "language_info": {
   "codemirror_mode": {
    "name": "ipython",
    "version": 3
   },
   "file_extension": ".py",
   "mimetype": "text/x-python",
   "name": "python",
   "nbconvert_exporter": "python",
   "pygments_lexer": "ipython3",
   "version": "3.11.4"
  }
 },
 "nbformat": 4,
 "nbformat_minor": 5
}
