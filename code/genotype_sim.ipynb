{
 "cells": [
  {
   "cell_type": "code",
   "execution_count": null,
   "id": "e3699d6c-2142-4e55-9a1e-3aa2af7310e3",
   "metadata": {},
   "outputs": [],
   "source": [
    "##example notebook of genotype simulation"
   ]
  },
  {
   "cell_type": "code",
   "execution_count": 1,
   "id": "f66127f6-8c60-4606-8122-4149652b3cd0",
   "metadata": {},
   "outputs": [
    {
     "name": "stderr",
     "output_type": "stream",
     "text": [
      "C:\\Users\\PHLUP\\miniconda3\\envs\\masterarbeit\\Lib\\site-packages\\stdpopsim\\catalog\\HomSap\\demographic_models.py:158: FutureWarning: Calling int on a single element Series is deprecated and will raise a TypeError in the future. Use int(ser.iloc[0]) instead\n",
      "  time=int(extended_GF.time.head(1) - 1), rate=0\n",
      "C:\\Users\\PHLUP\\miniconda3\\envs\\masterarbeit\\Lib\\site-packages\\stdpopsim\\catalog\\HomSap\\demographic_models.py:161: FutureWarning: Calling int on a single element Series is deprecated and will raise a TypeError in the future. Use int(ser.iloc[0]) instead\n",
      "  time=int(extended_GF.time.tail(1) + 1), rate=0\n"
     ]
    }
   ],
   "source": [
    "from project_lib.genotype_simulation import *\n",
    "from project_lib.stat_functions import *"
   ]
  },
  {
   "cell_type": "code",
   "execution_count": 2,
   "id": "4d684306-07ba-4c37-9a89-b08f64689a7c",
   "metadata": {},
   "outputs": [],
   "source": [
    "#read genetic map\n",
    "genmap = pd.read_csv(\"data/sim_data/B73_genmap.csv\")\n",
    "#read parent genotypes\n",
    "parent_genos = pd.read_csv(\"data/sim_data/NAM_parent_genos.csv\")\n",
    "#read reference allele\n",
    "ref_allele = pd.read_csv(\"data/sim_data/B73_alleles.csv\")\n",
    "# read population names\n",
    "populations = pd.read_csv(\"data/sim_data/populations.csv\")"
   ]
  },
  {
   "cell_type": "code",
   "execution_count": 3,
   "id": "874c3687-90f8-4b83-a8ed-678b6967b360",
   "metadata": {},
   "outputs": [],
   "source": [
    "pop_dict = dict(zip(populations[\"pop\"], populations[\"name\"]))\n",
    "size_dict = dict(zip(populations[\"pop\"], populations[\"size\"]))\n",
    "pops = populations[\"pop\"]"
   ]
  },
  {
   "cell_type": "code",
   "execution_count": 4,
   "id": "36135408-f205-43e1-ba81-1f287de62e4a",
   "metadata": {},
   "outputs": [
    {
     "name": "stdout",
     "output_type": "stream",
     "text": [
      "starting simulation\n",
      "finished chromsome 1\n",
      "finished chromsome 2\n",
      "finished chromsome 3\n",
      "finished chromsome 4\n",
      "finished chromsome 5\n",
      "finished chromsome 6\n",
      "finished chromsome 7\n",
      "finished chromsome 8\n",
      "finished chromsome 9\n",
      "finished chromsome 10\n"
     ]
    }
   ],
   "source": [
    "whole_sim = genotype_simulation(genetic_map = genmap, parent_genos = parent_genos, ref_allele = ref_allele, \n",
    "                                founder_list = list([\"B73\", \"B97\"]), offspring = 3, selfing_genos = 5)"
   ]
  },
  {
   "cell_type": "code",
   "execution_count": null,
   "id": "32a4eede-69c0-49f3-bb68-c25a7a0e5816",
   "metadata": {},
   "outputs": [],
   "source": [
    "whole_sim[0]"
   ]
  },
  {
   "cell_type": "code",
   "execution_count": 13,
   "id": "324d3698-d0c6-428d-b3f9-4d371c2f0a18",
   "metadata": {},
   "outputs": [
    {
     "data": {
      "text/plain": [
       "[<tskit.trees.TreeSequence at 0x1ea63ec5e90>,\n",
       " <tskit.trees.TreeSequence at 0x1ea6aee7c90>,\n",
       " <tskit.trees.TreeSequence at 0x1ea6af184d0>,\n",
       " <tskit.trees.TreeSequence at 0x1ea6af32910>,\n",
       " <tskit.trees.TreeSequence at 0x1ea6ae76b90>,\n",
       " <tskit.trees.TreeSequence at 0x1ea6ad84650>,\n",
       " <tskit.trees.TreeSequence at 0x1ea6ad78d10>,\n",
       " <tskit.trees.TreeSequence at 0x1ea6ad3ec90>,\n",
       " <tskit.trees.TreeSequence at 0x1ea6af045d0>,\n",
       " <tskit.trees.TreeSequence at 0x1ea6af2f150>]"
      ]
     },
     "execution_count": 13,
     "metadata": {},
     "output_type": "execute_result"
    }
   ],
   "source": [
    "whole_sim[1]"
   ]
  },
  {
   "cell_type": "code",
   "execution_count": 22,
   "id": "c8424df6-a920-4e94-a819-99e84a0cf7d9",
   "metadata": {},
   "outputs": [],
   "source": [
    "calc_total_recomb(whole_sim[1])"
   ]
  }
 ],
 "metadata": {
  "kernelspec": {
   "display_name": "Python 3 (ipykernel)",
   "language": "python",
   "name": "python3"
  },
  "language_info": {
   "codemirror_mode": {
    "name": "ipython",
    "version": 3
   },
   "file_extension": ".py",
   "mimetype": "text/x-python",
   "name": "python",
   "nbconvert_exporter": "python",
   "pygments_lexer": "ipython3",
   "version": "3.11.4"
  }
 },
 "nbformat": 4,
 "nbformat_minor": 5
}
