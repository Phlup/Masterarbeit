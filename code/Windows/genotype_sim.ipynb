{
 "cells": [
  {
   "cell_type": "code",
   "execution_count": 1,
   "id": "f66127f6-8c60-4606-8122-4149652b3cd0",
   "metadata": {},
   "outputs": [
    {
     "name": "stderr",
     "output_type": "stream",
     "text": [
      "C:\\Users\\PHLUP\\miniconda3\\envs\\masterarbeit\\Lib\\site-packages\\stdpopsim\\catalog\\HomSap\\demographic_models.py:158: FutureWarning: Calling int on a single element Series is deprecated and will raise a TypeError in the future. Use int(ser.iloc[0]) instead\n",
      "  time=int(extended_GF.time.head(1) - 1), rate=0\n",
      "C:\\Users\\PHLUP\\miniconda3\\envs\\masterarbeit\\Lib\\site-packages\\stdpopsim\\catalog\\HomSap\\demographic_models.py:161: FutureWarning: Calling int on a single element Series is deprecated and will raise a TypeError in the future. Use int(ser.iloc[0]) instead\n",
      "  time=int(extended_GF.time.tail(1) + 1), rate=0\n"
     ]
    }
   ],
   "source": [
    "from pedigree_functions import *\n",
    "import matplotlib.pyplot as plt\n",
    "import scipy.stats as stats"
   ]
  },
  {
   "cell_type": "code",
   "execution_count": 79,
   "id": "a69f3e32-743e-4b69-9cfa-af8af4d8dd03",
   "metadata": {},
   "outputs": [
    {
     "data": {
      "text/html": [
       "<div>\n",
       "<style scoped>\n",
       "    .dataframe tbody tr th:only-of-type {\n",
       "        vertical-align: middle;\n",
       "    }\n",
       "\n",
       "    .dataframe tbody tr th {\n",
       "        vertical-align: top;\n",
       "    }\n",
       "\n",
       "    .dataframe thead th {\n",
       "        text-align: right;\n",
       "    }\n",
       "</style>\n",
       "<table border=\"1\" class=\"dataframe\">\n",
       "  <thead>\n",
       "    <tr style=\"text-align: right;\">\n",
       "      <th></th>\n",
       "      <th>id</th>\n",
       "      <th>parent0</th>\n",
       "      <th>parent1</th>\n",
       "      <th>time</th>\n",
       "    </tr>\n",
       "  </thead>\n",
       "  <tbody>\n",
       "    <tr>\n",
       "      <th>0</th>\n",
       "      <td>0</td>\n",
       "      <td>.</td>\n",
       "      <td>.</td>\n",
       "      <td>6</td>\n",
       "    </tr>\n",
       "    <tr>\n",
       "      <th>1</th>\n",
       "      <td>1</td>\n",
       "      <td>.</td>\n",
       "      <td>.</td>\n",
       "      <td>6</td>\n",
       "    </tr>\n",
       "    <tr>\n",
       "      <th>2</th>\n",
       "      <td>2</td>\n",
       "      <td>0</td>\n",
       "      <td>1</td>\n",
       "      <td>5</td>\n",
       "    </tr>\n",
       "    <tr>\n",
       "      <th>3</th>\n",
       "      <td>3</td>\n",
       "      <td>0</td>\n",
       "      <td>1</td>\n",
       "      <td>5</td>\n",
       "    </tr>\n",
       "    <tr>\n",
       "      <th>4</th>\n",
       "      <td>4</td>\n",
       "      <td>0</td>\n",
       "      <td>1</td>\n",
       "      <td>5</td>\n",
       "    </tr>\n",
       "    <tr>\n",
       "      <th>5</th>\n",
       "      <td>5</td>\n",
       "      <td>0</td>\n",
       "      <td>1</td>\n",
       "      <td>5</td>\n",
       "    </tr>\n",
       "    <tr>\n",
       "      <th>6</th>\n",
       "      <td>6</td>\n",
       "      <td>0</td>\n",
       "      <td>1</td>\n",
       "      <td>5</td>\n",
       "    </tr>\n",
       "    <tr>\n",
       "      <th>7</th>\n",
       "      <td>7</td>\n",
       "      <td>2</td>\n",
       "      <td>2</td>\n",
       "      <td>4</td>\n",
       "    </tr>\n",
       "    <tr>\n",
       "      <th>8</th>\n",
       "      <td>8</td>\n",
       "      <td>3</td>\n",
       "      <td>3</td>\n",
       "      <td>4</td>\n",
       "    </tr>\n",
       "    <tr>\n",
       "      <th>9</th>\n",
       "      <td>9</td>\n",
       "      <td>4</td>\n",
       "      <td>4</td>\n",
       "      <td>4</td>\n",
       "    </tr>\n",
       "    <tr>\n",
       "      <th>10</th>\n",
       "      <td>10</td>\n",
       "      <td>5</td>\n",
       "      <td>5</td>\n",
       "      <td>4</td>\n",
       "    </tr>\n",
       "    <tr>\n",
       "      <th>11</th>\n",
       "      <td>11</td>\n",
       "      <td>6</td>\n",
       "      <td>6</td>\n",
       "      <td>4</td>\n",
       "    </tr>\n",
       "    <tr>\n",
       "      <th>12</th>\n",
       "      <td>12</td>\n",
       "      <td>7</td>\n",
       "      <td>7</td>\n",
       "      <td>3</td>\n",
       "    </tr>\n",
       "    <tr>\n",
       "      <th>13</th>\n",
       "      <td>13</td>\n",
       "      <td>8</td>\n",
       "      <td>8</td>\n",
       "      <td>3</td>\n",
       "    </tr>\n",
       "    <tr>\n",
       "      <th>14</th>\n",
       "      <td>14</td>\n",
       "      <td>9</td>\n",
       "      <td>9</td>\n",
       "      <td>3</td>\n",
       "    </tr>\n",
       "    <tr>\n",
       "      <th>15</th>\n",
       "      <td>15</td>\n",
       "      <td>10</td>\n",
       "      <td>10</td>\n",
       "      <td>3</td>\n",
       "    </tr>\n",
       "    <tr>\n",
       "      <th>16</th>\n",
       "      <td>16</td>\n",
       "      <td>11</td>\n",
       "      <td>11</td>\n",
       "      <td>3</td>\n",
       "    </tr>\n",
       "    <tr>\n",
       "      <th>17</th>\n",
       "      <td>17</td>\n",
       "      <td>12</td>\n",
       "      <td>12</td>\n",
       "      <td>2</td>\n",
       "    </tr>\n",
       "    <tr>\n",
       "      <th>18</th>\n",
       "      <td>18</td>\n",
       "      <td>13</td>\n",
       "      <td>13</td>\n",
       "      <td>2</td>\n",
       "    </tr>\n",
       "    <tr>\n",
       "      <th>19</th>\n",
       "      <td>19</td>\n",
       "      <td>14</td>\n",
       "      <td>14</td>\n",
       "      <td>2</td>\n",
       "    </tr>\n",
       "    <tr>\n",
       "      <th>20</th>\n",
       "      <td>20</td>\n",
       "      <td>15</td>\n",
       "      <td>15</td>\n",
       "      <td>2</td>\n",
       "    </tr>\n",
       "    <tr>\n",
       "      <th>21</th>\n",
       "      <td>21</td>\n",
       "      <td>16</td>\n",
       "      <td>16</td>\n",
       "      <td>2</td>\n",
       "    </tr>\n",
       "    <tr>\n",
       "      <th>22</th>\n",
       "      <td>22</td>\n",
       "      <td>17</td>\n",
       "      <td>17</td>\n",
       "      <td>1</td>\n",
       "    </tr>\n",
       "    <tr>\n",
       "      <th>23</th>\n",
       "      <td>23</td>\n",
       "      <td>18</td>\n",
       "      <td>18</td>\n",
       "      <td>1</td>\n",
       "    </tr>\n",
       "    <tr>\n",
       "      <th>24</th>\n",
       "      <td>24</td>\n",
       "      <td>19</td>\n",
       "      <td>19</td>\n",
       "      <td>1</td>\n",
       "    </tr>\n",
       "    <tr>\n",
       "      <th>25</th>\n",
       "      <td>25</td>\n",
       "      <td>20</td>\n",
       "      <td>20</td>\n",
       "      <td>1</td>\n",
       "    </tr>\n",
       "    <tr>\n",
       "      <th>26</th>\n",
       "      <td>26</td>\n",
       "      <td>21</td>\n",
       "      <td>21</td>\n",
       "      <td>1</td>\n",
       "    </tr>\n",
       "    <tr>\n",
       "      <th>27</th>\n",
       "      <td>27</td>\n",
       "      <td>22</td>\n",
       "      <td>22</td>\n",
       "      <td>0</td>\n",
       "    </tr>\n",
       "    <tr>\n",
       "      <th>28</th>\n",
       "      <td>28</td>\n",
       "      <td>23</td>\n",
       "      <td>23</td>\n",
       "      <td>0</td>\n",
       "    </tr>\n",
       "    <tr>\n",
       "      <th>29</th>\n",
       "      <td>29</td>\n",
       "      <td>24</td>\n",
       "      <td>24</td>\n",
       "      <td>0</td>\n",
       "    </tr>\n",
       "    <tr>\n",
       "      <th>30</th>\n",
       "      <td>30</td>\n",
       "      <td>25</td>\n",
       "      <td>25</td>\n",
       "      <td>0</td>\n",
       "    </tr>\n",
       "    <tr>\n",
       "      <th>31</th>\n",
       "      <td>31</td>\n",
       "      <td>26</td>\n",
       "      <td>26</td>\n",
       "      <td>0</td>\n",
       "    </tr>\n",
       "  </tbody>\n",
       "</table>\n",
       "</div>"
      ],
      "text/plain": [
       "    id parent0 parent1  time\n",
       "0    0       .       .     6\n",
       "1    1       .       .     6\n",
       "2    2       0       1     5\n",
       "3    3       0       1     5\n",
       "4    4       0       1     5\n",
       "5    5       0       1     5\n",
       "6    6       0       1     5\n",
       "7    7       2       2     4\n",
       "8    8       3       3     4\n",
       "9    9       4       4     4\n",
       "10  10       5       5     4\n",
       "11  11       6       6     4\n",
       "12  12       7       7     3\n",
       "13  13       8       8     3\n",
       "14  14       9       9     3\n",
       "15  15      10      10     3\n",
       "16  16      11      11     3\n",
       "17  17      12      12     2\n",
       "18  18      13      13     2\n",
       "19  19      14      14     2\n",
       "20  20      15      15     2\n",
       "21  21      16      16     2\n",
       "22  22      17      17     1\n",
       "23  23      18      18     1\n",
       "24  24      19      19     1\n",
       "25  25      20      20     1\n",
       "26  26      21      21     1\n",
       "27  27      22      22     0\n",
       "28  28      23      23     0\n",
       "29  29      24      24     0\n",
       "30  30      25      25     0\n",
       "31  31      26      26     0"
      ]
     },
     "execution_count": 79,
     "metadata": {},
     "output_type": "execute_result"
    }
   ],
   "source": [
    "cross_selfing_ped(5)"
   ]
  },
  {
   "cell_type": "code",
   "execution_count": 2,
   "id": "4d684306-07ba-4c37-9a89-b08f64689a7c",
   "metadata": {},
   "outputs": [],
   "source": [
    "#read genetic map\n",
    "genmap = pd.read_csv(\"data/test_data/B73_genmap.csv\")\n",
    "#read parent genotypes\n",
    "parent_genos = pd.read_csv(\"data/test_data/NAM_parent_genos.csv\")\n",
    "#read reference allele\n",
    "ref_allele = pd.read_csv(\"data/test_data/B73_alleles.csv\")"
   ]
  },
  {
   "cell_type": "code",
   "execution_count": 115,
   "id": "4a9a25ea-2022-49a8-a262-e621c168718a",
   "metadata": {},
   "outputs": [],
   "source": [
    "#constant recombination rate test\n",
    "#heterozygotes after one geno test\n",
    "#sim ancestry after selective mating cross 5 offspring, propagate geno: full heterozygotes?\n",
    "het = pedigree_init(2)\n",
    "het = add_selective_mating(het, list([0,1]), 5)\n",
    "het_ts = df_to_ts(het, seq_len = 100)\n",
    "het_arg = msprime.sim_ancestry(initial_state = het_ts, model = \"fixed_pedigree\", recombination_rate = 0.01)\n",
    "#why only outlier/bias to 0/reference\n",
    "#test with tskit api calls (trees/node queries: parents, is_descendant, _mrca)\n",
    "#mean recomb tract length"
   ]
  },
  {
   "cell_type": "code",
   "execution_count": 116,
   "id": "e61053a8-aa57-4108-990b-a9f1c3e17e11",
   "metadata": {},
   "outputs": [
    {
     "name": "stdout",
     "output_type": "stream",
     "text": [
      "TableCollection\n",
      "\n",
      "Sequence Length: 100.0\n",
      "Time units: generations\n",
      "Metadata: b''\n",
      "\n",
      "Individuals\n",
      "╔══╤═════╤════════╤═══════╤════════════════╗\n",
      "║id│flags│location│parents│metadata        ║\n",
      "╠══╪═════╪════════╪═══════╪════════════════╣\n",
      "║0 │    0│        │ -1, -1│{'file_id': '0'}║\n",
      "║1 │    0│        │ -1, -1│{'file_id': '1'}║\n",
      "║2 │    0│        │   0, 1│{'file_id': '2'}║\n",
      "║3 │    0│        │   0, 1│{'file_id': '3'}║\n",
      "║4 │    0│        │   0, 1│{'file_id': '4'}║\n",
      "║5 │    0│        │   0, 1│{'file_id': '5'}║\n",
      "║6 │    0│        │   0, 1│{'file_id': '6'}║\n",
      "╚══╧═════╧════════╧═══════╧════════════════╝\n",
      "\n",
      "Nodes\n",
      "╔══╤═════╤══════════╤══════════╤════╤════════╗\n",
      "║id│flags│population│individual│time│metadata║\n",
      "╠══╪═════╪══════════╪══════════╪════╪════════╣\n",
      "║0 │    0│         0│         0│   1│        ║\n",
      "║1 │    0│         0│         0│   1│        ║\n",
      "║2 │    0│         0│         1│   1│        ║\n",
      "║3 │    0│         0│         1│   1│        ║\n",
      "║4 │    1│         0│         2│   0│        ║\n",
      "║5 │    1│         0│         2│   0│        ║\n",
      "║6 │    1│         0│         3│   0│        ║\n",
      "║7 │    1│         0│         3│   0│        ║\n",
      "║8 │    1│         0│         4│   0│        ║\n",
      "║9 │    1│         0│         4│   0│        ║\n",
      "║10│    1│         0│         5│   0│        ║\n",
      "║11│    1│         0│         5│   0│        ║\n",
      "║12│    1│         0│         6│   0│        ║\n",
      "║13│    1│         0│         6│   0│        ║\n",
      "╚══╧═════╧══════════╧══════════╧════╧════════╝\n",
      "\n",
      "Edges\n",
      "╔══╤════╤═════╤══════╤═════╤════════╗\n",
      "║id│left│right│parent│child│metadata║\n",
      "╠══╪════╪═════╪══════╪═════╪════════╣\n",
      "║0 │   0│   11│     0│    4│        ║\n",
      "║1 │  74│   92│     0│    4│        ║\n",
      "║2 │  14│  100│     0│    6│        ║\n",
      "║3 │   0│  100│     0│    8│        ║\n",
      "║4 │   0│   14│     0│   10│        ║\n",
      "║5 │  90│  100│     0│   10│        ║\n",
      "║6 │  11│   74│     1│    4│        ║\n",
      "║7 │  92│  100│     1│    4│        ║\n",
      "║8 │   0│   14│     1│    6│        ║\n",
      "║9 │  14│   90│     1│   10│        ║\n",
      "║10│   0│  100│     1│   12│        ║\n",
      "║11│   0│   18│     2│    7│        ║\n",
      "║12│  87│  100│     2│    7│        ║\n",
      "║13│   0│  100│     2│    9│        ║\n",
      "║14│   0│  100│     2│   11│        ║\n",
      "║15│   0│  100│     2│   13│        ║\n",
      "║16│   0│  100│     3│    5│        ║\n",
      "║17│  18│   87│     3│    7│        ║\n",
      "╚══╧════╧═════╧══════╧═════╧════════╝\n",
      "\n",
      "Sites\n",
      "╔══╤════════╤═══════════════╤════════╗\n",
      "║id│position│ancestral_state│metadata║\n",
      "╠══╪════════╪═══════════════╪════════╣\n",
      "╚══╧════════╧═══════════════╧════════╝\n",
      "\n",
      "Mutations\n",
      "╔══╤════╤════╤════╤═════════════╤══════╤════════╗\n",
      "║id│site│node│time│derived_state│parent│metadata║\n",
      "╠══╪════╪════╪════╪═════════════╪══════╪════════╣\n",
      "╚══╧════╧════╧════╧═════════════╧══════╧════════╝\n",
      "\n",
      "Migrations\n",
      "╔══╤════╤═════╤════╤══════╤════╤════╤════════╗\n",
      "║id│left│right│node│source│dest│time│metadata║\n",
      "╠══╪════╪═════╪════╪══════╪════╪════╪════════╣\n",
      "╚══╧════╧═════╧════╧══════╧════╧════╧════════╝\n",
      "\n",
      "Populations\n",
      "╔══╤════════════════════════════════════╗\n",
      "║id│metadata                            ║\n",
      "╠══╪════════════════════════════════════╣\n",
      "║0 │{'description': '', 'name': 'pop_0'}║\n",
      "╚══╧════════════════════════════════════╝\n",
      "\n",
      "Provenances\n",
      "╔══╤══════════════════════════╤════════════════════════════════════════════════════════════╗\n",
      "║id│timestamp                 │record                                                      ║\n",
      "╠══╪══════════════════════════╪════════════════════════════════════════════════════════════╣\n",
      "║0 │2023-10-13T17:42:58.021864│{\"schema_version\": \"1.0.0\", \"software\": {\"name\": \"msprime...║\n",
      "╚══╧══════════════════════════╧════════════════════════════════════════════════════════════╝\n",
      "\n"
     ]
    }
   ],
   "source": [
    "print(het_arg.dump_tables())"
   ]
  },
  {
   "cell_type": "code",
   "execution_count": 98,
   "id": "439971e6-8b1c-432d-a23f-74ac63e314fd",
   "metadata": {},
   "outputs": [],
   "source": [
    "het_map = genmap.iloc[0:3]"
   ]
  },
  {
   "cell_type": "code",
   "execution_count": 100,
   "id": "fe4a0a53-e1d3-4c1b-a0ce-2745c8e83fdf",
   "metadata": {},
   "outputs": [
    {
     "name": "stderr",
     "output_type": "stream",
     "text": [
      "C:\\Users\\PHLUP\\AppData\\Local\\Temp\\ipykernel_13116\\2467304492.py:1: SettingWithCopyWarning: \n",
      "A value is trying to be set on a copy of a slice from a DataFrame.\n",
      "Try using .loc[row_indexer,col_indexer] = value instead\n",
      "\n",
      "See the caveats in the documentation: https://pandas.pydata.org/pandas-docs/stable/user_guide/indexing.html#returning-a-view-versus-a-copy\n",
      "  het_map[\"Position(bp)\"] = list([25,50,75])\n"
     ]
    }
   ],
   "source": [
    "het_map[\"Position(bp)\"] = list([25,50,75])"
   ]
  },
  {
   "cell_type": "code",
   "execution_count": null,
   "id": "b3cb8ff8-431f-4d24-baa6-ca59ec4aa8c7",
   "metadata": {},
   "outputs": [],
   "source": [
    "het_map[\"Rate(cM/Mb)\"] = list([0,0,0])"
   ]
  },
  {
   "cell_type": "code",
   "execution_count": null,
   "id": "8cabea71-2054-4e62-a799-41974e28b66d",
   "metadata": {},
   "outputs": [],
   "source": [
    "het_map[\"Map(cM)\"] = list([0,0,0])"
   ]
  },
  {
   "cell_type": "code",
   "execution_count": 110,
   "id": "fc9308f8-bdb5-44f3-9bba-8ef7177daa5a",
   "metadata": {},
   "outputs": [],
   "source": [
    "het_founders = get_founder_nodes(parent_genos, list([\"B73\", \"B97\"]))"
   ]
  },
  {
   "cell_type": "code",
   "execution_count": 117,
   "id": "a3c85a3d-cc47-4f08-b3ae-2c023187a1b6",
   "metadata": {},
   "outputs": [],
   "source": [
    "het_geno = propagate_geno(het_arg, het_founders, het_map)"
   ]
  },
  {
   "cell_type": "code",
   "execution_count": 118,
   "id": "f39f75fa-d8aa-4ac3-8c3f-8815dc202d2d",
   "metadata": {},
   "outputs": [
    {
     "data": {
      "text/html": [
       "<div>\n",
       "<style scoped>\n",
       "    .dataframe tbody tr th:only-of-type {\n",
       "        vertical-align: middle;\n",
       "    }\n",
       "\n",
       "    .dataframe tbody tr th {\n",
       "        vertical-align: top;\n",
       "    }\n",
       "\n",
       "    .dataframe thead th {\n",
       "        text-align: right;\n",
       "    }\n",
       "</style>\n",
       "<table border=\"1\" class=\"dataframe\">\n",
       "  <thead>\n",
       "    <tr style=\"text-align: right;\">\n",
       "      <th></th>\n",
       "      <th>node</th>\n",
       "      <th>PZA01271.1</th>\n",
       "      <th>PZA03613.1</th>\n",
       "      <th>PZA02129.1</th>\n",
       "    </tr>\n",
       "  </thead>\n",
       "  <tbody>\n",
       "    <tr>\n",
       "      <th>0</th>\n",
       "      <td>0</td>\n",
       "      <td>C</td>\n",
       "      <td>A</td>\n",
       "      <td>T</td>\n",
       "    </tr>\n",
       "    <tr>\n",
       "      <th>1</th>\n",
       "      <td>1</td>\n",
       "      <td>C</td>\n",
       "      <td>A</td>\n",
       "      <td>T</td>\n",
       "    </tr>\n",
       "    <tr>\n",
       "      <th>2</th>\n",
       "      <td>2</td>\n",
       "      <td>G</td>\n",
       "      <td>T</td>\n",
       "      <td>C</td>\n",
       "    </tr>\n",
       "    <tr>\n",
       "      <th>3</th>\n",
       "      <td>3</td>\n",
       "      <td>G</td>\n",
       "      <td>T</td>\n",
       "      <td>C</td>\n",
       "    </tr>\n",
       "    <tr>\n",
       "      <th>4</th>\n",
       "      <td>4</td>\n",
       "      <td>C</td>\n",
       "      <td>A</td>\n",
       "      <td>T</td>\n",
       "    </tr>\n",
       "    <tr>\n",
       "      <th>5</th>\n",
       "      <td>5</td>\n",
       "      <td>G</td>\n",
       "      <td>T</td>\n",
       "      <td>C</td>\n",
       "    </tr>\n",
       "    <tr>\n",
       "      <th>6</th>\n",
       "      <td>6</td>\n",
       "      <td>C</td>\n",
       "      <td>A</td>\n",
       "      <td>T</td>\n",
       "    </tr>\n",
       "    <tr>\n",
       "      <th>7</th>\n",
       "      <td>7</td>\n",
       "      <td>G</td>\n",
       "      <td>T</td>\n",
       "      <td>C</td>\n",
       "    </tr>\n",
       "    <tr>\n",
       "      <th>8</th>\n",
       "      <td>8</td>\n",
       "      <td>C</td>\n",
       "      <td>A</td>\n",
       "      <td>T</td>\n",
       "    </tr>\n",
       "    <tr>\n",
       "      <th>9</th>\n",
       "      <td>9</td>\n",
       "      <td>G</td>\n",
       "      <td>T</td>\n",
       "      <td>C</td>\n",
       "    </tr>\n",
       "    <tr>\n",
       "      <th>10</th>\n",
       "      <td>10</td>\n",
       "      <td>C</td>\n",
       "      <td>A</td>\n",
       "      <td>T</td>\n",
       "    </tr>\n",
       "    <tr>\n",
       "      <th>11</th>\n",
       "      <td>11</td>\n",
       "      <td>G</td>\n",
       "      <td>T</td>\n",
       "      <td>C</td>\n",
       "    </tr>\n",
       "    <tr>\n",
       "      <th>12</th>\n",
       "      <td>12</td>\n",
       "      <td>C</td>\n",
       "      <td>A</td>\n",
       "      <td>T</td>\n",
       "    </tr>\n",
       "    <tr>\n",
       "      <th>13</th>\n",
       "      <td>13</td>\n",
       "      <td>G</td>\n",
       "      <td>T</td>\n",
       "      <td>C</td>\n",
       "    </tr>\n",
       "  </tbody>\n",
       "</table>\n",
       "</div>"
      ],
      "text/plain": [
       "    node PZA01271.1 PZA03613.1 PZA02129.1\n",
       "0      0          C          A          T\n",
       "1      1          C          A          T\n",
       "2      2          G          T          C\n",
       "3      3          G          T          C\n",
       "4      4          C          A          T\n",
       "5      5          G          T          C\n",
       "6      6          C          A          T\n",
       "7      7          G          T          C\n",
       "8      8          C          A          T\n",
       "9      9          G          T          C\n",
       "10    10          C          A          T\n",
       "11    11          G          T          C\n",
       "12    12          C          A          T\n",
       "13    13          G          T          C"
      ]
     },
     "execution_count": 118,
     "metadata": {},
     "output_type": "execute_result"
    }
   ],
   "source": [
    "het_geno"
   ]
  },
  {
   "cell_type": "code",
   "execution_count": 119,
   "id": "a19f1815-a2df-4aaa-b85d-63b9ce31da1c",
   "metadata": {},
   "outputs": [
    {
     "data": {
      "text/html": [
       "<div>\n",
       "<style scoped>\n",
       "    .dataframe tbody tr th:only-of-type {\n",
       "        vertical-align: middle;\n",
       "    }\n",
       "\n",
       "    .dataframe tbody tr th {\n",
       "        vertical-align: top;\n",
       "    }\n",
       "\n",
       "    .dataframe thead th {\n",
       "        text-align: right;\n",
       "    }\n",
       "</style>\n",
       "<table border=\"1\" class=\"dataframe\">\n",
       "  <thead>\n",
       "    <tr style=\"text-align: right;\">\n",
       "      <th></th>\n",
       "      <th>individual</th>\n",
       "      <th>PZA01271.1</th>\n",
       "      <th>PZA03613.1</th>\n",
       "      <th>PZA02129.1</th>\n",
       "    </tr>\n",
       "  </thead>\n",
       "  <tbody>\n",
       "    <tr>\n",
       "      <th>0</th>\n",
       "      <td>2</td>\n",
       "      <td>CG</td>\n",
       "      <td>AT</td>\n",
       "      <td>TC</td>\n",
       "    </tr>\n",
       "    <tr>\n",
       "      <th>1</th>\n",
       "      <td>3</td>\n",
       "      <td>CG</td>\n",
       "      <td>AT</td>\n",
       "      <td>TC</td>\n",
       "    </tr>\n",
       "    <tr>\n",
       "      <th>2</th>\n",
       "      <td>4</td>\n",
       "      <td>CG</td>\n",
       "      <td>AT</td>\n",
       "      <td>TC</td>\n",
       "    </tr>\n",
       "    <tr>\n",
       "      <th>3</th>\n",
       "      <td>5</td>\n",
       "      <td>CG</td>\n",
       "      <td>AT</td>\n",
       "      <td>TC</td>\n",
       "    </tr>\n",
       "    <tr>\n",
       "      <th>4</th>\n",
       "      <td>6</td>\n",
       "      <td>CG</td>\n",
       "      <td>AT</td>\n",
       "      <td>TC</td>\n",
       "    </tr>\n",
       "  </tbody>\n",
       "</table>\n",
       "</div>"
      ],
      "text/plain": [
       "   individual PZA01271.1 PZA03613.1 PZA02129.1\n",
       "0           2         CG         AT         TC\n",
       "1           3         CG         AT         TC\n",
       "2           4         CG         AT         TC\n",
       "3           5         CG         AT         TC\n",
       "4           6         CG         AT         TC"
      ]
     },
     "execution_count": 119,
     "metadata": {},
     "output_type": "execute_result"
    }
   ],
   "source": [
    "join_nodes(het_arg, het_geno)"
   ]
  },
  {
   "cell_type": "code",
   "execution_count": 3,
   "id": "36135408-f205-43e1-ba81-1f287de62e4a",
   "metadata": {},
   "outputs": [
    {
     "name": "stdout",
     "output_type": "stream",
     "text": [
      "finished chromsome 1\n",
      "finished chromsome 2\n",
      "finished chromsome 3\n",
      "finished chromsome 4\n",
      "finished chromsome 5\n",
      "finished chromsome 6\n",
      "finished chromsome 7\n",
      "finished chromsome 8\n",
      "finished chromsome 9\n",
      "finished chromsome 10\n"
     ]
    }
   ],
   "source": [
    "whole_sim = genotype_simulation(genetic_map = genmap, parent_genos = parent_genos, ref_allele = ref_allele, \n",
    "                                founder_list = list([\"B73\", \"CML103\"]), offspring = 194, selfing_genos = 5)"
   ]
  },
  {
   "cell_type": "code",
   "execution_count": 80,
   "id": "fc61823c-7b39-4a2f-b80f-33b4aab9a9ef",
   "metadata": {},
   "outputs": [
    {
     "data": {
      "text/html": [
       "<div>\n",
       "<style scoped>\n",
       "    .dataframe tbody tr th:only-of-type {\n",
       "        vertical-align: middle;\n",
       "    }\n",
       "\n",
       "    .dataframe tbody tr th {\n",
       "        vertical-align: top;\n",
       "    }\n",
       "\n",
       "    .dataframe thead th {\n",
       "        text-align: right;\n",
       "    }\n",
       "</style>\n",
       "<table border=\"1\" class=\"dataframe\">\n",
       "  <thead>\n",
       "    <tr style=\"text-align: right;\">\n",
       "      <th></th>\n",
       "      <th>Marker</th>\n",
       "      <th>Chromosome</th>\n",
       "      <th>Position(bp)</th>\n",
       "      <th>Rate(cM/Mb)</th>\n",
       "      <th>Map(cM)</th>\n",
       "    </tr>\n",
       "  </thead>\n",
       "  <tbody>\n",
       "    <tr>\n",
       "      <th>0</th>\n",
       "      <td>PZA01271.1</td>\n",
       "      <td>1</td>\n",
       "      <td>1947984</td>\n",
       "      <td>5.931497</td>\n",
       "      <td>0.0</td>\n",
       "    </tr>\n",
       "    <tr>\n",
       "      <th>1</th>\n",
       "      <td>PZA03613.1</td>\n",
       "      <td>1</td>\n",
       "      <td>2914171</td>\n",
       "      <td>8.536037</td>\n",
       "      <td>0.9</td>\n",
       "    </tr>\n",
       "    <tr>\n",
       "      <th>2</th>\n",
       "      <td>PZA02129.1</td>\n",
       "      <td>1</td>\n",
       "      <td>3706018</td>\n",
       "      <td>6.784706</td>\n",
       "      <td>3.7</td>\n",
       "    </tr>\n",
       "    <tr>\n",
       "      <th>3</th>\n",
       "      <td>PZA02032.1</td>\n",
       "      <td>1</td>\n",
       "      <td>4490461</td>\n",
       "      <td>9.290881</td>\n",
       "      <td>5.1</td>\n",
       "    </tr>\n",
       "    <tr>\n",
       "      <th>4</th>\n",
       "      <td>PHM2244.142</td>\n",
       "      <td>1</td>\n",
       "      <td>5562502</td>\n",
       "      <td>7.735375</td>\n",
       "      <td>9.7</td>\n",
       "    </tr>\n",
       "    <tr>\n",
       "      <th>...</th>\n",
       "      <td>...</td>\n",
       "      <td>...</td>\n",
       "      <td>...</td>\n",
       "      <td>...</td>\n",
       "      <td>...</td>\n",
       "    </tr>\n",
       "    <tr>\n",
       "      <th>969</th>\n",
       "      <td>PHM5435.25</td>\n",
       "      <td>10</td>\n",
       "      <td>144239494</td>\n",
       "      <td>8.220602</td>\n",
       "      <td>82.2</td>\n",
       "    </tr>\n",
       "    <tr>\n",
       "      <th>970</th>\n",
       "      <td>PZA01073.1</td>\n",
       "      <td>10</td>\n",
       "      <td>144549995</td>\n",
       "      <td>8.921778</td>\n",
       "      <td>83.2</td>\n",
       "    </tr>\n",
       "    <tr>\n",
       "      <th>971</th>\n",
       "      <td>PZA01001.2</td>\n",
       "      <td>10</td>\n",
       "      <td>146538889</td>\n",
       "      <td>18.267878</td>\n",
       "      <td>91.0</td>\n",
       "    </tr>\n",
       "    <tr>\n",
       "      <th>972</th>\n",
       "      <td>PZA02578.1</td>\n",
       "      <td>10</td>\n",
       "      <td>146553963</td>\n",
       "      <td>10.608550</td>\n",
       "      <td>91.2</td>\n",
       "    </tr>\n",
       "    <tr>\n",
       "      <th>973</th>\n",
       "      <td>PZA00062.4</td>\n",
       "      <td>10</td>\n",
       "      <td>146999711</td>\n",
       "      <td>5.421064</td>\n",
       "      <td>93.7</td>\n",
       "    </tr>\n",
       "  </tbody>\n",
       "</table>\n",
       "<p>974 rows × 5 columns</p>\n",
       "</div>"
      ],
      "text/plain": [
       "          Marker  Chromosome  Position(bp)  Rate(cM/Mb)  Map(cM)\n",
       "0     PZA01271.1           1       1947984     5.931497      0.0\n",
       "1     PZA03613.1           1       2914171     8.536037      0.9\n",
       "2     PZA02129.1           1       3706018     6.784706      3.7\n",
       "3     PZA02032.1           1       4490461     9.290881      5.1\n",
       "4    PHM2244.142           1       5562502     7.735375      9.7\n",
       "..           ...         ...           ...          ...      ...\n",
       "969   PHM5435.25          10     144239494     8.220602     82.2\n",
       "970   PZA01073.1          10     144549995     8.921778     83.2\n",
       "971   PZA01001.2          10     146538889    18.267878     91.0\n",
       "972   PZA02578.1          10     146553963    10.608550     91.2\n",
       "973   PZA00062.4          10     146999711     5.421064     93.7\n",
       "\n",
       "[974 rows x 5 columns]"
      ]
     },
     "execution_count": 80,
     "metadata": {},
     "output_type": "execute_result"
    }
   ],
   "source": [
    "genmap"
   ]
  },
  {
   "cell_type": "code",
   "execution_count": 68,
   "id": "fe5dff89-ea69-468c-bff7-df2cee48c6a8",
   "metadata": {},
   "outputs": [],
   "source": [
    "#genmap with higher recomb rate\n",
    "genmap[\"Rate(cM/Mb)\"] += 5"
   ]
  },
  {
   "cell_type": "code",
   "execution_count": 70,
   "id": "ef00183f-3ca7-4b46-89cd-76ea97981e02",
   "metadata": {},
   "outputs": [
    {
     "name": "stdout",
     "output_type": "stream",
     "text": [
      "finished chromsome 1\n",
      "finished chromsome 2\n",
      "finished chromsome 3\n",
      "finished chromsome 4\n",
      "finished chromsome 5\n",
      "finished chromsome 6\n",
      "finished chromsome 7\n",
      "finished chromsome 8\n",
      "finished chromsome 9\n",
      "finished chromsome 10\n"
     ]
    }
   ],
   "source": [
    "high_sim = genotype_simulation(genetic_map = genmap, parent_genos = parent_genos, ref_allele = ref_allele, \n",
    "                                founder_list = list([\"B73\", \"CML103\"]), offspring = 194, selfing_genos = 5)"
   ]
  },
  {
   "cell_type": "code",
   "execution_count": 4,
   "id": "dfd50f83-1099-422f-a5bb-635e85b349df",
   "metadata": {},
   "outputs": [
    {
     "data": {
      "text/html": [
       "<div>\n",
       "<style scoped>\n",
       "    .dataframe tbody tr th:only-of-type {\n",
       "        vertical-align: middle;\n",
       "    }\n",
       "\n",
       "    .dataframe tbody tr th {\n",
       "        vertical-align: top;\n",
       "    }\n",
       "\n",
       "    .dataframe thead th {\n",
       "        text-align: right;\n",
       "    }\n",
       "</style>\n",
       "<table border=\"1\" class=\"dataframe\">\n",
       "  <thead>\n",
       "    <tr style=\"text-align: right;\">\n",
       "      <th>SNP</th>\n",
       "      <th>PHM10225.15</th>\n",
       "      <th>PHM10321.11</th>\n",
       "      <th>PHM10404.8</th>\n",
       "      <th>PHM11114.7</th>\n",
       "      <th>PHM11226.13</th>\n",
       "      <th>PHM11985.27</th>\n",
       "      <th>PHM1218.6</th>\n",
       "      <th>PHM12706.14</th>\n",
       "      <th>PHM12749.13</th>\n",
       "      <th>PHM1275.22</th>\n",
       "      <th>...</th>\n",
       "      <th>kip1.3</th>\n",
       "      <th>lac1.3</th>\n",
       "      <th>sh2.21</th>\n",
       "      <th>umc128.2</th>\n",
       "      <th>umc13.1</th>\n",
       "      <th>vdac1a.1</th>\n",
       "      <th>wx1.1</th>\n",
       "      <th>zb21.1</th>\n",
       "      <th>zb27.1</th>\n",
       "      <th>zfl2.9</th>\n",
       "    </tr>\n",
       "    <tr>\n",
       "      <th>individual</th>\n",
       "      <th></th>\n",
       "      <th></th>\n",
       "      <th></th>\n",
       "      <th></th>\n",
       "      <th></th>\n",
       "      <th></th>\n",
       "      <th></th>\n",
       "      <th></th>\n",
       "      <th></th>\n",
       "      <th></th>\n",
       "      <th></th>\n",
       "      <th></th>\n",
       "      <th></th>\n",
       "      <th></th>\n",
       "      <th></th>\n",
       "      <th></th>\n",
       "      <th></th>\n",
       "      <th></th>\n",
       "      <th></th>\n",
       "      <th></th>\n",
       "      <th></th>\n",
       "    </tr>\n",
       "  </thead>\n",
       "  <tbody>\n",
       "    <tr>\n",
       "      <th>972</th>\n",
       "      <td>0</td>\n",
       "      <td>0</td>\n",
       "      <td>0</td>\n",
       "      <td>0</td>\n",
       "      <td>2</td>\n",
       "      <td>2</td>\n",
       "      <td>0</td>\n",
       "      <td>0</td>\n",
       "      <td>2</td>\n",
       "      <td>2</td>\n",
       "      <td>...</td>\n",
       "      <td>0</td>\n",
       "      <td>2</td>\n",
       "      <td>0</td>\n",
       "      <td>0</td>\n",
       "      <td>2</td>\n",
       "      <td>0</td>\n",
       "      <td>2</td>\n",
       "      <td>0</td>\n",
       "      <td>0</td>\n",
       "      <td>2</td>\n",
       "    </tr>\n",
       "    <tr>\n",
       "      <th>973</th>\n",
       "      <td>0</td>\n",
       "      <td>0</td>\n",
       "      <td>0</td>\n",
       "      <td>0</td>\n",
       "      <td>0</td>\n",
       "      <td>0</td>\n",
       "      <td>0</td>\n",
       "      <td>0</td>\n",
       "      <td>0</td>\n",
       "      <td>2</td>\n",
       "      <td>...</td>\n",
       "      <td>0</td>\n",
       "      <td>0</td>\n",
       "      <td>0</td>\n",
       "      <td>0</td>\n",
       "      <td>0</td>\n",
       "      <td>0</td>\n",
       "      <td>0</td>\n",
       "      <td>0</td>\n",
       "      <td>0</td>\n",
       "      <td>0</td>\n",
       "    </tr>\n",
       "    <tr>\n",
       "      <th>974</th>\n",
       "      <td>2</td>\n",
       "      <td>0</td>\n",
       "      <td>0</td>\n",
       "      <td>2</td>\n",
       "      <td>2</td>\n",
       "      <td>2</td>\n",
       "      <td>0</td>\n",
       "      <td>0</td>\n",
       "      <td>0</td>\n",
       "      <td>1</td>\n",
       "      <td>...</td>\n",
       "      <td>0</td>\n",
       "      <td>2</td>\n",
       "      <td>2</td>\n",
       "      <td>0</td>\n",
       "      <td>0</td>\n",
       "      <td>0</td>\n",
       "      <td>0</td>\n",
       "      <td>0</td>\n",
       "      <td>2</td>\n",
       "      <td>0</td>\n",
       "    </tr>\n",
       "    <tr>\n",
       "      <th>975</th>\n",
       "      <td>2</td>\n",
       "      <td>0</td>\n",
       "      <td>0</td>\n",
       "      <td>0</td>\n",
       "      <td>2</td>\n",
       "      <td>0</td>\n",
       "      <td>0</td>\n",
       "      <td>0</td>\n",
       "      <td>0</td>\n",
       "      <td>0</td>\n",
       "      <td>...</td>\n",
       "      <td>0</td>\n",
       "      <td>0</td>\n",
       "      <td>2</td>\n",
       "      <td>0</td>\n",
       "      <td>2</td>\n",
       "      <td>0</td>\n",
       "      <td>0</td>\n",
       "      <td>0</td>\n",
       "      <td>0</td>\n",
       "      <td>0</td>\n",
       "    </tr>\n",
       "    <tr>\n",
       "      <th>976</th>\n",
       "      <td>2</td>\n",
       "      <td>0</td>\n",
       "      <td>0</td>\n",
       "      <td>0</td>\n",
       "      <td>0</td>\n",
       "      <td>2</td>\n",
       "      <td>0</td>\n",
       "      <td>0</td>\n",
       "      <td>2</td>\n",
       "      <td>2</td>\n",
       "      <td>...</td>\n",
       "      <td>0</td>\n",
       "      <td>2</td>\n",
       "      <td>2</td>\n",
       "      <td>0</td>\n",
       "      <td>0</td>\n",
       "      <td>0</td>\n",
       "      <td>0</td>\n",
       "      <td>0</td>\n",
       "      <td>0</td>\n",
       "      <td>0</td>\n",
       "    </tr>\n",
       "    <tr>\n",
       "      <th>...</th>\n",
       "      <td>...</td>\n",
       "      <td>...</td>\n",
       "      <td>...</td>\n",
       "      <td>...</td>\n",
       "      <td>...</td>\n",
       "      <td>...</td>\n",
       "      <td>...</td>\n",
       "      <td>...</td>\n",
       "      <td>...</td>\n",
       "      <td>...</td>\n",
       "      <td>...</td>\n",
       "      <td>...</td>\n",
       "      <td>...</td>\n",
       "      <td>...</td>\n",
       "      <td>...</td>\n",
       "      <td>...</td>\n",
       "      <td>...</td>\n",
       "      <td>...</td>\n",
       "      <td>...</td>\n",
       "      <td>...</td>\n",
       "      <td>...</td>\n",
       "    </tr>\n",
       "    <tr>\n",
       "      <th>1161</th>\n",
       "      <td>2</td>\n",
       "      <td>0</td>\n",
       "      <td>0</td>\n",
       "      <td>0</td>\n",
       "      <td>0</td>\n",
       "      <td>2</td>\n",
       "      <td>0</td>\n",
       "      <td>0</td>\n",
       "      <td>0</td>\n",
       "      <td>2</td>\n",
       "      <td>...</td>\n",
       "      <td>0</td>\n",
       "      <td>2</td>\n",
       "      <td>0</td>\n",
       "      <td>0</td>\n",
       "      <td>2</td>\n",
       "      <td>0</td>\n",
       "      <td>2</td>\n",
       "      <td>0</td>\n",
       "      <td>0</td>\n",
       "      <td>2</td>\n",
       "    </tr>\n",
       "    <tr>\n",
       "      <th>1162</th>\n",
       "      <td>2</td>\n",
       "      <td>0</td>\n",
       "      <td>0</td>\n",
       "      <td>0</td>\n",
       "      <td>0</td>\n",
       "      <td>2</td>\n",
       "      <td>0</td>\n",
       "      <td>0</td>\n",
       "      <td>2</td>\n",
       "      <td>2</td>\n",
       "      <td>...</td>\n",
       "      <td>0</td>\n",
       "      <td>2</td>\n",
       "      <td>0</td>\n",
       "      <td>0</td>\n",
       "      <td>2</td>\n",
       "      <td>0</td>\n",
       "      <td>0</td>\n",
       "      <td>0</td>\n",
       "      <td>0</td>\n",
       "      <td>2</td>\n",
       "    </tr>\n",
       "    <tr>\n",
       "      <th>1163</th>\n",
       "      <td>0</td>\n",
       "      <td>0</td>\n",
       "      <td>0</td>\n",
       "      <td>2</td>\n",
       "      <td>2</td>\n",
       "      <td>2</td>\n",
       "      <td>0</td>\n",
       "      <td>0</td>\n",
       "      <td>2</td>\n",
       "      <td>2</td>\n",
       "      <td>...</td>\n",
       "      <td>0</td>\n",
       "      <td>2</td>\n",
       "      <td>2</td>\n",
       "      <td>0</td>\n",
       "      <td>0</td>\n",
       "      <td>0</td>\n",
       "      <td>0</td>\n",
       "      <td>0</td>\n",
       "      <td>0</td>\n",
       "      <td>0</td>\n",
       "    </tr>\n",
       "    <tr>\n",
       "      <th>1164</th>\n",
       "      <td>0</td>\n",
       "      <td>0</td>\n",
       "      <td>0</td>\n",
       "      <td>0</td>\n",
       "      <td>0</td>\n",
       "      <td>0</td>\n",
       "      <td>0</td>\n",
       "      <td>0</td>\n",
       "      <td>0</td>\n",
       "      <td>0</td>\n",
       "      <td>...</td>\n",
       "      <td>0</td>\n",
       "      <td>2</td>\n",
       "      <td>0</td>\n",
       "      <td>0</td>\n",
       "      <td>2</td>\n",
       "      <td>0</td>\n",
       "      <td>2</td>\n",
       "      <td>0</td>\n",
       "      <td>0</td>\n",
       "      <td>2</td>\n",
       "    </tr>\n",
       "    <tr>\n",
       "      <th>1165</th>\n",
       "      <td>0</td>\n",
       "      <td>0</td>\n",
       "      <td>0</td>\n",
       "      <td>2</td>\n",
       "      <td>0</td>\n",
       "      <td>0</td>\n",
       "      <td>0</td>\n",
       "      <td>0</td>\n",
       "      <td>2</td>\n",
       "      <td>2</td>\n",
       "      <td>...</td>\n",
       "      <td>0</td>\n",
       "      <td>0</td>\n",
       "      <td>0</td>\n",
       "      <td>0</td>\n",
       "      <td>0</td>\n",
       "      <td>0</td>\n",
       "      <td>0</td>\n",
       "      <td>0</td>\n",
       "      <td>0</td>\n",
       "      <td>0</td>\n",
       "    </tr>\n",
       "  </tbody>\n",
       "</table>\n",
       "<p>194 rows × 974 columns</p>\n",
       "</div>"
      ],
      "text/plain": [
       "SNP         PHM10225.15  PHM10321.11  PHM10404.8  PHM11114.7  PHM11226.13  \\\n",
       "individual                                                                  \n",
       "972                   0            0           0           0            2   \n",
       "973                   0            0           0           0            0   \n",
       "974                   2            0           0           2            2   \n",
       "975                   2            0           0           0            2   \n",
       "976                   2            0           0           0            0   \n",
       "...                 ...          ...         ...         ...          ...   \n",
       "1161                  2            0           0           0            0   \n",
       "1162                  2            0           0           0            0   \n",
       "1163                  0            0           0           2            2   \n",
       "1164                  0            0           0           0            0   \n",
       "1165                  0            0           0           2            0   \n",
       "\n",
       "SNP         PHM11985.27  PHM1218.6  PHM12706.14  PHM12749.13  PHM1275.22  ...  \\\n",
       "individual                                                                ...   \n",
       "972                   2          0            0            2           2  ...   \n",
       "973                   0          0            0            0           2  ...   \n",
       "974                   2          0            0            0           1  ...   \n",
       "975                   0          0            0            0           0  ...   \n",
       "976                   2          0            0            2           2  ...   \n",
       "...                 ...        ...          ...          ...         ...  ...   \n",
       "1161                  2          0            0            0           2  ...   \n",
       "1162                  2          0            0            2           2  ...   \n",
       "1163                  2          0            0            2           2  ...   \n",
       "1164                  0          0            0            0           0  ...   \n",
       "1165                  0          0            0            2           2  ...   \n",
       "\n",
       "SNP         kip1.3  lac1.3  sh2.21  umc128.2  umc13.1  vdac1a.1  wx1.1  \\\n",
       "individual                                                               \n",
       "972              0       2       0         0        2         0      2   \n",
       "973              0       0       0         0        0         0      0   \n",
       "974              0       2       2         0        0         0      0   \n",
       "975              0       0       2         0        2         0      0   \n",
       "976              0       2       2         0        0         0      0   \n",
       "...            ...     ...     ...       ...      ...       ...    ...   \n",
       "1161             0       2       0         0        2         0      2   \n",
       "1162             0       2       0         0        2         0      0   \n",
       "1163             0       2       2         0        0         0      0   \n",
       "1164             0       2       0         0        2         0      2   \n",
       "1165             0       0       0         0        0         0      0   \n",
       "\n",
       "SNP         zb21.1  zb27.1  zfl2.9  \n",
       "individual                          \n",
       "972              0       0       2  \n",
       "973              0       0       0  \n",
       "974              0       2       0  \n",
       "975              0       0       0  \n",
       "976              0       0       0  \n",
       "...            ...     ...     ...  \n",
       "1161             0       0       2  \n",
       "1162             0       0       2  \n",
       "1163             0       0       0  \n",
       "1164             0       0       2  \n",
       "1165             0       0       0  \n",
       "\n",
       "[194 rows x 974 columns]"
      ]
     },
     "execution_count": 4,
     "metadata": {},
     "output_type": "execute_result"
    }
   ],
   "source": [
    "whole_sim"
   ]
  },
  {
   "cell_type": "code",
   "execution_count": 5,
   "id": "7fdf72fc-dcb9-4c11-965e-c393647e8047",
   "metadata": {},
   "outputs": [
    {
     "data": {
      "text/plain": [
       "0    122809\n",
       "2     61805\n",
       "1      4342\n",
       "Name: count, dtype: int64"
      ]
     },
     "execution_count": 5,
     "metadata": {},
     "output_type": "execute_result"
    }
   ],
   "source": [
    "pd.Series(whole_sim.values.flatten().tolist()).value_counts()"
   ]
  },
  {
   "cell_type": "code",
   "execution_count": 71,
   "id": "6e977e95-400c-4391-b0c4-aeb0c601686e",
   "metadata": {},
   "outputs": [
    {
     "data": {
      "text/plain": [
       "0    122324\n",
       "2     62588\n",
       "1      4044\n",
       "Name: count, dtype: int64"
      ]
     },
     "execution_count": 71,
     "metadata": {},
     "output_type": "execute_result"
    }
   ],
   "source": [
    "pd.Series(high_sim.values.flatten().tolist()).value_counts()"
   ]
  },
  {
   "cell_type": "code",
   "execution_count": 72,
   "id": "d626158a-58be-4d52-bb15-f9948089feec",
   "metadata": {},
   "outputs": [
    {
     "data": {
      "text/plain": [
       "659.5463917525773"
      ]
     },
     "execution_count": 72,
     "metadata": {},
     "output_type": "execute_result"
    }
   ],
   "source": [
    "whole_sim.sum(axis = 1).mean()"
   ]
  },
  {
   "cell_type": "code",
   "execution_count": 73,
   "id": "83e7a366-9b3d-4f15-ac8f-d9e620d62028",
   "metadata": {},
   "outputs": [
    {
     "data": {
      "text/plain": [
       "666.0824742268042"
      ]
     },
     "execution_count": 73,
     "metadata": {},
     "output_type": "execute_result"
    }
   ],
   "source": [
    "high_sim.sum(axis = 1).mean()"
   ]
  },
  {
   "cell_type": "code",
   "execution_count": 74,
   "id": "9b71f5de-d750-4b9c-8928-2c30b3a5b8d9",
   "metadata": {
    "scrolled": true
   },
   "outputs": [
    {
     "data": {
      "text/plain": [
       "17584.912344426048"
      ]
     },
     "execution_count": 74,
     "metadata": {},
     "output_type": "execute_result"
    }
   ],
   "source": [
    "whole_sim.sum(axis = 1).var()"
   ]
  },
  {
   "cell_type": "code",
   "execution_count": 75,
   "id": "97851e76-cdd8-49d5-a39e-ac5cabf62e5c",
   "metadata": {},
   "outputs": [
    {
     "data": {
      "text/plain": [
       "16277.671919235081"
      ]
     },
     "execution_count": 75,
     "metadata": {},
     "output_type": "execute_result"
    }
   ],
   "source": [
    "high_sim.sum(axis = 1).var()"
   ]
  },
  {
   "cell_type": "code",
   "execution_count": 1,
   "id": "e43a9c4d-feb9-4c0a-9b3d-3471c5686d5a",
   "metadata": {},
   "outputs": [],
   "source": [
    "#get mean and sd + variance of simulation replicates\n",
    "#mean = []\n",
    "#var = []\n",
    "#for i in range(0,10):\n",
    "#    whole_sim = genotype_simulation(genetic_map = genmap, parent_genos = parent_genos, ref_allele = ref_allele, \n",
    "#                                founder_list = list([\"B73\", \"B97\"]), offspring = 194, selfing_genos = 5)\n",
    "#    mean.append(whole_sim.sum(axis = 1).mean())\n",
    "#    var.append(whole_sim.sum(axis = 1).var())"
   ]
  },
  {
   "cell_type": "code",
   "execution_count": 8,
   "id": "f08becd5-57ea-42f7-99af-16877c47de04",
   "metadata": {},
   "outputs": [
    {
     "ename": "NameError",
     "evalue": "name 'mean' is not defined",
     "output_type": "error",
     "traceback": [
      "\u001b[1;31m---------------------------------------------------------------------------\u001b[0m",
      "\u001b[1;31mNameError\u001b[0m                                 Traceback (most recent call last)",
      "Cell \u001b[1;32mIn[8], line 1\u001b[0m\n\u001b[1;32m----> 1\u001b[0m np\u001b[38;5;241m.\u001b[39mmean(\u001b[43mmean\u001b[49m)\n",
      "\u001b[1;31mNameError\u001b[0m: name 'mean' is not defined"
     ]
    }
   ],
   "source": [
    "np.mean(mean)"
   ]
  },
  {
   "cell_type": "code",
   "execution_count": 56,
   "id": "fc03fb61-0c55-49b1-a41d-b27c545a4dd9",
   "metadata": {},
   "outputs": [
    {
     "data": {
      "text/plain": [
       "9.311030149362745"
      ]
     },
     "execution_count": 56,
     "metadata": {},
     "output_type": "execute_result"
    }
   ],
   "source": [
    "np.std(mean)"
   ]
  },
  {
   "cell_type": "code",
   "execution_count": 60,
   "id": "1d013f36-ce35-48cf-8665-1d9599e6002f",
   "metadata": {},
   "outputs": [
    {
     "data": {
      "text/plain": [
       "16742.91505528551"
      ]
     },
     "execution_count": 60,
     "metadata": {},
     "output_type": "execute_result"
    }
   ],
   "source": [
    "np.mean(var)"
   ]
  },
  {
   "cell_type": "code",
   "execution_count": 58,
   "id": "af0365eb-24bf-48d8-9b7d-5d2fedc3d09b",
   "metadata": {},
   "outputs": [
    {
     "data": {
      "text/plain": [
       "2087.783198123807"
      ]
     },
     "execution_count": 58,
     "metadata": {},
     "output_type": "execute_result"
    }
   ],
   "source": [
    "np.std(var)"
   ]
  },
  {
   "cell_type": "code",
   "execution_count": 70,
   "id": "61fb9cc7-3dfd-4bed-8c69-12019237a6bf",
   "metadata": {
    "scrolled": true
   },
   "outputs": [
    {
     "data": {
      "image/png": "[encoded data removed]",
      "text/plain": [
       "<Figure size 640x480 with 1 Axes>"
      ]
     },
     "metadata": {},
     "output_type": "display_data"
    }
   ],
   "source": [
    "whole_sim.sum(axis = 1).plot.kde()\n",
    "plt.title(\"KDE density function of simulated additive genotypes\")\n",
    "plt.savefig(\"plots/KDE_sim.png\")"
   ]
  },
  {
   "cell_type": "code",
   "execution_count": 51,
   "id": "08bc0a83-15d2-4f39-ba77-e05f5c6aea26",
   "metadata": {},
   "outputs": [
    {
     "data": {
      "text/plain": [
       "KstestResult(statistic=1.0, pvalue=0.0, statistic_location=289, statistic_sign=-1)"
      ]
     },
     "execution_count": 51,
     "metadata": {},
     "output_type": "execute_result"
    }
   ],
   "source": [
    "stats.kstest(whole_sim.sum(axis = 1), \"norm\")"
   ]
  },
  {
   "cell_type": "code",
   "execution_count": 69,
   "id": "3b4adf67-a1fe-4c14-bef0-36c97a8f9b4a",
   "metadata": {},
   "outputs": [
    {
     "data": {
      "image/png": "[encoded data removed]",
      "text/plain": [
       "<Figure size 800x600 with 1 Axes>"
      ]
     },
     "metadata": {},
     "output_type": "display_data"
    }
   ],
   "source": [
    "#plt density of additive genotypes\n",
    "plt.figure(figsize = (8,6))\n",
    "plt.hist(whole_sim.sum(axis = 1), bins = 20, density = True, alpha = 0.5, color = \"b\")\n",
    "plt.title(\"Histogram of simulated additive genotypes\")\n",
    "plt.savefig(\"plots/Hist_sim.png\")"
   ]
  },
  {
   "cell_type": "code",
   "execution_count": 15,
   "id": "6327c6cc-3f11-4b0f-9e2b-f79aca699027",
   "metadata": {},
   "outputs": [],
   "source": [
    "pd.set_option('display.max_rows', None)\n",
    "pd.set_option('display.max_columns', None)"
   ]
  },
  {
   "cell_type": "code",
   "execution_count": 6,
   "id": "c9812de4-c509-4ba1-8d1d-e1d2474ac206",
   "metadata": {},
   "outputs": [],
   "source": [
    "# Reset display options\n",
    "pd.reset_option('display.max_rows')\n",
    "pd.reset_option('display.max_columns')"
   ]
  },
  {
   "cell_type": "code",
   "execution_count": null,
   "id": "413cb52f",
   "metadata": {},
   "outputs": [],
   "source": []
  },
  {
   "cell_type": "code",
   "execution_count": 58,
   "id": "4f88ae61-fd6f-42d8-8393-ad867a9a0c29",
   "metadata": {},
   "outputs": [],
   "source": []
  },
  {
   "cell_type": "code",
   "execution_count": 10,
   "id": "5c00becf",
   "metadata": {},
   "outputs": [],
   "source": [
    "#population one genotypes and allele frequencies\n",
    "pop_1_genos = pd.read_csv(\"data/test_data/pop_2_genos.csv\")\n",
    "pop_1_genos = pop_1_genos[pop_1_genos.columns.intersection(genmap[\"Marker\"])]"
   ]
  },
  {
   "cell_type": "code",
   "execution_count": 11,
   "id": "a8bb60c5-8161-4115-a4c1-f1d150cc78e1",
   "metadata": {},
   "outputs": [
    {
     "data": {
      "text/html": [
       "<div>\n",
       "<style scoped>\n",
       "    .dataframe tbody tr th:only-of-type {\n",
       "        vertical-align: middle;\n",
       "    }\n",
       "\n",
       "    .dataframe tbody tr th {\n",
       "        vertical-align: top;\n",
       "    }\n",
       "\n",
       "    .dataframe thead th {\n",
       "        text-align: right;\n",
       "    }\n",
       "</style>\n",
       "<table border=\"1\" class=\"dataframe\">\n",
       "  <thead>\n",
       "    <tr style=\"text-align: right;\">\n",
       "      <th></th>\n",
       "      <th>PZA01271.1</th>\n",
       "      <th>PZA03613.1</th>\n",
       "      <th>PZA02129.1</th>\n",
       "      <th>PZA02032.1</th>\n",
       "      <th>PHM2244.142</th>\n",
       "      <th>PZA02372.1</th>\n",
       "      <th>PHM6238.36</th>\n",
       "      <th>PZA00181.2</th>\n",
       "      <th>PZA00528.1</th>\n",
       "      <th>PZA00175.2</th>\n",
       "      <th>...</th>\n",
       "      <th>PZA03607.1</th>\n",
       "      <th>PZA00130.9</th>\n",
       "      <th>PZA02969.9</th>\n",
       "      <th>PZA02049.1</th>\n",
       "      <th>PZA00007.1</th>\n",
       "      <th>PHM5435.25</th>\n",
       "      <th>PZA01073.1</th>\n",
       "      <th>PZA01001.2</th>\n",
       "      <th>PZA02578.1</th>\n",
       "      <th>PZA00062.4</th>\n",
       "    </tr>\n",
       "  </thead>\n",
       "  <tbody>\n",
       "    <tr>\n",
       "      <th>0</th>\n",
       "      <td>2</td>\n",
       "      <td>2</td>\n",
       "      <td>2.0</td>\n",
       "      <td>2.0</td>\n",
       "      <td>1.5</td>\n",
       "      <td>1.0</td>\n",
       "      <td>1.0</td>\n",
       "      <td>1</td>\n",
       "      <td>1</td>\n",
       "      <td>1.5</td>\n",
       "      <td>...</td>\n",
       "      <td>0.0</td>\n",
       "      <td>0.0</td>\n",
       "      <td>0.0</td>\n",
       "      <td>0.0</td>\n",
       "      <td>0.0</td>\n",
       "      <td>0</td>\n",
       "      <td>0.0</td>\n",
       "      <td>0.0</td>\n",
       "      <td>0.0</td>\n",
       "      <td>0</td>\n",
       "    </tr>\n",
       "    <tr>\n",
       "      <th>1</th>\n",
       "      <td>2</td>\n",
       "      <td>2</td>\n",
       "      <td>2.0</td>\n",
       "      <td>2.0</td>\n",
       "      <td>2.0</td>\n",
       "      <td>2.0</td>\n",
       "      <td>2.0</td>\n",
       "      <td>2</td>\n",
       "      <td>2</td>\n",
       "      <td>2.0</td>\n",
       "      <td>...</td>\n",
       "      <td>2.0</td>\n",
       "      <td>2.0</td>\n",
       "      <td>2.0</td>\n",
       "      <td>2.0</td>\n",
       "      <td>2.0</td>\n",
       "      <td>2</td>\n",
       "      <td>2.0</td>\n",
       "      <td>2.0</td>\n",
       "      <td>2.0</td>\n",
       "      <td>2</td>\n",
       "    </tr>\n",
       "    <tr>\n",
       "      <th>2</th>\n",
       "      <td>0</td>\n",
       "      <td>0</td>\n",
       "      <td>0.0</td>\n",
       "      <td>0.0</td>\n",
       "      <td>0.0</td>\n",
       "      <td>1.0</td>\n",
       "      <td>1.0</td>\n",
       "      <td>1</td>\n",
       "      <td>1</td>\n",
       "      <td>1.0</td>\n",
       "      <td>...</td>\n",
       "      <td>2.0</td>\n",
       "      <td>2.0</td>\n",
       "      <td>2.0</td>\n",
       "      <td>2.0</td>\n",
       "      <td>2.0</td>\n",
       "      <td>2</td>\n",
       "      <td>2.0</td>\n",
       "      <td>2.0</td>\n",
       "      <td>2.0</td>\n",
       "      <td>2</td>\n",
       "    </tr>\n",
       "    <tr>\n",
       "      <th>3</th>\n",
       "      <td>0</td>\n",
       "      <td>0</td>\n",
       "      <td>0.0</td>\n",
       "      <td>0.0</td>\n",
       "      <td>0.0</td>\n",
       "      <td>2.0</td>\n",
       "      <td>2.0</td>\n",
       "      <td>2</td>\n",
       "      <td>2</td>\n",
       "      <td>2.0</td>\n",
       "      <td>...</td>\n",
       "      <td>0.0</td>\n",
       "      <td>0.0</td>\n",
       "      <td>0.0</td>\n",
       "      <td>0.0</td>\n",
       "      <td>0.0</td>\n",
       "      <td>0</td>\n",
       "      <td>0.0</td>\n",
       "      <td>0.0</td>\n",
       "      <td>0.0</td>\n",
       "      <td>0</td>\n",
       "    </tr>\n",
       "    <tr>\n",
       "      <th>4</th>\n",
       "      <td>0</td>\n",
       "      <td>0</td>\n",
       "      <td>0.0</td>\n",
       "      <td>0.0</td>\n",
       "      <td>0.0</td>\n",
       "      <td>0.0</td>\n",
       "      <td>0.0</td>\n",
       "      <td>0</td>\n",
       "      <td>0</td>\n",
       "      <td>0.5</td>\n",
       "      <td>...</td>\n",
       "      <td>0.0</td>\n",
       "      <td>0.0</td>\n",
       "      <td>0.0</td>\n",
       "      <td>0.0</td>\n",
       "      <td>0.0</td>\n",
       "      <td>0</td>\n",
       "      <td>0.0</td>\n",
       "      <td>0.0</td>\n",
       "      <td>0.0</td>\n",
       "      <td>2</td>\n",
       "    </tr>\n",
       "    <tr>\n",
       "      <th>...</th>\n",
       "      <td>...</td>\n",
       "      <td>...</td>\n",
       "      <td>...</td>\n",
       "      <td>...</td>\n",
       "      <td>...</td>\n",
       "      <td>...</td>\n",
       "      <td>...</td>\n",
       "      <td>...</td>\n",
       "      <td>...</td>\n",
       "      <td>...</td>\n",
       "      <td>...</td>\n",
       "      <td>...</td>\n",
       "      <td>...</td>\n",
       "      <td>...</td>\n",
       "      <td>...</td>\n",
       "      <td>...</td>\n",
       "      <td>...</td>\n",
       "      <td>...</td>\n",
       "      <td>...</td>\n",
       "      <td>...</td>\n",
       "      <td>...</td>\n",
       "    </tr>\n",
       "    <tr>\n",
       "      <th>191</th>\n",
       "      <td>2</td>\n",
       "      <td>2</td>\n",
       "      <td>2.0</td>\n",
       "      <td>2.0</td>\n",
       "      <td>2.0</td>\n",
       "      <td>2.0</td>\n",
       "      <td>2.0</td>\n",
       "      <td>2</td>\n",
       "      <td>2</td>\n",
       "      <td>2.0</td>\n",
       "      <td>...</td>\n",
       "      <td>1.0</td>\n",
       "      <td>1.0</td>\n",
       "      <td>0.0</td>\n",
       "      <td>0.0</td>\n",
       "      <td>0.0</td>\n",
       "      <td>0</td>\n",
       "      <td>0.0</td>\n",
       "      <td>0.0</td>\n",
       "      <td>0.0</td>\n",
       "      <td>0</td>\n",
       "    </tr>\n",
       "    <tr>\n",
       "      <th>192</th>\n",
       "      <td>2</td>\n",
       "      <td>2</td>\n",
       "      <td>2.0</td>\n",
       "      <td>2.0</td>\n",
       "      <td>0.0</td>\n",
       "      <td>0.0</td>\n",
       "      <td>0.0</td>\n",
       "      <td>0</td>\n",
       "      <td>0</td>\n",
       "      <td>0.0</td>\n",
       "      <td>...</td>\n",
       "      <td>1.0</td>\n",
       "      <td>1.0</td>\n",
       "      <td>0.0</td>\n",
       "      <td>0.0</td>\n",
       "      <td>0.0</td>\n",
       "      <td>0</td>\n",
       "      <td>0.0</td>\n",
       "      <td>0.0</td>\n",
       "      <td>0.0</td>\n",
       "      <td>0</td>\n",
       "    </tr>\n",
       "    <tr>\n",
       "      <th>193</th>\n",
       "      <td>2</td>\n",
       "      <td>2</td>\n",
       "      <td>2.0</td>\n",
       "      <td>2.0</td>\n",
       "      <td>2.0</td>\n",
       "      <td>2.0</td>\n",
       "      <td>2.0</td>\n",
       "      <td>2</td>\n",
       "      <td>2</td>\n",
       "      <td>2.0</td>\n",
       "      <td>...</td>\n",
       "      <td>2.0</td>\n",
       "      <td>2.0</td>\n",
       "      <td>2.0</td>\n",
       "      <td>2.0</td>\n",
       "      <td>2.0</td>\n",
       "      <td>2</td>\n",
       "      <td>2.0</td>\n",
       "      <td>2.0</td>\n",
       "      <td>2.0</td>\n",
       "      <td>2</td>\n",
       "    </tr>\n",
       "    <tr>\n",
       "      <th>194</th>\n",
       "      <td>0</td>\n",
       "      <td>0</td>\n",
       "      <td>0.0</td>\n",
       "      <td>0.0</td>\n",
       "      <td>0.0</td>\n",
       "      <td>0.0</td>\n",
       "      <td>0.0</td>\n",
       "      <td>0</td>\n",
       "      <td>0</td>\n",
       "      <td>0.0</td>\n",
       "      <td>...</td>\n",
       "      <td>1.0</td>\n",
       "      <td>1.0</td>\n",
       "      <td>2.0</td>\n",
       "      <td>2.0</td>\n",
       "      <td>2.0</td>\n",
       "      <td>2</td>\n",
       "      <td>2.0</td>\n",
       "      <td>2.0</td>\n",
       "      <td>2.0</td>\n",
       "      <td>2</td>\n",
       "    </tr>\n",
       "    <tr>\n",
       "      <th>195</th>\n",
       "      <td>2</td>\n",
       "      <td>2</td>\n",
       "      <td>2.0</td>\n",
       "      <td>2.0</td>\n",
       "      <td>2.0</td>\n",
       "      <td>2.0</td>\n",
       "      <td>2.0</td>\n",
       "      <td>2</td>\n",
       "      <td>2</td>\n",
       "      <td>2.0</td>\n",
       "      <td>...</td>\n",
       "      <td>0.0</td>\n",
       "      <td>0.0</td>\n",
       "      <td>0.0</td>\n",
       "      <td>0.0</td>\n",
       "      <td>0.0</td>\n",
       "      <td>0</td>\n",
       "      <td>0.0</td>\n",
       "      <td>0.0</td>\n",
       "      <td>0.0</td>\n",
       "      <td>0</td>\n",
       "    </tr>\n",
       "  </tbody>\n",
       "</table>\n",
       "<p>196 rows × 974 columns</p>\n",
       "</div>"
      ],
      "text/plain": [
       "     PZA01271.1  PZA03613.1  PZA02129.1  PZA02032.1  PHM2244.142  PZA02372.1  \\\n",
       "0             2           2         2.0         2.0          1.5         1.0   \n",
       "1             2           2         2.0         2.0          2.0         2.0   \n",
       "2             0           0         0.0         0.0          0.0         1.0   \n",
       "3             0           0         0.0         0.0          0.0         2.0   \n",
       "4             0           0         0.0         0.0          0.0         0.0   \n",
       "..          ...         ...         ...         ...          ...         ...   \n",
       "191           2           2         2.0         2.0          2.0         2.0   \n",
       "192           2           2         2.0         2.0          0.0         0.0   \n",
       "193           2           2         2.0         2.0          2.0         2.0   \n",
       "194           0           0         0.0         0.0          0.0         0.0   \n",
       "195           2           2         2.0         2.0          2.0         2.0   \n",
       "\n",
       "     PHM6238.36  PZA00181.2  PZA00528.1  PZA00175.2  ...  PZA03607.1  \\\n",
       "0           1.0           1           1         1.5  ...         0.0   \n",
       "1           2.0           2           2         2.0  ...         2.0   \n",
       "2           1.0           1           1         1.0  ...         2.0   \n",
       "3           2.0           2           2         2.0  ...         0.0   \n",
       "4           0.0           0           0         0.5  ...         0.0   \n",
       "..          ...         ...         ...         ...  ...         ...   \n",
       "191         2.0           2           2         2.0  ...         1.0   \n",
       "192         0.0           0           0         0.0  ...         1.0   \n",
       "193         2.0           2           2         2.0  ...         2.0   \n",
       "194         0.0           0           0         0.0  ...         1.0   \n",
       "195         2.0           2           2         2.0  ...         0.0   \n",
       "\n",
       "     PZA00130.9  PZA02969.9  PZA02049.1  PZA00007.1  PHM5435.25  PZA01073.1  \\\n",
       "0           0.0         0.0         0.0         0.0           0         0.0   \n",
       "1           2.0         2.0         2.0         2.0           2         2.0   \n",
       "2           2.0         2.0         2.0         2.0           2         2.0   \n",
       "3           0.0         0.0         0.0         0.0           0         0.0   \n",
       "4           0.0         0.0         0.0         0.0           0         0.0   \n",
       "..          ...         ...         ...         ...         ...         ...   \n",
       "191         1.0         0.0         0.0         0.0           0         0.0   \n",
       "192         1.0         0.0         0.0         0.0           0         0.0   \n",
       "193         2.0         2.0         2.0         2.0           2         2.0   \n",
       "194         1.0         2.0         2.0         2.0           2         2.0   \n",
       "195         0.0         0.0         0.0         0.0           0         0.0   \n",
       "\n",
       "     PZA01001.2  PZA02578.1  PZA00062.4  \n",
       "0           0.0         0.0           0  \n",
       "1           2.0         2.0           2  \n",
       "2           2.0         2.0           2  \n",
       "3           0.0         0.0           0  \n",
       "4           0.0         0.0           2  \n",
       "..          ...         ...         ...  \n",
       "191         0.0         0.0           0  \n",
       "192         0.0         0.0           0  \n",
       "193         2.0         2.0           2  \n",
       "194         2.0         2.0           2  \n",
       "195         0.0         0.0           0  \n",
       "\n",
       "[196 rows x 974 columns]"
      ]
     },
     "execution_count": 11,
     "metadata": {},
     "output_type": "execute_result"
    }
   ],
   "source": [
    "pop_1_genos"
   ]
  },
  {
   "cell_type": "code",
   "execution_count": 12,
   "id": "c3a22541-4820-4d0c-8ca5-9cfe2cc902de",
   "metadata": {},
   "outputs": [
    {
     "data": {
      "text/plain": [
       "1001.5204081632653"
      ]
     },
     "execution_count": 12,
     "metadata": {},
     "output_type": "execute_result"
    }
   ],
   "source": [
    "pop_1_genos.sum(axis = 1).mean()"
   ]
  },
  {
   "cell_type": "code",
   "execution_count": 13,
   "id": "1371e075-7c43-4090-b719-3e69eece9d86",
   "metadata": {},
   "outputs": [
    {
     "data": {
      "text/plain": [
       "35802.91496598639"
      ]
     },
     "execution_count": 13,
     "metadata": {},
     "output_type": "execute_result"
    }
   ],
   "source": [
    "pop_1_genos.sum(axis = 1).var()"
   ]
  },
  {
   "cell_type": "code",
   "execution_count": 68,
   "id": "ae7ab894-467b-44e4-b429-ff3ddc100c88",
   "metadata": {},
   "outputs": [
    {
     "data": {
      "image/png": "[encoded data removed]",
      "text/plain": [
       "<Figure size 640x480 with 1 Axes>"
      ]
     },
     "metadata": {},
     "output_type": "display_data"
    }
   ],
   "source": [
    "pop_1_genos.sum(axis = 1).plot.kde()\n",
    "plt.title(\"KDE density function of original additive genotypes\")\n",
    "plt.savefig(\"plots/KDE_original.png\")"
   ]
  },
  {
   "cell_type": "code",
   "execution_count": 37,
   "id": "6c2bd20b-c718-4aed-ac65-93dfe8b6d253",
   "metadata": {},
   "outputs": [
    {
     "data": {
      "text/plain": [
       "KstestResult(statistic=1.0, pvalue=0.0, statistic_location=387.5, statistic_sign=-1)"
      ]
     },
     "execution_count": 37,
     "metadata": {},
     "output_type": "execute_result"
    }
   ],
   "source": [
    "stats.kstest(pop_1_genos.sum(axis = 1), \"norm\")"
   ]
  },
  {
   "cell_type": "code",
   "execution_count": 38,
   "id": "58460e16",
   "metadata": {},
   "outputs": [
    {
     "data": {
      "text/plain": [
       "1101.0    3\n",
       "1092.5    2\n",
       "899.0     2\n",
       "977.0     2\n",
       "808.5     2\n",
       "         ..\n",
       "772.5     1\n",
       "784.0     1\n",
       "1276.5    1\n",
       "978.0     1\n",
       "626.5     1\n",
       "Name: count, Length: 181, dtype: int64"
      ]
     },
     "execution_count": 38,
     "metadata": {},
     "output_type": "execute_result"
    }
   ],
   "source": [
    "pop_1_genos.sum(axis = 1).value_counts()"
   ]
  },
  {
   "cell_type": "code",
   "execution_count": 39,
   "id": "6f708a3d-3659-40b3-9d5f-e9ccb04819fe",
   "metadata": {},
   "outputs": [
    {
     "data": {
      "text/plain": [
       "0.0    86689\n",
       "2.0    86050\n",
       "1.0    12850\n",
       "0.5     1776\n",
       "1.5     1591\n",
       "Name: count, dtype: int64"
      ]
     },
     "execution_count": 39,
     "metadata": {},
     "output_type": "execute_result"
    }
   ],
   "source": [
    "pd.Series(pop_1_genos.values.flatten().tolist()).value_counts()"
   ]
  },
  {
   "cell_type": "code",
   "execution_count": 76,
   "id": "a100526f-1e24-481a-83fc-a37a7905077e",
   "metadata": {},
   "outputs": [
    {
     "data": {
      "text/plain": [
       "0.06731131877802456"
      ]
     },
     "execution_count": 76,
     "metadata": {},
     "output_type": "execute_result"
    }
   ],
   "source": [
    "12850 / pd.Series(pop_1_genos.values.flatten().tolist()).value_counts().sum()"
   ]
  },
  {
   "cell_type": "code",
   "execution_count": 71,
   "id": "4508cd1f-aa91-4c7f-b048-36b5f1a7d6a3",
   "metadata": {},
   "outputs": [
    {
     "data": {
      "image/png": "[encoded data removed]",
      "text/plain": [
       "<Figure size 800x600 with 1 Axes>"
      ]
     },
     "metadata": {},
     "output_type": "display_data"
    }
   ],
   "source": [
    "#plt density of additive genotypes\n",
    "plt.figure(figsize = (8,6))\n",
    "plt.hist(pop_1_genos.sum(axis = 1), bins = 20, density = True, alpha = 0.5, color = \"b\")\n",
    "plt.title(\"Histogram of original additive genotypes\")\n",
    "plt.savefig(\"plots/Hist_original.png\")"
   ]
  },
  {
   "cell_type": "code",
   "execution_count": 21,
   "id": "8e6e05c8-28a1-499f-a57b-c63e9f9a4d84",
   "metadata": {},
   "outputs": [
    {
     "data": {
      "text/html": [
       "<div>\n",
       "<style scoped>\n",
       "    .dataframe tbody tr th:only-of-type {\n",
       "        vertical-align: middle;\n",
       "    }\n",
       "\n",
       "    .dataframe tbody tr th {\n",
       "        vertical-align: top;\n",
       "    }\n",
       "\n",
       "    .dataframe thead th {\n",
       "        text-align: right;\n",
       "    }\n",
       "</style>\n",
       "<table border=\"1\" class=\"dataframe\">\n",
       "  <thead>\n",
       "    <tr style=\"text-align: right;\">\n",
       "      <th></th>\n",
       "      <th>Marker</th>\n",
       "      <th>Chromosome</th>\n",
       "      <th>Position(bp)</th>\n",
       "      <th>Rate(cM/Mb)</th>\n",
       "      <th>Map(cM)</th>\n",
       "    </tr>\n",
       "  </thead>\n",
       "  <tbody>\n",
       "    <tr>\n",
       "      <th>0</th>\n",
       "      <td>PZA01271.1</td>\n",
       "      <td>1</td>\n",
       "      <td>1947984</td>\n",
       "      <td>0.931497</td>\n",
       "      <td>0.0</td>\n",
       "    </tr>\n",
       "    <tr>\n",
       "      <th>1</th>\n",
       "      <td>PZA03613.1</td>\n",
       "      <td>1</td>\n",
       "      <td>2914171</td>\n",
       "      <td>3.536037</td>\n",
       "      <td>0.9</td>\n",
       "    </tr>\n",
       "    <tr>\n",
       "      <th>2</th>\n",
       "      <td>PZA02129.1</td>\n",
       "      <td>1</td>\n",
       "      <td>3706018</td>\n",
       "      <td>1.784706</td>\n",
       "      <td>3.7</td>\n",
       "    </tr>\n",
       "    <tr>\n",
       "      <th>3</th>\n",
       "      <td>PZA02032.1</td>\n",
       "      <td>1</td>\n",
       "      <td>4490461</td>\n",
       "      <td>4.290881</td>\n",
       "      <td>5.1</td>\n",
       "    </tr>\n",
       "    <tr>\n",
       "      <th>4</th>\n",
       "      <td>PHM2244.142</td>\n",
       "      <td>1</td>\n",
       "      <td>5562502</td>\n",
       "      <td>2.735375</td>\n",
       "      <td>9.7</td>\n",
       "    </tr>\n",
       "    <tr>\n",
       "      <th>...</th>\n",
       "      <td>...</td>\n",
       "      <td>...</td>\n",
       "      <td>...</td>\n",
       "      <td>...</td>\n",
       "      <td>...</td>\n",
       "    </tr>\n",
       "    <tr>\n",
       "      <th>969</th>\n",
       "      <td>PHM5435.25</td>\n",
       "      <td>10</td>\n",
       "      <td>144239494</td>\n",
       "      <td>3.220602</td>\n",
       "      <td>82.2</td>\n",
       "    </tr>\n",
       "    <tr>\n",
       "      <th>970</th>\n",
       "      <td>PZA01073.1</td>\n",
       "      <td>10</td>\n",
       "      <td>144549995</td>\n",
       "      <td>3.921778</td>\n",
       "      <td>83.2</td>\n",
       "    </tr>\n",
       "    <tr>\n",
       "      <th>971</th>\n",
       "      <td>PZA01001.2</td>\n",
       "      <td>10</td>\n",
       "      <td>146538889</td>\n",
       "      <td>13.267878</td>\n",
       "      <td>91.0</td>\n",
       "    </tr>\n",
       "    <tr>\n",
       "      <th>972</th>\n",
       "      <td>PZA02578.1</td>\n",
       "      <td>10</td>\n",
       "      <td>146553963</td>\n",
       "      <td>5.608550</td>\n",
       "      <td>91.2</td>\n",
       "    </tr>\n",
       "    <tr>\n",
       "      <th>973</th>\n",
       "      <td>PZA00062.4</td>\n",
       "      <td>10</td>\n",
       "      <td>146999711</td>\n",
       "      <td>0.421064</td>\n",
       "      <td>93.7</td>\n",
       "    </tr>\n",
       "  </tbody>\n",
       "</table>\n",
       "<p>974 rows × 5 columns</p>\n",
       "</div>"
      ],
      "text/plain": [
       "          Marker  Chromosome  Position(bp)  Rate(cM/Mb)  Map(cM)\n",
       "0     PZA01271.1           1       1947984     0.931497      0.0\n",
       "1     PZA03613.1           1       2914171     3.536037      0.9\n",
       "2     PZA02129.1           1       3706018     1.784706      3.7\n",
       "3     PZA02032.1           1       4490461     4.290881      5.1\n",
       "4    PHM2244.142           1       5562502     2.735375      9.7\n",
       "..           ...         ...           ...          ...      ...\n",
       "969   PHM5435.25          10     144239494     3.220602     82.2\n",
       "970   PZA01073.1          10     144549995     3.921778     83.2\n",
       "971   PZA01001.2          10     146538889    13.267878     91.0\n",
       "972   PZA02578.1          10     146553963     5.608550     91.2\n",
       "973   PZA00062.4          10     146999711     0.421064     93.7\n",
       "\n",
       "[974 rows x 5 columns]"
      ]
     },
     "execution_count": 21,
     "metadata": {},
     "output_type": "execute_result"
    }
   ],
   "source": [
    "genmap"
   ]
  },
  {
   "cell_type": "code",
   "execution_count": 20,
   "id": "7512710d-7bb5-4fcd-8908-707842ba3faf",
   "metadata": {},
   "outputs": [
    {
     "data": {
      "text/html": [
       "<div>\n",
       "<style scoped>\n",
       "    .dataframe tbody tr th:only-of-type {\n",
       "        vertical-align: middle;\n",
       "    }\n",
       "\n",
       "    .dataframe tbody tr th {\n",
       "        vertical-align: top;\n",
       "    }\n",
       "\n",
       "    .dataframe thead th {\n",
       "        text-align: right;\n",
       "    }\n",
       "</style>\n",
       "<table border=\"1\" class=\"dataframe\">\n",
       "  <thead>\n",
       "    <tr style=\"text-align: right;\">\n",
       "      <th></th>\n",
       "      <th>PZA01271.1</th>\n",
       "      <th>PZA03613.1</th>\n",
       "      <th>PZA02129.1</th>\n",
       "      <th>PZA02032.1</th>\n",
       "      <th>PHM2244.142</th>\n",
       "      <th>PZA02372.1</th>\n",
       "      <th>PHM6238.36</th>\n",
       "      <th>PZA00181.2</th>\n",
       "      <th>PZA00528.1</th>\n",
       "      <th>PZA00175.2</th>\n",
       "      <th>...</th>\n",
       "      <th>PZA03604.1</th>\n",
       "      <th>PZA00130.9</th>\n",
       "      <th>PZA02969.9</th>\n",
       "      <th>PZA02049.1</th>\n",
       "      <th>PZA00007.1</th>\n",
       "      <th>PHM5435.25</th>\n",
       "      <th>PZA01073.1</th>\n",
       "      <th>PZA01001.2</th>\n",
       "      <th>PZA02578.1</th>\n",
       "      <th>PZA00062.4</th>\n",
       "    </tr>\n",
       "  </thead>\n",
       "  <tbody>\n",
       "    <tr>\n",
       "      <th>0</th>\n",
       "      <td>2</td>\n",
       "      <td>2</td>\n",
       "      <td>2.0</td>\n",
       "      <td>2.0</td>\n",
       "      <td>1.5</td>\n",
       "      <td>1.0</td>\n",
       "      <td>1.0</td>\n",
       "      <td>1</td>\n",
       "      <td>1</td>\n",
       "      <td>1.5</td>\n",
       "      <td>...</td>\n",
       "      <td>0.0</td>\n",
       "      <td>0.0</td>\n",
       "      <td>0.0</td>\n",
       "      <td>0.0</td>\n",
       "      <td>0.0</td>\n",
       "      <td>0</td>\n",
       "      <td>0.0</td>\n",
       "      <td>0.0</td>\n",
       "      <td>0.0</td>\n",
       "      <td>0</td>\n",
       "    </tr>\n",
       "    <tr>\n",
       "      <th>1</th>\n",
       "      <td>2</td>\n",
       "      <td>2</td>\n",
       "      <td>2.0</td>\n",
       "      <td>2.0</td>\n",
       "      <td>2.0</td>\n",
       "      <td>2.0</td>\n",
       "      <td>2.0</td>\n",
       "      <td>2</td>\n",
       "      <td>2</td>\n",
       "      <td>2.0</td>\n",
       "      <td>...</td>\n",
       "      <td>2.0</td>\n",
       "      <td>2.0</td>\n",
       "      <td>2.0</td>\n",
       "      <td>2.0</td>\n",
       "      <td>2.0</td>\n",
       "      <td>2</td>\n",
       "      <td>2.0</td>\n",
       "      <td>2.0</td>\n",
       "      <td>2.0</td>\n",
       "      <td>2</td>\n",
       "    </tr>\n",
       "    <tr>\n",
       "      <th>2</th>\n",
       "      <td>0</td>\n",
       "      <td>0</td>\n",
       "      <td>0.0</td>\n",
       "      <td>0.0</td>\n",
       "      <td>0.0</td>\n",
       "      <td>1.0</td>\n",
       "      <td>1.0</td>\n",
       "      <td>1</td>\n",
       "      <td>1</td>\n",
       "      <td>1.0</td>\n",
       "      <td>...</td>\n",
       "      <td>2.0</td>\n",
       "      <td>2.0</td>\n",
       "      <td>2.0</td>\n",
       "      <td>2.0</td>\n",
       "      <td>2.0</td>\n",
       "      <td>2</td>\n",
       "      <td>2.0</td>\n",
       "      <td>2.0</td>\n",
       "      <td>2.0</td>\n",
       "      <td>2</td>\n",
       "    </tr>\n",
       "    <tr>\n",
       "      <th>3</th>\n",
       "      <td>0</td>\n",
       "      <td>0</td>\n",
       "      <td>0.0</td>\n",
       "      <td>0.0</td>\n",
       "      <td>0.0</td>\n",
       "      <td>2.0</td>\n",
       "      <td>2.0</td>\n",
       "      <td>2</td>\n",
       "      <td>2</td>\n",
       "      <td>2.0</td>\n",
       "      <td>...</td>\n",
       "      <td>0.0</td>\n",
       "      <td>0.0</td>\n",
       "      <td>0.0</td>\n",
       "      <td>0.0</td>\n",
       "      <td>0.0</td>\n",
       "      <td>0</td>\n",
       "      <td>0.0</td>\n",
       "      <td>0.0</td>\n",
       "      <td>0.0</td>\n",
       "      <td>0</td>\n",
       "    </tr>\n",
       "    <tr>\n",
       "      <th>4</th>\n",
       "      <td>0</td>\n",
       "      <td>0</td>\n",
       "      <td>0.0</td>\n",
       "      <td>0.0</td>\n",
       "      <td>0.0</td>\n",
       "      <td>0.0</td>\n",
       "      <td>0.0</td>\n",
       "      <td>0</td>\n",
       "      <td>0</td>\n",
       "      <td>0.5</td>\n",
       "      <td>...</td>\n",
       "      <td>0.0</td>\n",
       "      <td>0.0</td>\n",
       "      <td>0.0</td>\n",
       "      <td>0.0</td>\n",
       "      <td>0.0</td>\n",
       "      <td>0</td>\n",
       "      <td>0.0</td>\n",
       "      <td>0.0</td>\n",
       "      <td>0.0</td>\n",
       "      <td>2</td>\n",
       "    </tr>\n",
       "    <tr>\n",
       "      <th>...</th>\n",
       "      <td>...</td>\n",
       "      <td>...</td>\n",
       "      <td>...</td>\n",
       "      <td>...</td>\n",
       "      <td>...</td>\n",
       "      <td>...</td>\n",
       "      <td>...</td>\n",
       "      <td>...</td>\n",
       "      <td>...</td>\n",
       "      <td>...</td>\n",
       "      <td>...</td>\n",
       "      <td>...</td>\n",
       "      <td>...</td>\n",
       "      <td>...</td>\n",
       "      <td>...</td>\n",
       "      <td>...</td>\n",
       "      <td>...</td>\n",
       "      <td>...</td>\n",
       "      <td>...</td>\n",
       "      <td>...</td>\n",
       "      <td>...</td>\n",
       "    </tr>\n",
       "    <tr>\n",
       "      <th>191</th>\n",
       "      <td>2</td>\n",
       "      <td>2</td>\n",
       "      <td>2.0</td>\n",
       "      <td>2.0</td>\n",
       "      <td>2.0</td>\n",
       "      <td>2.0</td>\n",
       "      <td>2.0</td>\n",
       "      <td>2</td>\n",
       "      <td>2</td>\n",
       "      <td>2.0</td>\n",
       "      <td>...</td>\n",
       "      <td>2.0</td>\n",
       "      <td>1.0</td>\n",
       "      <td>0.0</td>\n",
       "      <td>0.0</td>\n",
       "      <td>0.0</td>\n",
       "      <td>0</td>\n",
       "      <td>0.0</td>\n",
       "      <td>0.0</td>\n",
       "      <td>0.0</td>\n",
       "      <td>0</td>\n",
       "    </tr>\n",
       "    <tr>\n",
       "      <th>192</th>\n",
       "      <td>2</td>\n",
       "      <td>2</td>\n",
       "      <td>2.0</td>\n",
       "      <td>2.0</td>\n",
       "      <td>0.0</td>\n",
       "      <td>0.0</td>\n",
       "      <td>0.0</td>\n",
       "      <td>0</td>\n",
       "      <td>0</td>\n",
       "      <td>0.0</td>\n",
       "      <td>...</td>\n",
       "      <td>2.0</td>\n",
       "      <td>1.0</td>\n",
       "      <td>0.0</td>\n",
       "      <td>0.0</td>\n",
       "      <td>0.0</td>\n",
       "      <td>0</td>\n",
       "      <td>0.0</td>\n",
       "      <td>0.0</td>\n",
       "      <td>0.0</td>\n",
       "      <td>0</td>\n",
       "    </tr>\n",
       "    <tr>\n",
       "      <th>193</th>\n",
       "      <td>2</td>\n",
       "      <td>2</td>\n",
       "      <td>2.0</td>\n",
       "      <td>2.0</td>\n",
       "      <td>2.0</td>\n",
       "      <td>2.0</td>\n",
       "      <td>2.0</td>\n",
       "      <td>2</td>\n",
       "      <td>2</td>\n",
       "      <td>2.0</td>\n",
       "      <td>...</td>\n",
       "      <td>2.0</td>\n",
       "      <td>2.0</td>\n",
       "      <td>2.0</td>\n",
       "      <td>2.0</td>\n",
       "      <td>2.0</td>\n",
       "      <td>2</td>\n",
       "      <td>2.0</td>\n",
       "      <td>2.0</td>\n",
       "      <td>2.0</td>\n",
       "      <td>2</td>\n",
       "    </tr>\n",
       "    <tr>\n",
       "      <th>194</th>\n",
       "      <td>0</td>\n",
       "      <td>0</td>\n",
       "      <td>0.0</td>\n",
       "      <td>0.0</td>\n",
       "      <td>0.0</td>\n",
       "      <td>0.0</td>\n",
       "      <td>0.0</td>\n",
       "      <td>0</td>\n",
       "      <td>0</td>\n",
       "      <td>0.0</td>\n",
       "      <td>...</td>\n",
       "      <td>0.0</td>\n",
       "      <td>1.0</td>\n",
       "      <td>2.0</td>\n",
       "      <td>2.0</td>\n",
       "      <td>2.0</td>\n",
       "      <td>2</td>\n",
       "      <td>2.0</td>\n",
       "      <td>2.0</td>\n",
       "      <td>2.0</td>\n",
       "      <td>2</td>\n",
       "    </tr>\n",
       "    <tr>\n",
       "      <th>195</th>\n",
       "      <td>2</td>\n",
       "      <td>2</td>\n",
       "      <td>2.0</td>\n",
       "      <td>2.0</td>\n",
       "      <td>2.0</td>\n",
       "      <td>2.0</td>\n",
       "      <td>2.0</td>\n",
       "      <td>2</td>\n",
       "      <td>2</td>\n",
       "      <td>2.0</td>\n",
       "      <td>...</td>\n",
       "      <td>0.0</td>\n",
       "      <td>0.0</td>\n",
       "      <td>0.0</td>\n",
       "      <td>0.0</td>\n",
       "      <td>0.0</td>\n",
       "      <td>0</td>\n",
       "      <td>0.0</td>\n",
       "      <td>0.0</td>\n",
       "      <td>0.0</td>\n",
       "      <td>0</td>\n",
       "    </tr>\n",
       "  </tbody>\n",
       "</table>\n",
       "<p>196 rows × 974 columns</p>\n",
       "</div>"
      ],
      "text/plain": [
       "     PZA01271.1  PZA03613.1  PZA02129.1  PZA02032.1  PHM2244.142  PZA02372.1  \\\n",
       "0             2           2         2.0         2.0          1.5         1.0   \n",
       "1             2           2         2.0         2.0          2.0         2.0   \n",
       "2             0           0         0.0         0.0          0.0         1.0   \n",
       "3             0           0         0.0         0.0          0.0         2.0   \n",
       "4             0           0         0.0         0.0          0.0         0.0   \n",
       "..          ...         ...         ...         ...          ...         ...   \n",
       "191           2           2         2.0         2.0          2.0         2.0   \n",
       "192           2           2         2.0         2.0          0.0         0.0   \n",
       "193           2           2         2.0         2.0          2.0         2.0   \n",
       "194           0           0         0.0         0.0          0.0         0.0   \n",
       "195           2           2         2.0         2.0          2.0         2.0   \n",
       "\n",
       "     PHM6238.36  PZA00181.2  PZA00528.1  PZA00175.2  ...  PZA03604.1  \\\n",
       "0           1.0           1           1         1.5  ...         0.0   \n",
       "1           2.0           2           2         2.0  ...         2.0   \n",
       "2           1.0           1           1         1.0  ...         2.0   \n",
       "3           2.0           2           2         2.0  ...         0.0   \n",
       "4           0.0           0           0         0.5  ...         0.0   \n",
       "..          ...         ...         ...         ...  ...         ...   \n",
       "191         2.0           2           2         2.0  ...         2.0   \n",
       "192         0.0           0           0         0.0  ...         2.0   \n",
       "193         2.0           2           2         2.0  ...         2.0   \n",
       "194         0.0           0           0         0.0  ...         0.0   \n",
       "195         2.0           2           2         2.0  ...         0.0   \n",
       "\n",
       "     PZA00130.9  PZA02969.9  PZA02049.1  PZA00007.1  PHM5435.25  PZA01073.1  \\\n",
       "0           0.0         0.0         0.0         0.0           0         0.0   \n",
       "1           2.0         2.0         2.0         2.0           2         2.0   \n",
       "2           2.0         2.0         2.0         2.0           2         2.0   \n",
       "3           0.0         0.0         0.0         0.0           0         0.0   \n",
       "4           0.0         0.0         0.0         0.0           0         0.0   \n",
       "..          ...         ...         ...         ...         ...         ...   \n",
       "191         1.0         0.0         0.0         0.0           0         0.0   \n",
       "192         1.0         0.0         0.0         0.0           0         0.0   \n",
       "193         2.0         2.0         2.0         2.0           2         2.0   \n",
       "194         1.0         2.0         2.0         2.0           2         2.0   \n",
       "195         0.0         0.0         0.0         0.0           0         0.0   \n",
       "\n",
       "     PZA01001.2  PZA02578.1  PZA00062.4  \n",
       "0           0.0         0.0           0  \n",
       "1           2.0         2.0           2  \n",
       "2           2.0         2.0           2  \n",
       "3           0.0         0.0           0  \n",
       "4           0.0         0.0           2  \n",
       "..          ...         ...         ...  \n",
       "191         0.0         0.0           0  \n",
       "192         0.0         0.0           0  \n",
       "193         2.0         2.0           2  \n",
       "194         2.0         2.0           2  \n",
       "195         0.0         0.0           0  \n",
       "\n",
       "[196 rows x 974 columns]"
      ]
     },
     "execution_count": 20,
     "metadata": {},
     "output_type": "execute_result"
    }
   ],
   "source": [
    "pop_1_genos[genmap[\"Marker\"]]"
   ]
  },
  {
   "cell_type": "code",
   "execution_count": 25,
   "id": "528d99e5-b246-471e-8121-7fec7e9bd0e0",
   "metadata": {},
   "outputs": [
    {
     "data": {
      "text/plain": [
       "SNP\n",
       "PZA01271.1       0.000000\n",
       "PZA03613.1       0.943299\n",
       "PZA02129.1       0.943299\n",
       "PZA02032.1       1.881443\n",
       "PHM2244.142      2.798969\n",
       "                  ...    \n",
       "PHM5435.25     656.463918\n",
       "PZA01073.1     657.438144\n",
       "PZA01001.2     657.438144\n",
       "PZA02578.1     658.474227\n",
       "PZA00062.4     659.546392\n",
       "Length: 974, dtype: float64"
      ]
     },
     "execution_count": 25,
     "metadata": {},
     "output_type": "execute_result"
    }
   ],
   "source": [
    "whole_sim[genmap[\"Marker\"]].cumsum(axis = 1).mean(axis = 0)"
   ]
  },
  {
   "cell_type": "code",
   "execution_count": 36,
   "id": "34f50bd9-ac47-4768-86d3-64a736654e54",
   "metadata": {},
   "outputs": [
    {
     "data": {
      "text/plain": [
       "Text(0.5, 1.0, 'Mean of cumulative sum along the chromosome simulated')"
      ]
     },
     "execution_count": 36,
     "metadata": {},
     "output_type": "execute_result"
    },
    {
     "data": {
      "image/png": "[encoded data removed]",
      "text/plain": [
       "<Figure size 640x480 with 1 Axes>"
      ]
     },
     "metadata": {},
     "output_type": "display_data"
    }
   ],
   "source": [
    "plt.plot(range(len(whole_sim[genmap[\"Marker\"]].cumsum(axis = 1).mean(axis = 0))), whole_sim[genmap[\"Marker\"]].cumsum(axis = 1).mean(axis = 0))\n",
    "plt.title(\"Mean of cumulative sum along the chromosome simulated\")"
   ]
  },
  {
   "cell_type": "code",
   "execution_count": 47,
   "id": "93fd87f3-8965-4485-9b7c-06d91a0e42a5",
   "metadata": {},
   "outputs": [
    {
     "data": {
      "text/plain": [
       "Text(0.5, 1.0, 'Mean along the chromosome simulated')"
      ]
     },
     "execution_count": 47,
     "metadata": {},
     "output_type": "execute_result"
    },
    {
     "data": {
      "image/png": "[encoded data removed]",
      "text/plain": [
       "<Figure size 640x480 with 1 Axes>"
      ]
     },
     "metadata": {},
     "output_type": "display_data"
    }
   ],
   "source": [
    "plt.plot(range(len(whole_sim[genmap[\"Marker\"]].mean(axis = 0))), whole_sim[genmap[\"Marker\"]].mean(axis = 0))\n",
    "plt.title(\"Mean along the chromosome simulated\")"
   ]
  },
  {
   "cell_type": "code",
   "execution_count": 49,
   "id": "d145af7c-dd53-4435-a804-08add9321206",
   "metadata": {},
   "outputs": [
    {
     "data": {
      "text/plain": [
       "SNP\n",
       "PZA01271.1     0.000000\n",
       "PZA03613.1     0.943299\n",
       "PZA02129.1     0.000000\n",
       "PZA02032.1     0.938144\n",
       "PHM2244.142    0.917526\n",
       "                 ...   \n",
       "PHM5435.25     0.943299\n",
       "PZA01073.1     0.974227\n",
       "PZA01001.2     0.000000\n",
       "PZA02578.1     1.036082\n",
       "PZA00062.4     1.072165\n",
       "Length: 974, dtype: float64"
      ]
     },
     "execution_count": 49,
     "metadata": {},
     "output_type": "execute_result"
    }
   ],
   "source": [
    "whole_sim[genmap[\"Marker\"]].mean(axis = 0)"
   ]
  },
  {
   "cell_type": "code",
   "execution_count": 56,
   "id": "5a14aac5-9f0a-4501-8a26-f0419303a77a",
   "metadata": {},
   "outputs": [
    {
     "data": {
      "text/plain": [
       "1.1597938144329898"
      ]
     },
     "execution_count": 56,
     "metadata": {},
     "output_type": "execute_result"
    }
   ],
   "source": [
    "whole_sim[genmap[\"Marker\"]].mean(axis = 0).max() - whole_sim[genmap[\"Marker\"]].mean(axis = 0).min()"
   ]
  },
  {
   "cell_type": "code",
   "execution_count": null,
   "id": "c53f8383-1fed-4178-8794-ad67e05f27d9",
   "metadata": {},
   "outputs": [],
   "source": [
    "plt.plot(range(len(whole_sim[genmap[\"Marker\"]].var(axis = 0))), whole_sim[genmap[\"Marker\"]].var(axis = 0))\n",
    "plt.title(\"Variance along the chromosome simulated\")"
   ]
  },
  {
   "cell_type": "code",
   "execution_count": 46,
   "id": "145afa26-1b1d-47ff-a604-cb4388d7c58d",
   "metadata": {},
   "outputs": [
    {
     "data": {
      "text/plain": [
       "Text(0.5, 1.0, 'Variance along the chromosome simulated')"
      ]
     },
     "execution_count": 46,
     "metadata": {},
     "output_type": "execute_result"
    },
    {
     "data": {
      "image/png": "[encoded data removed]",
      "text/plain": [
       "<Figure size 640x480 with 1 Axes>"
      ]
     },
     "metadata": {},
     "output_type": "display_data"
    }
   ],
   "source": [
    "plt.plot(range(len(whole_sim[genmap[\"Marker\"]].var(axis = 0))), whole_sim[genmap[\"Marker\"]].var(axis = 0))\n",
    "plt.title(\"Variance along the chromosome simulated\")"
   ]
  },
  {
   "cell_type": "code",
   "execution_count": 38,
   "id": "d164cf1a-da3f-4e5c-b419-119b536f9968",
   "metadata": {},
   "outputs": [
    {
     "data": {
      "text/plain": [
       "Text(0.5, 1.0, 'Mean of cumulative sum along the chromosome original')"
      ]
     },
     "execution_count": 38,
     "metadata": {},
     "output_type": "execute_result"
    },
    {
     "data": {
      "image/png": "[encoded data removed]",
      "text/plain": [
       "<Figure size 640x480 with 1 Axes>"
      ]
     },
     "metadata": {},
     "output_type": "display_data"
    }
   ],
   "source": [
    "plt.plot(range(len(pop_1_genos[genmap[\"Marker\"]].cumsum(axis = 1).mean(axis = 0))), pop_1_genos[genmap[\"Marker\"]].cumsum(axis = 1).mean(axis = 0))\n",
    "plt.title(\"Mean of cumulative sum along the chromosome original\")"
   ]
  },
  {
   "cell_type": "code",
   "execution_count": 40,
   "id": "60e668de-f76f-4998-aa23-9d7e5628456e",
   "metadata": {
    "scrolled": true
   },
   "outputs": [
    {
     "data": {
      "text/plain": [
       "Text(0.5, 1.0, 'Variance of cumulative sum along the chromosome original')"
      ]
     },
     "execution_count": 40,
     "metadata": {},
     "output_type": "execute_result"
    },
    {
     "data": {
      "image/png": "[encoded data removed]",
      "text/plain": [
       "<Figure size 640x480 with 1 Axes>"
      ]
     },
     "metadata": {},
     "output_type": "display_data"
    }
   ],
   "source": [
    "plt.plot(range(len(pop_1_genos[genmap[\"Marker\"]].cumsum(axis = 1).var(axis = 0))), pop_1_genos[genmap[\"Marker\"]].cumsum(axis = 1).var(axis = 0))\n",
    "plt.title(\"Variance of cumulative sum along the chromosome original\")"
   ]
  },
  {
   "cell_type": "code",
   "execution_count": 55,
   "id": "3b7b5ca9-fcdd-48aa-8790-f95ebbeb6afd",
   "metadata": {},
   "outputs": [
    {
     "data": {
      "text/plain": [
       "PZA01271.1     1.061224\n",
       "PZA03613.1     1.061224\n",
       "PZA02129.1     1.040816\n",
       "PZA02032.1     1.022959\n",
       "PHM2244.142    0.989796\n",
       "                 ...   \n",
       "PHM5435.25     1.030612\n",
       "PZA01073.1     1.017857\n",
       "PZA01001.2     1.028061\n",
       "PZA02578.1     1.028061\n",
       "PZA00062.4     1.030612\n",
       "Length: 974, dtype: float64"
      ]
     },
     "execution_count": 55,
     "metadata": {},
     "output_type": "execute_result"
    }
   ],
   "source": [
    "pop_1_genos[genmap[\"Marker\"]].mean(axis = 0)"
   ]
  },
  {
   "cell_type": "code",
   "execution_count": 54,
   "id": "c5db59fd-8521-4251-a4de-6111061e0c5e",
   "metadata": {},
   "outputs": [
    {
     "data": {
      "text/plain": [
       "0.4999999999999999"
      ]
     },
     "execution_count": 54,
     "metadata": {},
     "output_type": "execute_result"
    }
   ],
   "source": [
    "pop_1_genos[genmap[\"Marker\"]].mean(axis = 0).max() - pop_1_genos[genmap[\"Marker\"]].mean(axis = 0).min()"
   ]
  },
  {
   "cell_type": "code",
   "execution_count": 43,
   "id": "35ca909e-bf40-4267-b9a5-2149f3d5fc5c",
   "metadata": {},
   "outputs": [
    {
     "data": {
      "text/plain": [
       "Text(0.5, 1.0, 'Mean along the chromosome original')"
      ]
     },
     "execution_count": 43,
     "metadata": {},
     "output_type": "execute_result"
    },
    {
     "data": {
      "image/png": "[encoded data removed]",
      "text/plain": [
       "<Figure size 640x480 with 1 Axes>"
      ]
     },
     "metadata": {},
     "output_type": "display_data"
    }
   ],
   "source": [
    "plt.plot(range(len(pop_1_genos[genmap[\"Marker\"]].mean(axis = 0))), pop_1_genos[genmap[\"Marker\"]].mean(axis = 0))\n",
    "plt.title(\"Mean along the chromosome original\")"
   ]
  },
  {
   "cell_type": "code",
   "execution_count": 44,
   "id": "bb2d371f-1f78-4929-b89e-38b6f155c9c6",
   "metadata": {},
   "outputs": [
    {
     "data": {
      "text/plain": [
       "Text(0.5, 1.0, 'Variance along the chromosome original')"
      ]
     },
     "execution_count": 44,
     "metadata": {},
     "output_type": "execute_result"
    },
    {
     "data": {
      "image/png": "[encoded data removed]",
      "text/plain": [
       "<Figure size 640x480 with 1 Axes>"
      ]
     },
     "metadata": {},
     "output_type": "display_data"
    }
   ],
   "source": [
    "plt.plot(range(len(pop_1_genos[genmap[\"Marker\"]].var(axis = 0))), pop_1_genos[genmap[\"Marker\"]].var(axis = 0))\n",
    "plt.title(\"Variance along the chromosome original\")"
   ]
  },
  {
   "cell_type": "code",
   "execution_count": null,
   "id": "0459a558",
   "metadata": {},
   "outputs": [],
   "source": [
    "#set up and simulation for 1 chromosome\n",
    "#requires: genomic map, parent genotypes\n",
    "#builds: arbitrary pedigree, founder nodes\n",
    "#simulates: ARG based on pedigree and genomic map, offspring genotypes of pedigree based on ARG and parent genotypes\n",
    "\n",
    "#simulate genotypes of one population combination (e.g. pop 1 (B73×B97)S5)\n",
    "#sim ancestry with pedigree similar to pop (~150 offspring + 5 selfing genos)\n",
    "\n",
    "#load genmap chr1 or load entire genmap and use chr column to reduce -> in full script loop over chr and concat geno_sims\n",
    "genmap = pd.read_csv(\"data/test_data/B73_genmap_chr1.csv\")\n",
    "chr1_rate_map = get_rate_map(genmap)\n",
    "\n",
    "#set up pedigree\n",
    "pop_1_ped_df = cross_selfing_ped(selfing_genos = 5)\n",
    "pop_1_ped = df_to_ts(pop_1_ped_df, seq_len=297570924)\n",
    "#load snp positions not strictly required since all information in genetic map \n",
    "#SNP_positions = pd.read_csv(\"data/test_data/NAM_SNP_positions.csv\")\n",
    "\n",
    "#reduce SNPs to chr1 of genetic map\n",
    "#chr_1_SNP_positions = SNP_positions[SNP_positions[\"Marker\"].isin(genmap[\"Marker\"])]\n",
    "\n",
    "#read parent genotypes\n",
    "parent_genos = pd.read_csv(\"data/test_data/NAM_parent_genos.csv\")\n",
    "\n",
    "#choose which parents to cross\n",
    "founder_nodes = get_founder_nodes(parent_genos, list([\"B73\", \"B97\"]))\n",
    "\n",
    "#simulate chromosome 1\n",
    "chr1_arg = msprime.sim_ancestry(initial_state = pop_1_ped, model=\"fixed_pedigree\", recombination_rate = chr1_rate_map)\n",
    "\n",
    "#propagate ARG recombinations to offspring genotypes\n",
    "geno_sim = propagate_geno(chr1_arg, founder_nodes, genmap)\n",
    "\n",
    "#join haploid offspring simulation nodes to diploid individuals\n",
    "genotypes = join_nodes(chr1_arg, geno_sim)\n",
    "\n",
    "#read reference allele\n",
    "ref_allele = pd.read_csv(\"data/test_data/B73_alleles.csv\")\n",
    "\n",
    "#reduce ref_alleles to alleles in genmap\n",
    "ref_allele = ref_allele[ref_allele[\"SNP\"].isin(genmap[\"Marker\"])]\n",
    "\n",
    "#recode genotype values into additive encoding\n",
    "geno_add = additive_encoding(ref_allele, genotypes)"
   ]
  },
  {
   "cell_type": "code",
   "execution_count": null,
   "id": "847af8d2-1bd4-4fde-a3b4-5063af95ff4a",
   "metadata": {},
   "outputs": [],
   "source": [
    "#results\n",
    "#draw_pedigree(pop_1_ped.tree_sequence())\n",
    "#print(chr1_arg.dump_tables())\n",
    "#geno_sim\n",
    "#genotypes\n",
    "#geno_add"
   ]
  },
  {
   "cell_type": "code",
   "execution_count": null,
   "id": "cbb3b809-2101-4784-9a07-dd50b42d2da8",
   "metadata": {},
   "outputs": [],
   "source": [
    "#TODO:\n",
    "#calculate allele frequencies of real and sim pop and compare across genome -> uniform differences?\n",
    "#bin loci and compare mean, var diffs between real and sim pop -> uniform diff\n",
    "#-> accuracy of genetic map?"
   ]
  },
  {
   "cell_type": "code",
   "execution_count": 29,
   "id": "bb4e9313",
   "metadata": {},
   "outputs": [],
   "source": [
    "#calculate rogers and neis distance between real pop and simulated pop\n",
    "#calculate allele frequencies\n",
    "def calc_allele_freq(matrix, alleles = 3):\n",
    "    num_individuals = len(matrix)\n",
    "    num_snps = len(matrix[0])\n",
    "    num_alleles = alleles\n",
    "    allele_frequencies = []\n",
    "\n",
    "    for j in range(num_snps):\n",
    "        allele_counts = [0] * num_alleles\n",
    "\n",
    "        for i in range(num_individuals):\n",
    "            allele_counts[matrix[i][j]] += 1\n",
    "\n",
    "        snp_frequencies = [count / num_individuals for count in allele_counts]\n",
    "        allele_frequencies.extend(snp_frequencies)\n",
    "\n",
    "    return allele_frequencies\n",
    "\n",
    "#rogers distance\n",
    "\n",
    "#neis distance\n",
    "def neis_distance(X):\n",
    "    #matrix product of X and its transpose\n",
    "    d = np.matmul(X, X.T)\n",
    "    \n",
    "    #sqrt of diagonal elements\n",
    "    vec = np.sqrt(np.diag(d))\n",
    "    \n",
    "    #Normalize columns of d\n",
    "    d /= vec[:, np.newaxis]\n",
    "    \n",
    "    #Normalize rows of d\n",
    "    d /= vec\n",
    "    \n",
    "    #negative logarithm\n",
    "    d = -np.log(d)\n",
    "    \n",
    "    #todistance matrix\n",
    "    d = np.asarray(d)\n",
    "    \n",
    "    return d"
   ]
  },
  {
   "cell_type": "code",
   "execution_count": 4,
   "id": "8d66403e-dc2c-4a66-bc64-e96f836b6a8c",
   "metadata": {},
   "outputs": [
    {
     "ename": "NameError",
     "evalue": "name 'pop_1_genos' is not defined",
     "output_type": "error",
     "traceback": [
      "\u001b[1;31m---------------------------------------------------------------------------\u001b[0m",
      "\u001b[1;31mNameError\u001b[0m                                 Traceback (most recent call last)",
      "Cell \u001b[1;32mIn[4], line 1\u001b[0m\n\u001b[1;32m----> 1\u001b[0m pop_1_genos_list \u001b[38;5;241m=\u001b[39m \u001b[43mpop_1_genos\u001b[49m\u001b[38;5;241m.\u001b[39mvalues\u001b[38;5;241m.\u001b[39mastype(\u001b[38;5;28mint\u001b[39m)\u001b[38;5;241m.\u001b[39mtolist()\n\u001b[0;32m      2\u001b[0m pop_1_genos_allele_freq \u001b[38;5;241m=\u001b[39m calc_allele_freq(pop_1_genos_list)\n\u001b[0;32m      3\u001b[0m \u001b[38;5;66;03m#pop_1_genos_allele_freq\u001b[39;00m\n",
      "\u001b[1;31mNameError\u001b[0m: name 'pop_1_genos' is not defined"
     ]
    }
   ],
   "source": [
    "pop_1_genos_list = pop_1_genos.values.astype(int).tolist()\n",
    "pop_1_genos_allele_freq = calc_allele_freq(pop_1_genos_list)\n",
    "#pop_1_genos_allele_freq"
   ]
  },
  {
   "cell_type": "code",
   "execution_count": 24,
   "id": "72dcc834-a9b2-477f-ab0e-ab609657414f",
   "metadata": {},
   "outputs": [],
   "source": [
    "#examples for neis distance and allele frequency functions\n",
    "X = np.array([[1.0, 3.0, 5.0], [2.0, 4.0, 6.0]])"
   ]
  },
  {
   "cell_type": "code",
   "execution_count": 25,
   "id": "247a4b1e-6e16-4e1a-8f44-6051b94ed1c6",
   "metadata": {},
   "outputs": [
    {
     "data": {
      "text/plain": [
       "array([[1., 3., 5.],\n",
       "       [2., 4., 6.]])"
      ]
     },
     "execution_count": 25,
     "metadata": {},
     "output_type": "execute_result"
    }
   ],
   "source": [
    "X"
   ]
  },
  {
   "cell_type": "code",
   "execution_count": 25,
   "id": "3c952c7b-dd99-417e-8174-abdeef283625",
   "metadata": {
    "scrolled": true
   },
   "outputs": [
    {
     "data": {
      "text/plain": [
       "array([[-0.        ,  0.00616024],\n",
       "       [ 0.00616024, -0.        ]])"
      ]
     },
     "execution_count": 25,
     "metadata": {},
     "output_type": "execute_result"
    }
   ],
   "source": [
    "neis_distance(X)"
   ]
  },
  {
   "cell_type": "code",
   "execution_count": 17,
   "id": "b5dc9eec-dc05-4c47-9ee1-1b22286ed81a",
   "metadata": {},
   "outputs": [],
   "source": []
  },
  {
   "cell_type": "code",
   "execution_count": 50,
   "id": "7be8cda6-fc7a-4142-a531-7accc981b826",
   "metadata": {},
   "outputs": [
    {
     "name": "stdout",
     "output_type": "stream",
     "text": [
      "[0.3333333333333333, 0.6666666666666666, 0.0, 0.0, 1.0, 0.0, 0.0, 1.0, 0.0, 0.0, 1.0, 0.0]\n"
     ]
    }
   ],
   "source": [
    "#example (max distance of pop with 4 individauls vs 3 individuals)\n",
    "matrix_1 = [\n",
    "    [0, 0, 0, 0],\n",
    "    [0, 0, 0, 0],\n",
    "    [0, 0, 0, 0],\n",
    "    [0, 0, 0, 0]\n",
    "]\n",
    "matrix_2 = [\n",
    "    [1, 1, 1, 1],\n",
    "    [1, 1, 1, 1],\n",
    "    [0, 1, 1, 1]\n",
    "]\n",
    "\n",
    "freq_1 = calculate_allele_frequency(matrix_1)\n",
    "freq_2 = calculate_allele_frequency(matrix_2)\n",
    "print(freq_2)"
   ]
  },
  {
   "cell_type": "code",
   "execution_count": 51,
   "id": "bf6aaaf0-8242-43f9-bcd5-1a97180c71dd",
   "metadata": {},
   "outputs": [],
   "source": [
    "X = np.array(list([freq_1, freq_2]))"
   ]
  },
  {
   "cell_type": "code",
   "execution_count": 52,
   "id": "aab1f83a-486c-4c75-98a5-47b0477a2473",
   "metadata": {},
   "outputs": [
    {
     "data": {
      "text/plain": [
       "array([[-0.        ,  2.42601513],\n",
       "       [ 2.42601513, -0.        ]])"
      ]
     },
     "execution_count": 52,
     "metadata": {},
     "output_type": "execute_result"
    }
   ],
   "source": [
    "neis_distance(X)"
   ]
  }
 ],
 "metadata": {
  "kernelspec": {
   "display_name": "Python 3 (ipykernel)",
   "language": "python",
   "name": "python3"
  },
  "language_info": {
   "codemirror_mode": {
    "name": "ipython",
    "version": 3
   },
   "file_extension": ".py",
   "mimetype": "text/x-python",
   "name": "python",
   "nbconvert_exporter": "python",
   "pygments_lexer": "ipython3",
   "version": "3.11.4"
  }
 },
 "nbformat": 4,
 "nbformat_minor": 5
}
