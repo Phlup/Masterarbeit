{
 "cells": [
  {
   "cell_type": "markdown",
   "metadata": {},
   "source": [
    "# stdpopsim example notebook\n",
    "\n",
    "#### This notebook serves as a place to play with `stdpopsim` in a ready to go environment.\n",
    "\n",
    "If you did not open this notebook via Binder, try clicking [![Binder](https://mybinder.org/badge_logo.svg)](https://mybinder.org/v2/gh/popsim-consortium/stdpopsim/main?filepath=stdpopsim_example.ipynb)"
   ]
  },
  {
   "cell_type": "markdown",
   "metadata": {},
   "source": [
    "__Instructions on using a Jupyter Notebook__ - Simply click the cell and press shift-enter, or click the \"Run\" button in the top panel.  \n",
    "*Note: If the notebook seems slow to run, try restarting the kernel.*\n",
    "*If you want to save your work while using Binder, making sure to save and download your notebook*\n",
    "\n",
    "To run `stdpopsim` locally, make sure to follow the [installation instructions](https://stdpopsim.readthedocs.io/en/latest/installation.html)\n",
    "\n",
    "--------------------------"
   ]
  },
  {
   "cell_type": "markdown",
   "metadata": {},
   "source": [
    "## API example"
   ]
  },
  {
   "cell_type": "markdown",
   "metadata": {},
   "source": [
    "#### To get started, let's run a simple simulation and compute the site frequency spectrum."
   ]
  },
  {
   "cell_type": "markdown",
   "metadata": {},
   "source": [
    "Import the necessary packages"
   ]
  },
  {
   "cell_type": "code",
   "execution_count": 1,
   "metadata": {},
   "outputs": [
    {
     "name": "stderr",
     "output_type": "stream",
     "text": [
      "C:\\Users\\PHLUP\\miniconda3\\envs\\masterarbeit\\Lib\\site-packages\\stdpopsim\\catalog\\HomSap\\demographic_models.py:158: FutureWarning: Calling int on a single element Series is deprecated and will raise a TypeError in the future. Use int(ser.iloc[0]) instead\n",
      "  time=int(extended_GF.time.head(1) - 1), rate=0\n",
      "C:\\Users\\PHLUP\\miniconda3\\envs\\masterarbeit\\Lib\\site-packages\\stdpopsim\\catalog\\HomSap\\demographic_models.py:161: FutureWarning: Calling int on a single element Series is deprecated and will raise a TypeError in the future. Use int(ser.iloc[0]) instead\n",
      "  time=int(extended_GF.time.tail(1) + 1), rate=0\n"
     ]
    }
   ],
   "source": [
    "import stdpopsim\n",
    "import matplotlib.pyplot as plt\n",
    "import numpy as np"
   ]
  },
  {
   "cell_type": "markdown",
   "metadata": {},
   "source": [
    "Simulate 10% of human chromosome 22 with the [three population out-of-Africa model](https://stdpopsim.readthedocs.io/en/latest/catalog.html#sec_catalog_homsap_models_outofafrica_3g09), with 10 samples from each of the three populations."
   ]
  },
  {
   "cell_type": "code",
   "execution_count": 2,
   "metadata": {},
   "outputs": [
    {
     "name": "stderr",
     "output_type": "stream",
     "text": [
      "C:\\Users\\PHLUP\\miniconda3\\envs\\masterarbeit\\Lib\\site-packages\\stdpopsim\\models.py:248: DeprecatedFeatureWarning: The use of `DemographicModel.get_samples` (Python API) and positional sample counts (CLI) is deprecated. Instead, supply a {population_name:num_samples} dict to `Engine.simulate(samples=...)` (Python API); or use the syntax `stdpopsim SpeciesName population_name:num_samples` (CLI).\n",
      "  warnings.warn(\n",
      "C:\\Users\\PHLUP\\miniconda3\\envs\\masterarbeit\\Lib\\site-packages\\stdpopsim\\engines.py:120: UserWarning: The demographic model has mutation rate 2.35e-08, but this simulation used the contig's mutation rate 1.29e-08. Diversity levels may be different than expected for this species. For details see documentation at https://popsim-consortium.github.io/stdpopsim-docs/stable/tutorial.html\n",
      "  warnings.warn(\n"
     ]
    },
    {
     "name": "stdout",
     "output_type": "stream",
     "text": [
      "simulated 13016 trees and 9409 sites, from 30 samples.\n"
     ]
    }
   ],
   "source": [
    "species = stdpopsim.get_species(\"HomSap\")\n",
    "contig = species.get_contig(\"chr22\", length_multiplier=0.1)\n",
    "model = species.get_demographic_model(\"OutOfAfrica_3G09\")\n",
    "samples = model.get_samples(10, 10, 10)\n",
    "engine = stdpopsim.get_default_engine()\n",
    "ts = engine.simulate(model, contig, samples)\n",
    "print(\"simulated {} trees and {} sites, from {} samples.\".format(ts.num_trees, ts.num_sites, ts.num_samples))"
   ]
  },
  {
   "cell_type": "code",
   "execution_count": 18,
   "metadata": {},
   "outputs": [
    {
     "data": {
      "text/plain": [
       "Contig(recombination_map=RateMap(position=array([      0., 5081847.]), rate=array([2.10572339e-08])), mutation_rate=1.29e-08, ploidy=2, bacterial_recombination=False, gene_conversion_fraction=None, gene_conversion_length=None, genetic_map=None, inclusion_mask=None, exclusion_mask=None, dfe_list=[DFE(id='neutral', description='neutral DFE', long_description='strictly neutral mutations', mutation_types=[MutationType(dominance_coeff=0.5, distribution_type='f', distribution_args=[0], convert_to_substitution=True)], proportions=[1.0], citations=[], qc_dfe=None)], interval_list=[array([[      0, 5081847]])], original_coordinates=('chr22', 0, 5081847))"
      ]
     },
     "execution_count": 18,
     "metadata": {},
     "output_type": "execute_result"
    }
   ],
   "source": [
    "contig"
   ]
  },
  {
   "cell_type": "markdown",
   "metadata": {},
   "source": [
    "Next, we get subsets of the data corresponding to each set of samples and then we simplfy to get the tree sequences corresponding to these subsets of samples. This removes monomorphic sites within each population."
   ]
  },
  {
   "cell_type": "code",
   "execution_count": 8,
   "metadata": {},
   "outputs": [
    {
     "name": "stdout",
     "output_type": "stream",
     "text": [
      "TableCollection\n",
      "\n",
      "Sequence Length: 5081847.0\n",
      "Time units: generations\n",
      "Metadata: b''\n",
      "\n",
      "Individuals\n",
      "╔══╤═════╤════════╤═══════╤════════╗\n",
      "║id│flags│location│parents│metadata║\n",
      "╠══╪═════╪════════╪═══════╪════════╣\n",
      "║0 │    0│        │       │        ║\n",
      "║1 │    0│        │       │        ║\n",
      "║2 │    0│        │       │        ║\n",
      "║3 │    0│        │       │        ║\n",
      "║4 │    0│        │       │        ║\n",
      "║5 │    0│        │       │        ║\n",
      "║6 │    0│        │       │        ║\n",
      "║7 │    0│        │       │        ║\n",
      "║8 │    0│        │       │        ║\n",
      "║9 │    0│        │       │        ║\n",
      "║10│    0│        │       │        ║\n",
      "║11│    0│        │       │        ║\n",
      "║12│    0│        │       │        ║\n",
      "║13│    0│        │       │        ║\n",
      "║14│    0│        │       │        ║\n",
      "║15│    0│        │       │        ║\n",
      "║16│    0│        │       │        ║\n",
      "║17│    0│        │       │        ║\n",
      "║18│    0│        │       │        ║\n",
      "║19│    0│        │       │        ║\n",
      "║20│    0│        │       │        ║\n",
      "║21│    0│        │       │        ║\n",
      "║22│    0│        │       │        ║\n",
      "║23│    0│        │       │        ║\n",
      "║24│    0│        │       │        ║\n",
      "║25│    0│        │       │        ║\n",
      "║26│    0│        │       │        ║\n",
      "║27│    0│        │       │        ║\n",
      "║28│    0│        │       │        ║\n",
      "║29│    0│        │       │        ║\n",
      "╚══╧═════╧════════╧═══════╧════════╝\n",
      "\n",
      "Nodes\n",
      "╔════╤═════╤══════════╤══════════╤═══════════════╤════════╗\n",
      "║id  │flags│population│individual│time           │metadata║\n",
      "╠════╪═════╪══════════╪══════════╪═══════════════╪════════╣\n",
      "║0   │    1│         0│         0│     0.00000000│        ║\n",
      "║1   │    1│         0│         1│     0.00000000│        ║\n",
      "║2   │    1│         0│         2│     0.00000000│        ║\n",
      "║3   │    1│         0│         3│     0.00000000│        ║\n",
      "║4   │    1│         0│         4│     0.00000000│        ║\n",
      "║5   │    1│         0│         5│     0.00000000│        ║\n",
      "║6   │    1│         0│         6│     0.00000000│        ║\n",
      "║7   │    1│         0│         7│     0.00000000│        ║\n",
      "║8   │    1│         0│         8│     0.00000000│        ║\n",
      "║9   │    1│         0│         9│     0.00000000│        ║\n",
      "║10  │    1│         1│        10│     0.00000000│        ║\n",
      "║11  │    1│         1│        11│     0.00000000│        ║\n",
      "║12  │    1│         1│        12│     0.00000000│        ║\n",
      "║13  │    1│         1│        13│     0.00000000│        ║\n",
      "║14  │    1│         1│        14│     0.00000000│        ║\n",
      "║15  │    1│         1│        15│     0.00000000│        ║\n",
      "║16  │    1│         1│        16│     0.00000000│        ║\n",
      "║17  │    1│         1│        17│     0.00000000│        ║\n",
      "║18  │    1│         1│        18│     0.00000000│        ║\n",
      "║19  │    1│         1│        19│     0.00000000│        ║\n",
      "║       8043 rows skipped (tskit.set_print_options)       ║\n",
      "║8063│    0│         0│        -1│109474.95371866│        ║\n",
      "║8064│    0│         0│        -1│111196.64500338│        ║\n",
      "║8065│    0│         0│        -1│111644.75848062│        ║\n",
      "║8066│    0│         0│        -1│113097.89703562│        ║\n",
      "║8067│    0│         0│        -1│114181.06557307│        ║\n",
      "║8068│    0│         0│        -1│121325.05613842│        ║\n",
      "║8069│    0│         0│        -1│121704.12679887│        ║\n",
      "║8070│    0│         0│        -1│123065.14637618│        ║\n",
      "║8071│    0│         0│        -1│125326.17744675│        ║\n",
      "║8072│    0│         0│        -1│125598.14357742│        ║\n",
      "║8073│    0│         0│        -1│128595.05536361│        ║\n",
      "║8074│    0│         0│        -1│129653.75851251│        ║\n",
      "║8075│    0│         0│        -1│130163.91912247│        ║\n",
      "║8076│    0│         0│        -1│133552.82585543│        ║\n",
      "║8077│    0│         0│        -1│134259.19935535│        ║\n",
      "║8078│    0│         0│        -1│136119.86017645│        ║\n",
      "║8079│    0│         0│        -1│136764.54712740│        ║\n",
      "║8080│    0│         0│        -1│137819.63686584│        ║\n",
      "║8081│    0│         0│        -1│139331.22844084│        ║\n",
      "║8082│    0│         0│        -1│146374.72026924│        ║\n",
      "╚════╧═════╧══════════╧══════════╧═══════════════╧════════╝\n",
      "\n",
      "Edges\n",
      "╔═════╤═══════╤═══════╤══════╤═════╤════════╗\n",
      "║id   │left   │right  │parent│child│metadata║\n",
      "╠═════╪═══════╪═══════╪══════╪═════╪════════╣\n",
      "║0    │1270055│1794252│    30│    2│        ║\n",
      "║1    │1270055│1794252│    30│    5│        ║\n",
      "║2    │3102962│3468045│    31│    2│        ║\n",
      "║3    │3102962│3468045│    31│    3│        ║\n",
      "║4    │1003460│1932965│    32│   10│        ║\n",
      "║5    │1003460│1932965│    32│   15│        ║\n",
      "║6    │4334650│4347876│    33│    0│        ║\n",
      "║7    │4334650│4347876│    33│    7│        ║\n",
      "║8    │3753398│3761249│    34│   11│        ║\n",
      "║9    │3753398│3761249│    34│   18│        ║\n",
      "║10   │2632556│3102962│    35│    2│        ║\n",
      "║11   │2632556│3460585│    35│    7│        ║\n",
      "║12   │3102962│3460585│    35│   31│        ║\n",
      "║13   │ 422799│ 685430│    36│   18│        ║\n",
      "║14   │ 422799│ 685430│    36│   19│        ║\n",
      "║15   │3705395│3811536│    37│   15│        ║\n",
      "║16   │3705395│3811536│    37│   17│        ║\n",
      "║17   │ 976586│1476485│    38│   20│        ║\n",
      "║18   │ 976586│1476485│    38│   26│        ║\n",
      "║19   │4213094│4347006│    39│   13│        ║\n",
      "║44806 rows skipped (tskit.set_print_options║\n",
      "║44826│ 881158│ 881398│  8079│ 6305│        ║\n",
      "║44827│ 335105│ 335713│  8080│ 5226│        ║\n",
      "║44828│ 332150│ 334030│  8080│ 5300│        ║\n",
      "║44829│ 334263│ 335105│  8080│ 5300│        ║\n",
      "║44830│ 333742│ 334030│  8080│ 5599│        ║\n",
      "║44831│ 332150│ 333742│  8080│ 7181│        ║\n",
      "║44832│ 334263│ 335713│  8080│ 7181│        ║\n",
      "║44833│1066781│1067786│  8081│ 2211│        ║\n",
      "║44834│1067786│1068043│  8081│ 3273│        ║\n",
      "║44835│1068043│1068308│  8081│ 5439│        ║\n",
      "║44836│1067786│1068043│  8081│ 5935│        ║\n",
      "║44837│1068043│1068308│  8081│ 6220│        ║\n",
      "║44838│1066781│1067786│  8081│ 6640│        ║\n",
      "║44839│3440194│3440836│  8082│ 2418│        ║\n",
      "║44840│3440159│3440190│  8082│ 3662│        ║\n",
      "║44841│3440047│3440159│  8082│ 4758│        ║\n",
      "║44842│3440190│3440194│  8082│ 5135│        ║\n",
      "║44843│3440508│3440836│  8082│ 5152│        ║\n",
      "║44844│3439945│3440047│  8082│ 6120│        ║\n",
      "║44845│3439945│3440508│  8082│ 6631│        ║\n",
      "╚═════╧═══════╧═══════╧══════╧═════╧════════╝\n",
      "\n",
      "Sites\n",
      "╔════╤════════╤═══════════════╤════════╗\n",
      "║id  │position│ancestral_state│metadata║\n",
      "╠════╪════════╪═══════════════╪════════╣\n",
      "║0   │    1096│              C│        ║\n",
      "║1   │    1881│              T│        ║\n",
      "║2   │    1916│              T│        ║\n",
      "║3   │    2132│              G│        ║\n",
      "║4   │    2226│              A│        ║\n",
      "║5   │    2860│              C│        ║\n",
      "║6   │    3360│              T│        ║\n",
      "║7   │    4215│              G│        ║\n",
      "║8   │    5163│              T│        ║\n",
      "║9   │    5285│              T│        ║\n",
      "║10  │    5519│              G│        ║\n",
      "║11  │    6023│              C│        ║\n",
      "║12  │    7014│              A│        ║\n",
      "║13  │    7601│              C│        ║\n",
      "║14  │    8501│              G│        ║\n",
      "║15  │    9122│              G│        ║\n",
      "║16  │    9231│              A│        ║\n",
      "║17  │   10096│              A│        ║\n",
      "║18  │   10365│              T│        ║\n",
      "║19  │   11042│              T│        ║\n",
      "║9369 rows skipped (tskit.set_print_opt║\n",
      "║9389│ 5070452│              G│        ║\n",
      "║9390│ 5070671│              A│        ║\n",
      "║9391│ 5072310│              C│        ║\n",
      "║9392│ 5072702│              T│        ║\n",
      "║9393│ 5073267│              G│        ║\n",
      "║9394│ 5073913│              A│        ║\n",
      "║9395│ 5074646│              A│        ║\n",
      "║9396│ 5074689│              A│        ║\n",
      "║9397│ 5075644│              C│        ║\n",
      "║9398│ 5076200│              G│        ║\n",
      "║9399│ 5077966│              A│        ║\n",
      "║9400│ 5078506│              G│        ║\n",
      "║9401│ 5078770│              G│        ║\n",
      "║9402│ 5079440│              C│        ║\n",
      "║9403│ 5080462│              T│        ║\n",
      "║9404│ 5080491│              G│        ║\n",
      "║9405│ 5081003│              G│        ║\n",
      "║9406│ 5081438│              G│        ║\n",
      "║9407│ 5081719│              C│        ║\n",
      "║9408│ 5081761│              A│        ║\n",
      "╚════╧════════╧═══════════════╧════════╝\n",
      "\n",
      "Mutations\n",
      "╔════╤════╤════╤══════════════╤═════════════╤══════╤════════╗\n",
      "║id  │site│node│time          │derived_state│parent│metadata║\n",
      "╠════╪════╪════╪══════════════╪═════════════╪══════╪════════╣\n",
      "║0   │   0│ 237│ 1341.33107864│            G│    -1│        ║\n",
      "║1   │   1│1277│ 5168.91464403│            C│    -1│        ║\n",
      "║2   │   2│   4│  209.96716303│            A│    -1│        ║\n",
      "║3   │   3│5278│15589.93578323│            C│    -1│        ║\n",
      "║4   │   4│1978│ 6558.31226959│            C│    -1│        ║\n",
      "║5   │   5│1228│ 2619.86797689│            G│    -1│        ║\n",
      "║6   │   6│  16│16778.56184011│            A│    -1│        ║\n",
      "║7   │   7│4795│15507.16909804│            A│    -1│        ║\n",
      "║8   │   8│5278│20137.95516026│            A│    -1│        ║\n",
      "║9   │   9│  16│ 6387.04277339│            A│    -1│        ║\n",
      "║10  │  10│3144│ 9706.24097115│            A│    -1│        ║\n",
      "║11  │  11│1134│ 4755.03134213│            A│    -1│        ║\n",
      "║12  │  12│2868│ 8781.70918613│            C│    -1│        ║\n",
      "║13  │  13│1987│ 5991.54066116│            T│    -1│        ║\n",
      "║14  │  14│1987│ 5117.94613518│            C│    -1│        ║\n",
      "║15  │  15│   8│ 3407.67376050│            C│    -1│        ║\n",
      "║16  │  16│   1│  525.09407395│            G│    -1│        ║\n",
      "║17  │  17│1134│13724.59487981│            T│    -1│        ║\n",
      "║18  │  18│1134│12150.91875848│            C│    -1│        ║\n",
      "║19  │  19│3593│17113.70285286│            G│    -1│        ║\n",
      "║        9382 rows skipped (tskit.set_print_options)        ║\n",
      "║9402│9389│1943│ 7014.42154957│            T│    -1│        ║\n",
      "║9403│9390│   0│  989.66255786│            T│    -1│        ║\n",
      "║9404│9391│1241│ 2789.96363048│            A│    -1│        ║\n",
      "║9405│9392│4439│11588.98938468│            G│    -1│        ║\n",
      "║9406│9393│  28│   85.66919532│            T│    -1│        ║\n",
      "║9407│9394│4439│31420.17045934│            T│    -1│        ║\n",
      "║9408│9395│  28│  636.87528672│            G│    -1│        ║\n",
      "║9409│9396│1241│ 1816.56874436│            G│    -1│        ║\n",
      "║9410│9397│ 673│ 1559.82528058│            A│    -1│        ║\n",
      "║9411│9398│3932│ 8519.28800049│            T│    -1│        ║\n",
      "║9412│9399│   0│  981.51778819│            C│    -1│        ║\n",
      "║9413│9400│ 839│ 2641.04404080│            A│    -1│        ║\n",
      "║9414│9401│ 917│ 1887.08358458│            T│    -1│        ║\n",
      "║9415│9402│  13│  283.60913604│            T│    -1│        ║\n",
      "║9416│9403│4497│35579.11825144│            C│    -1│        ║\n",
      "║9417│9404│4497│10811.62776581│            C│    -1│        ║\n",
      "║9418│9405│4497│28946.25491865│            C│    -1│        ║\n",
      "║9419│9406│  29│   31.49697684│            A│    -1│        ║\n",
      "║9420│9407│ 751│ 1055.26433011│            G│    -1│        ║\n",
      "║9421│9408│4497│25417.50515508│            G│    -1│        ║\n",
      "╚════╧════╧════╧══════════════╧═════════════╧══════╧════════╝\n",
      "\n",
      "Migrations\n",
      "╔══╤════╤═════╤════╤══════╤════╤════╤════════╗\n",
      "║id│left│right│node│source│dest│time│metadata║\n",
      "╠══╪════╪═════╪════╪══════╪════╪════╪════════╣\n",
      "╚══╧════╧═════╧════╧══════╧════╧════╧════════╝\n",
      "\n",
      "Populations\n",
      "╔══╤══════════════════════════════════════════════════════════════════════╗\n",
      "║id│metadata                                                              ║\n",
      "╠══╪══════════════════════════════════════════════════════════════════════╣\n",
      "║0 │{'description': '1000 Genomes YRI (Yoruba)', 'id': 'YRI', 'name': '...║\n",
      "║1 │{'description': '1000 Genomes CEU (Utah Residents (CEPH) with North...║\n",
      "║2 │{'description': '1000 Genomes CHB (Han Chinese in Beijing, China)',...║\n",
      "╚══╧══════════════════════════════════════════════════════════════════════╝\n",
      "\n",
      "Provenances\n",
      "╔══╤══════════════════════════╤════════════════════════════════════════════════════════════╗\n",
      "║id│timestamp                 │record                                                      ║\n",
      "╠══╪══════════════════════════╪════════════════════════════════════════════════════════════╣\n",
      "║0 │2023-09-28T14:49:23.904658│{\"schema_version\": \"1.0.0\", \"software\": {\"name\": \"msprime...║\n",
      "║1 │2023-09-28T14:49:23.935354│{\"schema_version\": \"1.0.0\", \"software\": {\"name\": \"msprime...║\n",
      "╚══╧══════════════════════════╧════════════════════════════════════════════════════════════╝\n",
      "\n"
     ]
    }
   ],
   "source": [
    "print(ts.dump_tables())"
   ]
  },
  {
   "cell_type": "code",
   "execution_count": 10,
   "metadata": {},
   "outputs": [
    {
     "data": {
      "text/html": [
       "\n",
       "            <div>\n",
       "              <style>\n",
       "                .tskit-table thead tr th {text-align: left;padding: 0.5em 0.5em;}\n",
       "                .tskit-table tbody tr td {padding: 0.5em 0.5em;}\n",
       "                .tskit-table tbody tr td:first-of-type {text-align: left;}\n",
       "                .tskit-details-label {vertical-align: top; padding-right:5px;}\n",
       "                .tskit-table-set {display: inline-flex;flex-wrap: wrap;margin: -12px 0 0 -12px;width: calc(100% + 12px);}\n",
       "                .tskit-table-set-table {margin: 12px 0 0 12px;}\n",
       "                details {display: inline-block;}\n",
       "                summary {cursor: pointer; outline: 0; display: list-item;}\n",
       "              </style>\n",
       "              <div class=\"tskit-table-set\">\n",
       "                <div class=\"tskit-table-set-table\">\n",
       "                  <table class=\"tskit-table\">\n",
       "                    <thead>\n",
       "                      <tr>\n",
       "                        <th style=\"padding:0;line-height:21px;\">\n",
       "                          <img style=\"height: 32px;display: inline-block;padding: 3px 5px 3px 0;\" src=\"https://raw.githubusercontent.com/tskit-dev/administrative/main/tskit_logo.svg\"/>\n",
       "                          <a target=\"_blank\" href=\"https://tskit.dev/tskit/docs/latest/python-api.html#the-treesequence-class\"> Tree Sequence </a>\n",
       "                        </th>\n",
       "                      </tr>\n",
       "                    </thead>\n",
       "                    <tbody>\n",
       "                      <tr><td>Trees</td><td>8824</td></tr>\n",
       "                      <tr><td>Sequence Length</td><td>5081847.0</td></tr>\n",
       "                      <tr><td>Time Units</td><td>generations</td></tr>\n",
       "                      <tr><td>Sample Nodes</td><td>10</td></tr>\n",
       "                      <tr><td>Total Size</td><td>1.6 MiB</td></tr>\n",
       "                      <tr>\n",
       "                        <td>Metadata</td><td style=\"text-align: left;\">No Metadata</td></tr>\n",
       "                    </tbody>\n",
       "                  </table>\n",
       "                </div>\n",
       "                <div class=\"tskit-table-set-table\">\n",
       "                  <table class=\"tskit-table\">\n",
       "                    <thead>\n",
       "                      <tr>\n",
       "                        <th style=\"line-height:21px;\">Table</th>\n",
       "                        <th>Rows</th>\n",
       "                        <th>Size</th>\n",
       "                        <th>Has Metadata</th>\n",
       "                      </tr>\n",
       "                    </thead>\n",
       "                    <tbody>\n",
       "                    \n",
       "                  <tr>\n",
       "                    <td>Edges</td>\n",
       "                      <td>28283</td>\n",
       "                      <td>883.9 KiB</td>\n",
       "                      <td style=\"text-align: center;\">\n",
       "                        \n",
       "                      </td>\n",
       "                    </tr>\n",
       "                \n",
       "                  <tr>\n",
       "                    <td>Individuals</td>\n",
       "                      <td>10</td>\n",
       "                      <td>304 Bytes</td>\n",
       "                      <td style=\"text-align: center;\">\n",
       "                        \n",
       "                      </td>\n",
       "                    </tr>\n",
       "                \n",
       "                  <tr>\n",
       "                    <td>Migrations</td>\n",
       "                      <td>0</td>\n",
       "                      <td>8 Bytes</td>\n",
       "                      <td style=\"text-align: center;\">\n",
       "                        \n",
       "                      </td>\n",
       "                    </tr>\n",
       "                \n",
       "                  <tr>\n",
       "                    <td>Mutations</td>\n",
       "                      <td>6730</td>\n",
       "                      <td>243.2 KiB</td>\n",
       "                      <td style=\"text-align: center;\">\n",
       "                        \n",
       "                      </td>\n",
       "                    </tr>\n",
       "                \n",
       "                  <tr>\n",
       "                    <td>Nodes</td>\n",
       "                      <td>5652</td>\n",
       "                      <td>154.6 KiB</td>\n",
       "                      <td style=\"text-align: center;\">\n",
       "                        \n",
       "                      </td>\n",
       "                    </tr>\n",
       "                \n",
       "                  <tr>\n",
       "                    <td>Populations</td>\n",
       "                      <td>2</td>\n",
       "                      <td>428 Bytes</td>\n",
       "                      <td style=\"text-align: center;\">\n",
       "                        ✅\n",
       "                      </td>\n",
       "                    </tr>\n",
       "                \n",
       "                  <tr>\n",
       "                    <td>Provenances</td>\n",
       "                      <td>3</td>\n",
       "                      <td>4.0 KiB</td>\n",
       "                      <td style=\"text-align: center;\">\n",
       "                        \n",
       "                      </td>\n",
       "                    </tr>\n",
       "                \n",
       "                  <tr>\n",
       "                    <td>Sites</td>\n",
       "                      <td>6723</td>\n",
       "                      <td>164.2 KiB</td>\n",
       "                      <td style=\"text-align: center;\">\n",
       "                        \n",
       "                      </td>\n",
       "                    </tr>\n",
       "                \n",
       "                    </tbody>\n",
       "                  </table>\n",
       "                </div>\n",
       "              </div>\n",
       "            </div>\n",
       "            "
      ],
      "text/plain": [
       "<tskit.trees.TreeSequence at 0x19828c2e9d0>"
      ]
     },
     "execution_count": 10,
     "metadata": {},
     "output_type": "execute_result"
    }
   ],
   "source": [
    "ts_YRI"
   ]
  },
  {
   "cell_type": "code",
   "execution_count": 3,
   "metadata": {},
   "outputs": [],
   "source": [
    "YRI_samples = ts.samples(0)\n",
    "CEU_samples = ts.samples(1)\n",
    "CHB_samples = ts.samples(2)\n",
    "ts_YRI = ts.simplify(samples=YRI_samples)\n",
    "ts_CEU = ts.simplify(samples=CEU_samples)\n",
    "ts_CHB = ts.simplify(samples=CHB_samples)"
   ]
  },
  {
   "cell_type": "markdown",
   "metadata": {},
   "source": [
    "Next, we calculate the site frequency spectrum for each population."
   ]
  },
  {
   "cell_type": "code",
   "execution_count": 4,
   "metadata": {},
   "outputs": [],
   "source": [
    "sfs_YRI = ts_YRI.allele_frequency_spectrum(polarised=True,span_normalise=False)\n",
    "sfs_CEU = ts_CEU.allele_frequency_spectrum(polarised=True,span_normalise=False)\n",
    "sfs_CHB = ts_CHB.allele_frequency_spectrum(polarised=True,span_normalise=False)"
   ]
  },
  {
   "cell_type": "code",
   "execution_count": 5,
   "metadata": {},
   "outputs": [
    {
     "data": {
      "text/plain": [
       "array([   0., 1112.,  576.,  523.,  386.,  352.,  259.,  263.,  245.,\n",
       "        259.,    0.])"
      ]
     },
     "execution_count": 5,
     "metadata": {},
     "output_type": "execute_result"
    }
   ],
   "source": [
    "sfs_CHB"
   ]
  },
  {
   "cell_type": "markdown",
   "metadata": {},
   "source": [
    "Finally, we plot the site frequency spectrum for each population."
   ]
  },
  {
   "cell_type": "code",
   "execution_count": 9,
   "metadata": {},
   "outputs": [
    {
     "data": {
      "text/plain": [
       "[]"
      ]
     },
     "execution_count": 9,
     "metadata": {},
     "output_type": "execute_result"
    },
    {
     "data": {
      "image/png": "[encoded data removed]",
      "text/plain": [
       "<Figure size 640x480 with 1 Axes>"
      ]
     },
     "metadata": {},
     "output_type": "display_data"
    }
   ],
   "source": [
    "bar_width = 0.2\n",
    "r1 = np.arange(0,11) - 0.2\n",
    "r2 = [x + bar_width for x in r1]\n",
    "r3 = [x + bar_width for x in r2]\n",
    "ax = plt.subplot()\n",
    "plt.bar(x = r1, height = sfs_YRI/ts_YRI.num_sites, width=bar_width, color='grey')\n",
    "plt.bar(x = r2, height = sfs_CEU/ts_CEU.num_sites, width=bar_width, color='lightblue')\n",
    "plt.bar(x = r3, height = sfs_CHB/ts_CHB.num_sites, width=bar_width, color='green')\n",
    "plt.xlabel(\"Allele count\", fontweight=\"bold\")\n",
    "plt.ylabel(\"Proportion of mutated sites in sample\", fontweight=\"bold\")\n",
    "ax.set_xticks(np.arange(0,11))\n",
    "ax.legend(['YRI', 'CEU', 'CHB'])\n",
    "plt.plot()"
   ]
  },
  {
   "cell_type": "markdown",
   "metadata": {},
   "source": [
    "## CLI Example"
   ]
  },
  {
   "cell_type": "markdown",
   "metadata": {},
   "source": [
    "#### Let's run the same simulation model as above, but with the CLI."
   ]
  },
  {
   "cell_type": "markdown",
   "metadata": {},
   "source": [
    "Simulate 10% of human chromosome 22 with the [three population out-of-Africa model](https://stdpopsim.readthedocs.io/en/latest/catalog.html#sec_catalog_homsap_models_outofafrica_3g09), with 10 samples from each of the three populations."
   ]
  },
  {
   "cell_type": "code",
   "execution_count": null,
   "metadata": {},
   "outputs": [],
   "source": [
    "%%bash\n",
    "stdpopsim HomSap --chromosome chr22 --length-multiplier 0.1 --demographic-model OutOfAfrica_3G09 --output OutOfAfrica_3G09.trees 10 10 10"
   ]
  },
  {
   "cell_type": "markdown",
   "metadata": {},
   "source": [
    "Now, we can use tskit to read the simulated file and calculate the site frequency spectrum."
   ]
  },
  {
   "cell_type": "code",
   "execution_count": null,
   "metadata": {},
   "outputs": [],
   "source": [
    "import tskit\n",
    "ts = tskit.load(\"OutOfAfrica_3G09.trees\")"
   ]
  },
  {
   "cell_type": "markdown",
   "metadata": {},
   "source": [
    "Once we have loaded the simulated tree sequence file, we can use the same code as above."
   ]
  },
  {
   "cell_type": "code",
   "execution_count": null,
   "metadata": {},
   "outputs": [],
   "source": [
    "YRI_samples = ts.samples(0)\n",
    "CEU_samples = ts.samples(1)\n",
    "CHB_samples = ts.samples(2)\n",
    "ts_YRI = ts.simplify(samples=YRI_samples)\n",
    "ts_CEU = ts.simplify(samples=CEU_samples)\n",
    "ts_CHB = ts.simplify(samples=CHB_samples)\n",
    "\n",
    "sfs_YRI = ts_YRI.allele_frequency_spectrum(polarised=True,span_normalise=False)\n",
    "sfs_CEU = ts_CEU.allele_frequency_spectrum(polarised=True,span_normalise=False)\n",
    "sfs_CHB = ts_CHB.allele_frequency_spectrum(polarised=True,span_normalise=False)"
   ]
  },
  {
   "cell_type": "code",
   "execution_count": null,
   "metadata": {},
   "outputs": [],
   "source": [
    "bar_width = 0.2\n",
    "r1 = np.arange(0,11) - 0.2\n",
    "r2 = [x + bar_width for x in r1]\n",
    "r3 = [x + bar_width for x in r2]\n",
    "ax = plt.subplot()\n",
    "plt.bar(x = r1, height = sfs_YRI/ts_YRI.num_sites, width=bar_width, color='grey')\n",
    "plt.bar(x = r2, height = sfs_CEU/ts_CEU.num_sites, width=bar_width, color='lightblue')\n",
    "plt.bar(x = r3, height = sfs_CHB/ts_CHB.num_sites, width=bar_width, color='green')\n",
    "plt.xlabel(\"Allele count\", fontweight=\"bold\")\n",
    "plt.ylabel(\"Proportion of mutated sites in sample\", fontweight=\"bold\")\n",
    "ax.set_xticks(np.arange(0,11))\n",
    "ax.legend(['YRI', 'CEU', 'CHB'])\n",
    "plt.plot()"
   ]
  },
  {
   "cell_type": "markdown",
   "metadata": {},
   "source": [
    "-------------------------------\n",
    "## Try out the [tutorials](https://stdpopsim.readthedocs.io/en/latest/tutorial.html#) yourself\n",
    "\n",
    "*Remember, if you want to play with the CLI, use the Jupyter Notebook bash magic at the beginning of the cell `%%bash`*"
   ]
  },
  {
   "cell_type": "code",
   "execution_count": null,
   "metadata": {},
   "outputs": [],
   "source": []
  }
 ],
 "metadata": {
  "kernelspec": {
   "display_name": "Python 3 (ipykernel)",
   "language": "python",
   "name": "python3"
  },
  "language_info": {
   "codemirror_mode": {
    "name": "ipython",
    "version": 3
   },
   "file_extension": ".py",
   "mimetype": "text/x-python",
   "name": "python",
   "nbconvert_exporter": "python",
   "pygments_lexer": "ipython3",
   "version": "3.11.4"
  }
 },
 "nbformat": 4,
 "nbformat_minor": 4
}
