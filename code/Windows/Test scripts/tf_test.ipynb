{
 "cells": [
  {
   "cell_type": "code",
   "execution_count": 1,
   "id": "4df87ca8",
   "metadata": {},
   "outputs": [],
   "source": [
    "import tensorflow as tf\n",
    "from tensorflow.keras import models, layers\n",
    "import numpy as np"
   ]
  },
  {
   "cell_type": "code",
   "execution_count": 2,
   "id": "2009bdc2",
   "metadata": {},
   "outputs": [],
   "source": [
    "#build simple MLP model cont output discrete inputs dim 100 one hidden layer\n",
    "model = models.Sequential()\n",
    "model.add(tf.keras.Input(shape=(100,)))\n",
    "model.add(tf.keras.layers.Dense(8))\n",
    "model.add(tf.keras.layers.Dense(1))\n",
    "model.compile(optimizer='sgd', loss='mse')"
   ]
  },
  {
   "cell_type": "code",
   "execution_count": 3,
   "id": "6eec077b",
   "metadata": {},
   "outputs": [],
   "source": [
    "#generate random samples from gaussian dist\n",
    "train_x = np.random.normal(0, 1, size = (900, 100))\n",
    "train_y = np.random.normal(0,1, size = (900, 1))\n",
    "test_x = np.random.normal(0, 1, size = (100, 100))"
   ]
  },
  {
   "cell_type": "code",
   "execution_count": 4,
   "id": "6f568d40",
   "metadata": {},
   "outputs": [
    {
     "name": "stdout",
     "output_type": "stream",
     "text": [
      "Epoch 1/10\n",
      "29/29 [==============================] - 1s 2ms/step - loss: 2.0310\n",
      "Epoch 2/10\n",
      "29/29 [==============================] - 0s 1ms/step - loss: 1.1109\n",
      "Epoch 3/10\n",
      "29/29 [==============================] - 0s 1ms/step - loss: 0.9959\n",
      "Epoch 4/10\n",
      "29/29 [==============================] - 0s 1ms/step - loss: 0.9607\n",
      "Epoch 5/10\n",
      "29/29 [==============================] - 0s 1ms/step - loss: 0.9307\n",
      "Epoch 6/10\n",
      "29/29 [==============================] - 0s 1ms/step - loss: 0.9213\n",
      "Epoch 7/10\n",
      "29/29 [==============================] - 0s 1ms/step - loss: 0.9117\n",
      "Epoch 8/10\n",
      "29/29 [==============================] - 0s 1ms/step - loss: 0.9063\n",
      "Epoch 9/10\n",
      "29/29 [==============================] - 0s 1ms/step - loss: 0.9036\n",
      "Epoch 10/10\n",
      "29/29 [==============================] - 0s 1ms/step - loss: 0.9000\n"
     ]
    },
    {
     "data": {
      "text/plain": [
       "<keras.src.callbacks.History at 0x2bc8a962310>"
      ]
     },
     "execution_count": 4,
     "metadata": {},
     "output_type": "execute_result"
    }
   ],
   "source": [
    "model.fit(train_x, train_y, epochs = 10)"
   ]
  },
  {
   "cell_type": "code",
   "execution_count": 5,
   "id": "33e3222f",
   "metadata": {},
   "outputs": [
    {
     "name": "stdout",
     "output_type": "stream",
     "text": [
      "29/29 [==============================] - 0s 1ms/step - loss: 0.8761\n"
     ]
    },
    {
     "data": {
      "text/plain": [
       "0.8760954737663269"
      ]
     },
     "execution_count": 5,
     "metadata": {},
     "output_type": "execute_result"
    }
   ],
   "source": [
    "model.evaluate(train_x, train_y)"
   ]
  },
  {
   "cell_type": "code",
   "execution_count": 6,
   "id": "ecc48009",
   "metadata": {},
   "outputs": [
    {
     "name": "stdout",
     "output_type": "stream",
     "text": [
      "4/4 [==============================] - 0s 6ms/step\n"
     ]
    },
    {
     "data": {
      "text/plain": [
       "array([[ 3.6980790e-01],\n",
       "       [-1.5657762e-01],\n",
       "       [-4.1179544e-01],\n",
       "       [ 3.2958403e-02],\n",
       "       [ 1.7834723e-01],\n",
       "       [ 3.2179961e-01],\n",
       "       [-2.1263300e-01],\n",
       "       [-2.7869356e-01],\n",
       "       [ 1.8105523e-01],\n",
       "       [ 1.3719285e-01],\n",
       "       [-1.9679065e-01],\n",
       "       [ 4.2684287e-02],\n",
       "       [-8.5160166e-02],\n",
       "       [-1.3178417e-01],\n",
       "       [-4.5926523e-01],\n",
       "       [-1.8050805e-01],\n",
       "       [-2.7696189e-01],\n",
       "       [-9.4520807e-02],\n",
       "       [ 4.1015494e-01],\n",
       "       [-1.8143436e-01],\n",
       "       [ 1.5992731e-01],\n",
       "       [ 6.9540918e-02],\n",
       "       [ 8.8595226e-04],\n",
       "       [-3.7581152e-01],\n",
       "       [-1.2994422e-01],\n",
       "       [-1.5574449e-01],\n",
       "       [ 3.6614612e-01],\n",
       "       [-3.7682042e-02],\n",
       "       [ 3.3735576e-01],\n",
       "       [-3.2416505e-01],\n",
       "       [-3.9257455e-01],\n",
       "       [ 2.8873581e-01],\n",
       "       [ 2.1931046e-01],\n",
       "       [-2.1458061e-02],\n",
       "       [-2.5265606e-02],\n",
       "       [-7.8200184e-02],\n",
       "       [-3.7512046e-01],\n",
       "       [ 4.1783649e-01],\n",
       "       [-4.1854542e-01],\n",
       "       [-1.3818091e-01],\n",
       "       [ 2.8820890e-01],\n",
       "       [ 1.4370170e-01],\n",
       "       [-3.4793746e-01],\n",
       "       [ 2.1862093e-01],\n",
       "       [-1.2543392e-01],\n",
       "       [ 5.2052867e-01],\n",
       "       [ 1.3935941e-01],\n",
       "       [-2.9211092e-01],\n",
       "       [-3.2520026e-01],\n",
       "       [ 5.4969805e-01],\n",
       "       [ 1.0541129e-01],\n",
       "       [ 4.8913062e-02],\n",
       "       [-1.7429093e-01],\n",
       "       [ 1.9908988e-01],\n",
       "       [ 9.4378233e-02],\n",
       "       [-1.0679731e-01],\n",
       "       [ 1.7871314e-01],\n",
       "       [-2.4386650e-01],\n",
       "       [-3.5193545e-01],\n",
       "       [-3.2310593e-01],\n",
       "       [ 9.7715914e-01],\n",
       "       [-5.0435066e-02],\n",
       "       [-7.1007103e-01],\n",
       "       [-3.7475842e-01],\n",
       "       [-2.4330342e-01],\n",
       "       [-2.5731446e-02],\n",
       "       [-3.6682570e-01],\n",
       "       [ 2.4226704e-01],\n",
       "       [-9.9931419e-02],\n",
       "       [ 2.5289178e-01],\n",
       "       [ 3.8250089e-02],\n",
       "       [ 3.7024193e-02],\n",
       "       [ 1.5528141e-02],\n",
       "       [ 3.2441895e-03],\n",
       "       [-1.0814214e-01],\n",
       "       [ 3.5040450e-01],\n",
       "       [-1.3968650e-01],\n",
       "       [-5.0817716e-01],\n",
       "       [ 1.0301292e-01],\n",
       "       [-1.4887469e-02],\n",
       "       [-5.2803415e-01],\n",
       "       [ 2.4588013e-01],\n",
       "       [ 3.2011214e-01],\n",
       "       [ 7.4073851e-02],\n",
       "       [ 1.9890535e-01],\n",
       "       [-5.9567553e-01],\n",
       "       [ 4.0743485e-02],\n",
       "       [-2.4984178e-01],\n",
       "       [ 2.5551778e-01],\n",
       "       [-4.1831514e-01],\n",
       "       [ 4.2081481e-01],\n",
       "       [ 2.9640454e-01],\n",
       "       [ 2.9082054e-01],\n",
       "       [-9.3576741e-01],\n",
       "       [ 6.3724208e-01],\n",
       "       [-8.0853909e-01],\n",
       "       [ 5.5997688e-01],\n",
       "       [ 3.6405534e-01],\n",
       "       [-2.8952205e-01],\n",
       "       [-1.0161042e+00]], dtype=float32)"
      ]
     },
     "execution_count": 6,
     "metadata": {},
     "output_type": "execute_result"
    }
   ],
   "source": [
    "model.predict(test_x)"
   ]
  }
 ],
 "metadata": {
  "kernelspec": {
   "display_name": "Python 3 (ipykernel)",
   "language": "python",
   "name": "python3"
  },
  "language_info": {
   "codemirror_mode": {
    "name": "ipython",
    "version": 3
   },
   "file_extension": ".py",
   "mimetype": "text/x-python",
   "name": "python",
   "nbconvert_exporter": "python",
   "pygments_lexer": "ipython3",
   "version": "3.11.4"
  }
 },
 "nbformat": 4,
 "nbformat_minor": 5
}
