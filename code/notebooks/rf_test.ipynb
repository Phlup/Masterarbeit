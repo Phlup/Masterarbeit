{
 "cells": [
  {
   "cell_type": "code",
   "execution_count": 1,
   "id": "6a5c6fa7",
   "metadata": {},
   "outputs": [],
   "source": [
    "from sklearn.ensemble import RandomForestRegressor\n",
    "import numpy as np\n",
    "import pandas as pd\n",
    "import matplotlib.pyplot as plt"
   ]
  },
  {
   "cell_type": "code",
   "execution_count": 2,
   "id": "2bf9ba12",
   "metadata": {},
   "outputs": [],
   "source": [
    "train_x = np.random.normal(0, 1, size = (900, 100))\n",
    "train_y = np.random.normal(0,1, size = 900)\n",
    "test_x = np.random.normal(0, 1, size = (100, 100))"
   ]
  },
  {
   "cell_type": "code",
   "execution_count": 3,
   "id": "cf89a0a8",
   "metadata": {},
   "outputs": [],
   "source": [
    "regr = RandomForestRegressor(max_depth=2, random_state=0)"
   ]
  },
  {
   "cell_type": "code",
   "execution_count": 4,
   "id": "40a0dc70",
   "metadata": {},
   "outputs": [
    {
     "data": {
      "text/html": [
       "<style>#sk-container-id-1 {color: black;}#sk-container-id-1 pre{padding: 0;}#sk-container-id-1 div.sk-toggleable {background-color: white;}#sk-container-id-1 label.sk-toggleable__label {cursor: pointer;display: block;width: 100%;margin-bottom: 0;padding: 0.3em;box-sizing: border-box;text-align: center;}#sk-container-id-1 label.sk-toggleable__label-arrow:before {content: \"▸\";float: left;margin-right: 0.25em;color: #696969;}#sk-container-id-1 label.sk-toggleable__label-arrow:hover:before {color: black;}#sk-container-id-1 div.sk-estimator:hover label.sk-toggleable__label-arrow:before {color: black;}#sk-container-id-1 div.sk-toggleable__content {max-height: 0;max-width: 0;overflow: hidden;text-align: left;background-color: #f0f8ff;}#sk-container-id-1 div.sk-toggleable__content pre {margin: 0.2em;color: black;border-radius: 0.25em;background-color: #f0f8ff;}#sk-container-id-1 input.sk-toggleable__control:checked~div.sk-toggleable__content {max-height: 200px;max-width: 100%;overflow: auto;}#sk-container-id-1 input.sk-toggleable__control:checked~label.sk-toggleable__label-arrow:before {content: \"▾\";}#sk-container-id-1 div.sk-estimator input.sk-toggleable__control:checked~label.sk-toggleable__label {background-color: #d4ebff;}#sk-container-id-1 div.sk-label input.sk-toggleable__control:checked~label.sk-toggleable__label {background-color: #d4ebff;}#sk-container-id-1 input.sk-hidden--visually {border: 0;clip: rect(1px 1px 1px 1px);clip: rect(1px, 1px, 1px, 1px);height: 1px;margin: -1px;overflow: hidden;padding: 0;position: absolute;width: 1px;}#sk-container-id-1 div.sk-estimator {font-family: monospace;background-color: #f0f8ff;border: 1px dotted black;border-radius: 0.25em;box-sizing: border-box;margin-bottom: 0.5em;}#sk-container-id-1 div.sk-estimator:hover {background-color: #d4ebff;}#sk-container-id-1 div.sk-parallel-item::after {content: \"\";width: 100%;border-bottom: 1px solid gray;flex-grow: 1;}#sk-container-id-1 div.sk-label:hover label.sk-toggleable__label {background-color: #d4ebff;}#sk-container-id-1 div.sk-serial::before {content: \"\";position: absolute;border-left: 1px solid gray;box-sizing: border-box;top: 0;bottom: 0;left: 50%;z-index: 0;}#sk-container-id-1 div.sk-serial {display: flex;flex-direction: column;align-items: center;background-color: white;padding-right: 0.2em;padding-left: 0.2em;position: relative;}#sk-container-id-1 div.sk-item {position: relative;z-index: 1;}#sk-container-id-1 div.sk-parallel {display: flex;align-items: stretch;justify-content: center;background-color: white;position: relative;}#sk-container-id-1 div.sk-item::before, #sk-container-id-1 div.sk-parallel-item::before {content: \"\";position: absolute;border-left: 1px solid gray;box-sizing: border-box;top: 0;bottom: 0;left: 50%;z-index: -1;}#sk-container-id-1 div.sk-parallel-item {display: flex;flex-direction: column;z-index: 1;position: relative;background-color: white;}#sk-container-id-1 div.sk-parallel-item:first-child::after {align-self: flex-end;width: 50%;}#sk-container-id-1 div.sk-parallel-item:last-child::after {align-self: flex-start;width: 50%;}#sk-container-id-1 div.sk-parallel-item:only-child::after {width: 0;}#sk-container-id-1 div.sk-dashed-wrapped {border: 1px dashed gray;margin: 0 0.4em 0.5em 0.4em;box-sizing: border-box;padding-bottom: 0.4em;background-color: white;}#sk-container-id-1 div.sk-label label {font-family: monospace;font-weight: bold;display: inline-block;line-height: 1.2em;}#sk-container-id-1 div.sk-label-container {text-align: center;}#sk-container-id-1 div.sk-container {/* jupyter's `normalize.less` sets `[hidden] { display: none; }` but bootstrap.min.css set `[hidden] { display: none !important; }` so we also need the `!important` here to be able to override the default hidden behavior on the sphinx rendered scikit-learn.org. See: https://github.com/scikit-learn/scikit-learn/issues/21755 */display: inline-block !important;position: relative;}#sk-container-id-1 div.sk-text-repr-fallback {display: none;}</style><div id=\"sk-container-id-1\" class=\"sk-top-container\"><div class=\"sk-text-repr-fallback\"><pre>RandomForestRegressor(max_depth=2, random_state=0)</pre><b>In a Jupyter environment, please rerun this cell to show the HTML representation or trust the notebook. <br />On GitHub, the HTML representation is unable to render, please try loading this page with nbviewer.org.</b></div><div class=\"sk-container\" hidden><div class=\"sk-item\"><div class=\"sk-estimator sk-toggleable\"><input class=\"sk-toggleable__control sk-hidden--visually\" id=\"sk-estimator-id-1\" type=\"checkbox\" checked><label for=\"sk-estimator-id-1\" class=\"sk-toggleable__label sk-toggleable__label-arrow\">RandomForestRegressor</label><div class=\"sk-toggleable__content\"><pre>RandomForestRegressor(max_depth=2, random_state=0)</pre></div></div></div></div></div>"
      ],
      "text/plain": [
       "RandomForestRegressor(max_depth=2, random_state=0)"
      ]
     },
     "execution_count": 4,
     "metadata": {},
     "output_type": "execute_result"
    }
   ],
   "source": [
    "regr.fit(train_x, train_y)"
   ]
  },
  {
   "cell_type": "code",
   "execution_count": 5,
   "id": "d7282be3",
   "metadata": {
    "scrolled": true
   },
   "outputs": [
    {
     "data": {
      "text/plain": [
       "array([ 0.06033692,  0.00075185, -0.00476304,  0.11174557,  0.08379323,\n",
       "        0.06243642,  0.09038716,  0.20592696,  0.14502725,  0.04839663,\n",
       "        0.04108528, -0.0050428 ,  0.08528952,  0.04630708, -0.04867834,\n",
       "        0.08578142,  0.01133894, -0.00131304,  0.04951661,  0.08307824,\n",
       "       -0.03534798,  0.02493222,  0.07298209,  0.14800504,  0.00998179,\n",
       "       -0.00092509,  0.09048092,  0.02016444,  0.0159993 ,  0.02838183,\n",
       "        0.10190226,  0.08384772,  0.08151716,  0.19752978,  0.03296702,\n",
       "        0.06639706,  0.09294231,  0.02966089,  0.06240555,  0.11015584,\n",
       "        0.13654681,  0.0225217 ,  0.07579038,  0.12102871,  0.11440558,\n",
       "       -0.09095144,  0.12551011,  0.02817746,  0.04748533, -0.00156136,\n",
       "        0.09994019, -0.04549536,  0.11437431,  0.09973238,  0.08882896,\n",
       "        0.06693243,  0.06104315, -0.02729246,  0.11639508,  0.04501935,\n",
       "        0.03924581,  0.13212897,  0.04923909,  0.03470871,  0.10953284,\n",
       "        0.00465892,  0.03890974,  0.12856794,  0.07230913,  0.08089686,\n",
       "        0.02310532,  0.02296139,  0.02994302,  0.14304903,  0.08929542,\n",
       "        0.03511651,  0.03846162, -0.15336333,  0.10053163,  0.00428482,\n",
       "        0.09871292,  0.09060454,  0.11116264,  0.00635664,  0.0564194 ,\n",
       "        0.06840295,  0.16668597,  0.04365937,  0.02160644,  0.03353888,\n",
       "        0.00347481,  0.09884201,  0.07237649, -0.0126643 ,  0.09823735,\n",
       "        0.02252669,  0.06261914,  0.09971703,  0.07897722,  0.07576661])"
      ]
     },
     "execution_count": 5,
     "metadata": {},
     "output_type": "execute_result"
    }
   ],
   "source": [
    "regr.predict(test_x)"
   ]
  },
  {
   "cell_type": "code",
   "execution_count": 6,
   "id": "a492fa5f",
   "metadata": {},
   "outputs": [
    {
     "data": {
      "text/plain": [
       "array([1.19631260e-02, 0.00000000e+00, 3.99847630e-02, 4.27166193e-03,\n",
       "       2.51785257e-02, 1.28874704e-02, 7.07825959e-03, 1.79384795e-02,\n",
       "       3.72208351e-04, 0.00000000e+00, 1.15339027e-02, 0.00000000e+00,\n",
       "       0.00000000e+00, 2.11082695e-02, 6.28128408e-03, 1.08474082e-02,\n",
       "       5.74326631e-03, 1.50359244e-02, 2.70956315e-03, 2.86410421e-03,\n",
       "       2.64817361e-02, 1.87808649e-02, 1.93325577e-02, 1.94484566e-03,\n",
       "       0.00000000e+00, 3.45548840e-03, 8.46894336e-03, 2.76734086e-03,\n",
       "       4.90000166e-03, 4.80519566e-03, 4.80096894e-03, 2.45498415e-03,\n",
       "       7.91375954e-03, 1.02965572e-05, 2.00847570e-03, 1.40178782e-02,\n",
       "       2.94884986e-03, 5.12493812e-03, 8.24214435e-02, 9.94780332e-03,\n",
       "       7.11552746e-03, 1.98444661e-02, 6.97006461e-03, 0.00000000e+00,\n",
       "       1.31352900e-02, 1.18399522e-02, 3.03193607e-02, 1.01093429e-02,\n",
       "       6.50676676e-03, 1.40232777e-02, 6.04600891e-03, 8.90769616e-03,\n",
       "       4.09022954e-03, 2.85694743e-03, 2.90520217e-02, 1.27545622e-02,\n",
       "       0.00000000e+00, 3.00948843e-03, 0.00000000e+00, 0.00000000e+00,\n",
       "       4.36375122e-03, 0.00000000e+00, 0.00000000e+00, 0.00000000e+00,\n",
       "       0.00000000e+00, 0.00000000e+00, 3.75725327e-02, 8.63824944e-03,\n",
       "       6.44694285e-02, 4.40863364e-03, 6.89964856e-03, 6.83284173e-03,\n",
       "       4.56730649e-03, 5.54724467e-02, 0.00000000e+00, 7.18358220e-03,\n",
       "       3.22885037e-05, 4.14368863e-04, 2.54053042e-03, 1.50400668e-03,\n",
       "       6.59064403e-03, 0.00000000e+00, 0.00000000e+00, 1.89573334e-02,\n",
       "       4.00075480e-03, 0.00000000e+00, 2.97812206e-03, 0.00000000e+00,\n",
       "       2.13303328e-02, 1.25567332e-03, 0.00000000e+00, 7.12101660e-03,\n",
       "       3.63611678e-02, 2.07274770e-02, 1.58754407e-02, 1.64742326e-02,\n",
       "       1.29101689e-02, 5.06382646e-03, 1.92811259e-02, 1.20747585e-03])"
      ]
     },
     "execution_count": 6,
     "metadata": {},
     "output_type": "execute_result"
    }
   ],
   "source": [
    "#better for longer segments not individual 'sites' \n",
    "#see https://scikit-learn.org/stable/modules/generated/sklearn.inspection.permutation_importance\n",
    "importances = regr.feature_importances_\n",
    "importances"
   ]
  },
  {
   "cell_type": "code",
   "execution_count": 7,
   "id": "32a4c031",
   "metadata": {},
   "outputs": [],
   "source": [
    "#plot importances, better for segments\n",
    "#forest_importances = pd.Series(importances, index=feature_names)\n",
    "#\n",
    "#fig, ax = plt.subplots()\n",
    "#forest_importances.plot.bar(yerr=std, ax=ax)\n",
    "#ax.set_title(\"Feature importances using MDI\")\n",
    "#ax.set_ylabel(\"Mean decrease in impurity\")\n",
    "#fig.tight_layout()"
   ]
  }
 ],
 "metadata": {
  "kernelspec": {
   "display_name": "Python 3 (ipykernel)",
   "language": "python",
   "name": "python3"
  },
  "language_info": {
   "codemirror_mode": {
    "name": "ipython",
    "version": 3
   },
   "file_extension": ".py",
   "mimetype": "text/x-python",
   "name": "python",
   "nbconvert_exporter": "python",
   "pygments_lexer": "ipython3",
   "version": "3.11.4"
  }
 },
 "nbformat": 4,
 "nbformat_minor": 5
}
