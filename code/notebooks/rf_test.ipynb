{
 "cells": [
  {
   "cell_type": "code",
   "execution_count": 17,
   "id": "6a5c6fa7",
   "metadata": {},
   "outputs": [],
   "source": [
    "from sklearn.ensemble import RandomForestRegressor\n",
    "import numpy as np\n",
    "import pandas as pd\n",
    "import matplotlib.pyplot as plt"
   ]
  },
  {
   "cell_type": "code",
   "execution_count": 9,
   "id": "2bf9ba12",
   "metadata": {},
   "outputs": [],
   "source": [
    "train_x = np.random.normal(0, 1, size = (900, 100))\n",
    "train_y = np.random.normal(0,1, size = 900)\n",
    "test_x = np.random.normal(0, 1, size = (100, 100))"
   ]
  },
  {
   "cell_type": "code",
   "execution_count": 6,
   "id": "cf89a0a8",
   "metadata": {},
   "outputs": [],
   "source": [
    "regr = RandomForestRegressor(max_depth=2, random_state=0)"
   ]
  },
  {
   "cell_type": "code",
   "execution_count": 10,
   "id": "40a0dc70",
   "metadata": {},
   "outputs": [
    {
     "data": {
      "text/html": [
       "<style>#sk-container-id-2 {color: black;}#sk-container-id-2 pre{padding: 0;}#sk-container-id-2 div.sk-toggleable {background-color: white;}#sk-container-id-2 label.sk-toggleable__label {cursor: pointer;display: block;width: 100%;margin-bottom: 0;padding: 0.3em;box-sizing: border-box;text-align: center;}#sk-container-id-2 label.sk-toggleable__label-arrow:before {content: \"▸\";float: left;margin-right: 0.25em;color: #696969;}#sk-container-id-2 label.sk-toggleable__label-arrow:hover:before {color: black;}#sk-container-id-2 div.sk-estimator:hover label.sk-toggleable__label-arrow:before {color: black;}#sk-container-id-2 div.sk-toggleable__content {max-height: 0;max-width: 0;overflow: hidden;text-align: left;background-color: #f0f8ff;}#sk-container-id-2 div.sk-toggleable__content pre {margin: 0.2em;color: black;border-radius: 0.25em;background-color: #f0f8ff;}#sk-container-id-2 input.sk-toggleable__control:checked~div.sk-toggleable__content {max-height: 200px;max-width: 100%;overflow: auto;}#sk-container-id-2 input.sk-toggleable__control:checked~label.sk-toggleable__label-arrow:before {content: \"▾\";}#sk-container-id-2 div.sk-estimator input.sk-toggleable__control:checked~label.sk-toggleable__label {background-color: #d4ebff;}#sk-container-id-2 div.sk-label input.sk-toggleable__control:checked~label.sk-toggleable__label {background-color: #d4ebff;}#sk-container-id-2 input.sk-hidden--visually {border: 0;clip: rect(1px 1px 1px 1px);clip: rect(1px, 1px, 1px, 1px);height: 1px;margin: -1px;overflow: hidden;padding: 0;position: absolute;width: 1px;}#sk-container-id-2 div.sk-estimator {font-family: monospace;background-color: #f0f8ff;border: 1px dotted black;border-radius: 0.25em;box-sizing: border-box;margin-bottom: 0.5em;}#sk-container-id-2 div.sk-estimator:hover {background-color: #d4ebff;}#sk-container-id-2 div.sk-parallel-item::after {content: \"\";width: 100%;border-bottom: 1px solid gray;flex-grow: 1;}#sk-container-id-2 div.sk-label:hover label.sk-toggleable__label {background-color: #d4ebff;}#sk-container-id-2 div.sk-serial::before {content: \"\";position: absolute;border-left: 1px solid gray;box-sizing: border-box;top: 0;bottom: 0;left: 50%;z-index: 0;}#sk-container-id-2 div.sk-serial {display: flex;flex-direction: column;align-items: center;background-color: white;padding-right: 0.2em;padding-left: 0.2em;position: relative;}#sk-container-id-2 div.sk-item {position: relative;z-index: 1;}#sk-container-id-2 div.sk-parallel {display: flex;align-items: stretch;justify-content: center;background-color: white;position: relative;}#sk-container-id-2 div.sk-item::before, #sk-container-id-2 div.sk-parallel-item::before {content: \"\";position: absolute;border-left: 1px solid gray;box-sizing: border-box;top: 0;bottom: 0;left: 50%;z-index: -1;}#sk-container-id-2 div.sk-parallel-item {display: flex;flex-direction: column;z-index: 1;position: relative;background-color: white;}#sk-container-id-2 div.sk-parallel-item:first-child::after {align-self: flex-end;width: 50%;}#sk-container-id-2 div.sk-parallel-item:last-child::after {align-self: flex-start;width: 50%;}#sk-container-id-2 div.sk-parallel-item:only-child::after {width: 0;}#sk-container-id-2 div.sk-dashed-wrapped {border: 1px dashed gray;margin: 0 0.4em 0.5em 0.4em;box-sizing: border-box;padding-bottom: 0.4em;background-color: white;}#sk-container-id-2 div.sk-label label {font-family: monospace;font-weight: bold;display: inline-block;line-height: 1.2em;}#sk-container-id-2 div.sk-label-container {text-align: center;}#sk-container-id-2 div.sk-container {/* jupyter's `normalize.less` sets `[hidden] { display: none; }` but bootstrap.min.css set `[hidden] { display: none !important; }` so we also need the `!important` here to be able to override the default hidden behavior on the sphinx rendered scikit-learn.org. See: https://github.com/scikit-learn/scikit-learn/issues/21755 */display: inline-block !important;position: relative;}#sk-container-id-2 div.sk-text-repr-fallback {display: none;}</style><div id=\"sk-container-id-2\" class=\"sk-top-container\"><div class=\"sk-text-repr-fallback\"><pre>RandomForestRegressor(max_depth=2, random_state=0)</pre><b>In a Jupyter environment, please rerun this cell to show the HTML representation or trust the notebook. <br />On GitHub, the HTML representation is unable to render, please try loading this page with nbviewer.org.</b></div><div class=\"sk-container\" hidden><div class=\"sk-item\"><div class=\"sk-estimator sk-toggleable\"><input class=\"sk-toggleable__control sk-hidden--visually\" id=\"sk-estimator-id-2\" type=\"checkbox\" checked><label for=\"sk-estimator-id-2\" class=\"sk-toggleable__label sk-toggleable__label-arrow\">RandomForestRegressor</label><div class=\"sk-toggleable__content\"><pre>RandomForestRegressor(max_depth=2, random_state=0)</pre></div></div></div></div></div>"
      ],
      "text/plain": [
       "RandomForestRegressor(max_depth=2, random_state=0)"
      ]
     },
     "execution_count": 10,
     "metadata": {},
     "output_type": "execute_result"
    }
   ],
   "source": [
    "regr.fit(train_x, train_y)"
   ]
  },
  {
   "cell_type": "code",
   "execution_count": 12,
   "id": "d7282be3",
   "metadata": {
    "scrolled": true
   },
   "outputs": [
    {
     "data": {
      "text/plain": [
       "array([-0.01411734, -0.06562285, -0.07555407, -0.11888984,  0.03641781,\n",
       "       -0.10340825, -0.05070999, -0.12939874, -0.10237855, -0.03618698,\n",
       "       -0.02719348, -0.04038576,  0.08799663, -0.10138834, -0.04719228,\n",
       "       -0.05749922, -0.05652239, -0.11177253, -0.09538765, -0.06737193,\n",
       "       -0.11612991, -0.1078752 , -0.12053134, -0.07356211,  0.01700144,\n",
       "       -0.11144803, -0.0827313 , -0.00278827, -0.06791296, -0.05570644,\n",
       "       -0.09037614, -0.11292116, -0.03058117, -0.09030439, -0.01492476,\n",
       "       -0.07937538, -0.07196901, -0.03595287, -0.019108  ,  0.01207035,\n",
       "        0.0472888 , -0.06550482, -0.06736939, -0.08920491, -0.04938685,\n",
       "       -0.01367124, -0.01126805, -0.05386801, -0.10805002, -0.08551334,\n",
       "       -0.06314242, -0.03445051, -0.06644398, -0.15014376, -0.11487433,\n",
       "       -0.0615333 , -0.01391481, -0.02272182, -0.07517966, -0.07649909,\n",
       "       -0.03444042, -0.00820155, -0.09087022, -0.22394186, -0.08209404,\n",
       "       -0.17923863, -0.10161423,  0.00595294, -0.09260226, -0.01634321,\n",
       "       -0.06600912, -0.03532536, -0.01796485, -0.1287207 ,  0.0133192 ,\n",
       "       -0.11625989, -0.13281849, -0.0367197 , -0.13125503, -0.17649431,\n",
       "       -0.12047188,  0.00146499,  0.01465054, -0.05294339,  0.07560471,\n",
       "       -0.10049353, -0.13268671, -0.04343977, -0.13058324, -0.08897593,\n",
       "       -0.08083665, -0.03184536, -0.11035109, -0.01168237, -0.03531604,\n",
       "       -0.04881805, -0.07186693, -0.07895809, -0.09527877, -0.01927568])"
      ]
     },
     "execution_count": 12,
     "metadata": {},
     "output_type": "execute_result"
    }
   ],
   "source": [
    "regr.predict(test_x)"
   ]
  },
  {
   "cell_type": "code",
   "execution_count": 15,
   "id": "a492fa5f",
   "metadata": {},
   "outputs": [
    {
     "data": {
      "text/plain": [
       "array([0.00000000e+00, 2.51269674e-04, 5.18640232e-03, 0.00000000e+00,\n",
       "       0.00000000e+00, 7.73640511e-03, 0.00000000e+00, 1.47139444e-02,\n",
       "       3.27516413e-03, 5.73897329e-03, 8.97746703e-03, 5.53780002e-04,\n",
       "       3.13382845e-03, 4.99462892e-03, 5.61412492e-03, 6.01355901e-02,\n",
       "       6.52858118e-03, 5.41067226e-03, 0.00000000e+00, 1.86793182e-02,\n",
       "       1.78304994e-02, 0.00000000e+00, 6.93257272e-03, 8.43263982e-03,\n",
       "       3.97995784e-02, 1.24631082e-02, 4.10486036e-02, 4.04914275e-02,\n",
       "       9.22294613e-03, 8.60292616e-02, 6.96342332e-03, 0.00000000e+00,\n",
       "       3.55656890e-02, 1.56837908e-05, 0.00000000e+00, 0.00000000e+00,\n",
       "       3.82420898e-02, 0.00000000e+00, 1.29814453e-02, 0.00000000e+00,\n",
       "       0.00000000e+00, 1.34607214e-02, 0.00000000e+00, 8.72616196e-03,\n",
       "       0.00000000e+00, 0.00000000e+00, 1.07358622e-02, 2.82352928e-02,\n",
       "       7.47207183e-03, 0.00000000e+00, 1.10335186e-02, 7.63018132e-03,\n",
       "       0.00000000e+00, 5.70430291e-03, 4.98693975e-02, 2.22012742e-03,\n",
       "       1.75955523e-02, 4.48040270e-03, 0.00000000e+00, 1.36679505e-03,\n",
       "       2.43875882e-03, 3.41792466e-02, 1.78442213e-02, 1.83688920e-02,\n",
       "       0.00000000e+00, 6.27023189e-03, 0.00000000e+00, 0.00000000e+00,\n",
       "       4.39068976e-03, 1.30179332e-02, 0.00000000e+00, 0.00000000e+00,\n",
       "       7.78500134e-03, 1.26761163e-02, 4.50523628e-03, 1.80483495e-03,\n",
       "       0.00000000e+00, 0.00000000e+00, 2.67658868e-03, 4.06947261e-03,\n",
       "       5.68735458e-03, 5.96684877e-03, 0.00000000e+00, 6.55057890e-03,\n",
       "       7.04959378e-03, 1.52208917e-03, 1.04956431e-02, 7.84408117e-02,\n",
       "       3.54146046e-03, 4.93177480e-03, 2.82608145e-03, 2.82367118e-02,\n",
       "       3.51331711e-03, 3.57281618e-03, 1.05418175e-02, 3.19823517e-03,\n",
       "       7.19112594e-03, 8.42483670e-03, 0.00000000e+00, 2.80217255e-03])"
      ]
     },
     "execution_count": 15,
     "metadata": {},
     "output_type": "execute_result"
    }
   ],
   "source": [
    "#better for longer segments not individual 'sites' \n",
    "#see https://scikit-learn.org/stable/modules/generated/sklearn.inspection.permutation_importance\n",
    "importances = regr.feature_importances_\n",
    "importances"
   ]
  },
  {
   "cell_type": "code",
   "execution_count": null,
   "id": "32a4c031",
   "metadata": {},
   "outputs": [],
   "source": [
    "#plot importances, better for segments\n",
    "#forest_importances = pd.Series(importances, index=feature_names)\n",
    "#\n",
    "#fig, ax = plt.subplots()\n",
    "#forest_importances.plot.bar(yerr=std, ax=ax)\n",
    "#ax.set_title(\"Feature importances using MDI\")\n",
    "#ax.set_ylabel(\"Mean decrease in impurity\")\n",
    "#fig.tight_layout()"
   ]
  }
 ],
 "metadata": {
  "kernelspec": {
   "display_name": "Python 3 (ipykernel)",
   "language": "python",
   "name": "python3"
  },
  "language_info": {
   "codemirror_mode": {
    "name": "ipython",
    "version": 3
   },
   "file_extension": ".py",
   "mimetype": "text/x-python",
   "name": "python",
   "nbconvert_exporter": "python",
   "pygments_lexer": "ipython3",
   "version": "3.11.4"
  }
 },
 "nbformat": 4,
 "nbformat_minor": 5
}
