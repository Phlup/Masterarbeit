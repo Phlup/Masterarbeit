{
 "cells": [
  {
   "cell_type": "code",
   "execution_count": 12,
   "id": "4df87ca8",
   "metadata": {},
   "outputs": [],
   "source": [
    "import tensorflow as tf\n",
    "from tensorflow.keras import models, layers\n",
    "import numpy as np"
   ]
  },
  {
   "cell_type": "code",
   "execution_count": 46,
   "id": "2009bdc2",
   "metadata": {},
   "outputs": [],
   "source": [
    "#build simple MLP model cont output discrete inputs dim 100 one hidden layer\n",
    "model = models.Sequential()\n",
    "model.add(tf.keras.Input(shape=(100,)))\n",
    "model.add(tf.keras.layers.Dense(8))\n",
    "model.add(tf.keras.layers.Dense(1))\n",
    "model.compile(optimizer='sgd', loss='mse')"
   ]
  },
  {
   "cell_type": "code",
   "execution_count": 47,
   "id": "6eec077b",
   "metadata": {},
   "outputs": [],
   "source": [
    "#generate random samples from gaussian dist\n",
    "train_x = np.random.normal(0, 1, size = (900, 100))\n",
    "train_y = np.random.normal(0,1, size = (900, 1))\n",
    "test_x = np.random.normal(0, 1, size = (100, 100))"
   ]
  },
  {
   "cell_type": "code",
   "execution_count": 54,
   "id": "6f568d40",
   "metadata": {},
   "outputs": [
    {
     "name": "stdout",
     "output_type": "stream",
     "text": [
      "Epoch 1/10\n",
      "29/29 [==============================] - 0s 2ms/step - loss: 0.8669\n",
      "Epoch 2/10\n",
      "29/29 [==============================] - 0s 1ms/step - loss: 0.8679\n",
      "Epoch 3/10\n",
      "29/29 [==============================] - 0s 1ms/step - loss: 0.8694\n",
      "Epoch 4/10\n",
      "29/29 [==============================] - 0s 1ms/step - loss: 0.8697\n",
      "Epoch 5/10\n",
      "29/29 [==============================] - 0s 1ms/step - loss: 0.8748\n",
      "Epoch 6/10\n",
      "29/29 [==============================] - 0s 1ms/step - loss: 0.8709\n",
      "Epoch 7/10\n",
      "29/29 [==============================] - 0s 1ms/step - loss: 0.8709\n",
      "Epoch 8/10\n",
      "29/29 [==============================] - 0s 1ms/step - loss: 0.8696\n",
      "Epoch 9/10\n",
      "29/29 [==============================] - 0s 1ms/step - loss: 0.8707\n",
      "Epoch 10/10\n",
      "29/29 [==============================] - 0s 1ms/step - loss: 0.8692\n"
     ]
    },
    {
     "data": {
      "text/plain": [
       "<keras.src.callbacks.History at 0x1a99d70ccd0>"
      ]
     },
     "execution_count": 54,
     "metadata": {},
     "output_type": "execute_result"
    }
   ],
   "source": [
    "model.fit(train_x, train_y, epochs = 10)"
   ]
  },
  {
   "cell_type": "code",
   "execution_count": 55,
   "id": "33e3222f",
   "metadata": {},
   "outputs": [
    {
     "name": "stdout",
     "output_type": "stream",
     "text": [
      "29/29 [==============================] - 0s 1ms/step - loss: 0.8564\n"
     ]
    },
    {
     "data": {
      "text/plain": [
       "0.8564390540122986"
      ]
     },
     "execution_count": 55,
     "metadata": {},
     "output_type": "execute_result"
    }
   ],
   "source": [
    "model.evaluate(train_x, train_y)"
   ]
  },
  {
   "cell_type": "code",
   "execution_count": 56,
   "id": "ecc48009",
   "metadata": {},
   "outputs": [
    {
     "name": "stdout",
     "output_type": "stream",
     "text": [
      "4/4 [==============================] - 0s 2ms/step\n"
     ]
    },
    {
     "data": {
      "text/plain": [
       "array([[ 0.35047352],\n",
       "       [ 0.2635984 ],\n",
       "       [ 0.09228536],\n",
       "       [ 0.23137906],\n",
       "       [-0.19083896],\n",
       "       [ 0.5552431 ],\n",
       "       [-0.38178888],\n",
       "       [-0.03161623],\n",
       "       [-0.17202532],\n",
       "       [-0.16564274],\n",
       "       [-0.03024665],\n",
       "       [-0.60212475],\n",
       "       [ 0.27211016],\n",
       "       [-0.33193055],\n",
       "       [-0.41940624],\n",
       "       [-0.2913244 ],\n",
       "       [-0.8029012 ],\n",
       "       [-0.6009113 ],\n",
       "       [-0.4093912 ],\n",
       "       [-0.0028524 ],\n",
       "       [-0.31187853],\n",
       "       [ 0.24323252],\n",
       "       [-0.22497067],\n",
       "       [-0.1473569 ],\n",
       "       [ 0.12262291],\n",
       "       [-0.10526723],\n",
       "       [-0.4431264 ],\n",
       "       [ 0.32476845],\n",
       "       [ 0.5180772 ],\n",
       "       [-0.32595778],\n",
       "       [ 0.22766015],\n",
       "       [ 0.4726362 ],\n",
       "       [-0.19789524],\n",
       "       [-0.26251608],\n",
       "       [-0.24555942],\n",
       "       [ 0.4763039 ],\n",
       "       [-0.16539794],\n",
       "       [ 0.12207876],\n",
       "       [ 0.13340291],\n",
       "       [-0.50829685],\n",
       "       [ 0.13466117],\n",
       "       [-0.13683158],\n",
       "       [-0.36470202],\n",
       "       [-0.21125516],\n",
       "       [ 0.267301  ],\n",
       "       [-0.03316514],\n",
       "       [-0.49640435],\n",
       "       [ 0.27623445],\n",
       "       [-0.48428196],\n",
       "       [ 0.58381313],\n",
       "       [ 0.39733005],\n",
       "       [-0.35554165],\n",
       "       [ 0.62842745],\n",
       "       [-0.09371471],\n",
       "       [-0.19766282],\n",
       "       [-0.4640053 ],\n",
       "       [ 0.02657757],\n",
       "       [-0.45116803],\n",
       "       [-0.5992325 ],\n",
       "       [ 0.33416516],\n",
       "       [-0.00621087],\n",
       "       [-0.05535918],\n",
       "       [-0.11757326],\n",
       "       [ 0.04516867],\n",
       "       [ 0.5486779 ],\n",
       "       [ 0.91398644],\n",
       "       [ 0.32609528],\n",
       "       [ 0.03661016],\n",
       "       [ 0.05395184],\n",
       "       [ 0.7177561 ],\n",
       "       [ 0.07129231],\n",
       "       [-0.31337404],\n",
       "       [ 0.28311044],\n",
       "       [-0.256113  ],\n",
       "       [ 0.00553646],\n",
       "       [ 0.28208265],\n",
       "       [ 0.21821709],\n",
       "       [-0.38239366],\n",
       "       [ 0.07672644],\n",
       "       [ 0.1219224 ],\n",
       "       [-0.20949247],\n",
       "       [ 0.14101027],\n",
       "       [ 0.35042956],\n",
       "       [-0.1763871 ],\n",
       "       [-0.19850805],\n",
       "       [-0.1772973 ],\n",
       "       [-0.06924653],\n",
       "       [ 0.51825553],\n",
       "       [-0.2994329 ],\n",
       "       [ 0.2278741 ],\n",
       "       [ 0.07736742],\n",
       "       [-0.38152337],\n",
       "       [ 0.48812172],\n",
       "       [-0.03598645],\n",
       "       [ 0.16527393],\n",
       "       [ 0.2554915 ],\n",
       "       [-0.17923807],\n",
       "       [-0.27718163],\n",
       "       [-0.46742597],\n",
       "       [ 0.05451793]], dtype=float32)"
      ]
     },
     "execution_count": 56,
     "metadata": {},
     "output_type": "execute_result"
    }
   ],
   "source": [
    "model.predict(test_x)"
   ]
  }
 ],
 "metadata": {
  "kernelspec": {
   "display_name": "Python 3 (ipykernel)",
   "language": "python",
   "name": "python3"
  },
  "language_info": {
   "codemirror_mode": {
    "name": "ipython",
    "version": 3
   },
   "file_extension": ".py",
   "mimetype": "text/x-python",
   "name": "python",
   "nbconvert_exporter": "python",
   "pygments_lexer": "ipython3",
   "version": "3.11.4"
  }
 },
 "nbformat": 4,
 "nbformat_minor": 5
}
